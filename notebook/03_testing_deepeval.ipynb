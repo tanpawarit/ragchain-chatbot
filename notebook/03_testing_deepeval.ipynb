{
 "cells": [
  {
   "cell_type": "code",
   "execution_count": null,
   "id": "2a3fa91f",
   "metadata": {},
   "outputs": [],
   "source": []
  },
  {
   "cell_type": "code",
   "execution_count": 28,
   "id": "efc33072",
   "metadata": {},
   "outputs": [
    {
     "data": {
      "text/html": [
       "<pre style=\"white-space:pre;overflow-x:auto;line-height:normal;font-family:Menlo,'DejaVu Sans Mono',consolas,'Courier New',monospace\">✨ You're running DeepEval's latest <span style=\"color: #6a00ff; text-decoration-color: #6a00ff\">Answer Relevancy Metric</span>! <span style=\"color: #374151; text-decoration-color: #374151; font-weight: bold\">(</span><span style=\"color: #374151; text-decoration-color: #374151\">using gpt-4o, </span><span style=\"color: #374151; text-decoration-color: #374151\">strict</span><span style=\"color: #374151; text-decoration-color: #374151\">=</span><span style=\"color: #374151; text-decoration-color: #374151; font-style: italic\">False</span><span style=\"color: #374151; text-decoration-color: #374151\">, </span><span style=\"color: #374151; text-decoration-color: #374151\">async_mode</span><span style=\"color: #374151; text-decoration-color: #374151\">=</span><span style=\"color: #374151; text-decoration-color: #374151; font-style: italic\">True</span><span style=\"color: #374151; text-decoration-color: #374151; font-weight: bold\">)</span><span style=\"color: #374151; text-decoration-color: #374151\">...</span>\n",
       "</pre>\n"
      ],
      "text/plain": [
       "✨ You're running DeepEval's latest \u001b[38;2;106;0;255mAnswer Relevancy Metric\u001b[0m! \u001b[1;38;2;55;65;81m(\u001b[0m\u001b[38;2;55;65;81musing gpt-4o, \u001b[0m\u001b[38;2;55;65;81mstrict\u001b[0m\u001b[38;2;55;65;81m=\u001b[0m\u001b[3;38;2;55;65;81mFalse\u001b[0m\u001b[38;2;55;65;81m, \u001b[0m\u001b[38;2;55;65;81masync_mode\u001b[0m\u001b[38;2;55;65;81m=\u001b[0m\u001b[3;38;2;55;65;81mTrue\u001b[0m\u001b[1;38;2;55;65;81m)\u001b[0m\u001b[38;2;55;65;81m...\u001b[0m\n"
      ]
     },
     "metadata": {},
     "output_type": "display_data"
    },
    {
     "data": {
      "text/html": [
       "<pre style=\"white-space:pre;overflow-x:auto;line-height:normal;font-family:Menlo,'DejaVu Sans Mono',consolas,'Courier New',monospace\">✨ You're running DeepEval's latest <span style=\"color: #6a00ff; text-decoration-color: #6a00ff\">Faithfulness Metric</span>! <span style=\"color: #374151; text-decoration-color: #374151; font-weight: bold\">(</span><span style=\"color: #374151; text-decoration-color: #374151\">using gpt-4o, </span><span style=\"color: #374151; text-decoration-color: #374151\">strict</span><span style=\"color: #374151; text-decoration-color: #374151\">=</span><span style=\"color: #374151; text-decoration-color: #374151; font-style: italic\">False</span><span style=\"color: #374151; text-decoration-color: #374151\">, </span><span style=\"color: #374151; text-decoration-color: #374151\">async_mode</span><span style=\"color: #374151; text-decoration-color: #374151\">=</span><span style=\"color: #374151; text-decoration-color: #374151; font-style: italic\">True</span><span style=\"color: #374151; text-decoration-color: #374151; font-weight: bold\">)</span><span style=\"color: #374151; text-decoration-color: #374151\">...</span>\n",
       "</pre>\n"
      ],
      "text/plain": [
       "✨ You're running DeepEval's latest \u001b[38;2;106;0;255mFaithfulness Metric\u001b[0m! \u001b[1;38;2;55;65;81m(\u001b[0m\u001b[38;2;55;65;81musing gpt-4o, \u001b[0m\u001b[38;2;55;65;81mstrict\u001b[0m\u001b[38;2;55;65;81m=\u001b[0m\u001b[3;38;2;55;65;81mFalse\u001b[0m\u001b[38;2;55;65;81m, \u001b[0m\u001b[38;2;55;65;81masync_mode\u001b[0m\u001b[38;2;55;65;81m=\u001b[0m\u001b[3;38;2;55;65;81mTrue\u001b[0m\u001b[1;38;2;55;65;81m)\u001b[0m\u001b[38;2;55;65;81m...\u001b[0m\n"
      ]
     },
     "metadata": {},
     "output_type": "display_data"
    },
    {
     "data": {
      "text/html": [
       "<pre style=\"white-space:pre;overflow-x:auto;line-height:normal;font-family:Menlo,'DejaVu Sans Mono',consolas,'Courier New',monospace\"></pre>\n"
      ],
      "text/plain": []
     },
     "metadata": {},
     "output_type": "display_data"
    },
    {
     "name": "stdout",
     "output_type": "stream",
     "text": [
      "\n",
      "======================================================================\n",
      "\n",
      "Metrics Summary\n",
      "\n",
      "  - ❌ Answer Relevancy (score: 0.0, threshold: 0.7, strict: False, evaluation model: gpt-4o, reason: The score is 0.00 because the output focused on gaming performance, screen refresh rate, and chipset design, which are unrelated to the question about whether the GameMaster Pro phone can eat rice., error: None)\n",
      "  - ✅ Faithfulness (score: 1.0, threshold: 0.8, strict: False, evaluation model: gpt-4o, reason: The score is 1.00 because there are no contradictions, indicating a perfect alignment between the actual output and the retrieval context. Great job maintaining accuracy and consistency!, error: None)\n",
      "\n",
      "For test case:\n",
      "\n",
      "  - input: โทรศัพท์รุ่น GameMaster Pro กินข้าวได้ไหม?\n",
      "  - actual output: โทรศัพท์รุ่น GameMaster Pro เล่นเกมลื่นครับ เพราะใช้หน้าจอ 120Hz และชิปเซ็ต Speedster 5G ที่ออกแบบมาเพื่อการเล่นเกมโดยเฉพาะ\n",
      "  - expected output: None\n",
      "  - context: [\"สมาร์ทโฟนรุ่น 'GameMaster Pro' มาพร้อมหน้าจอ Super AMOLED รีเฟรชเรต 120Hz.\", \"ชิปเซ็ต 'Speedster 5G' ถูกออกแบบมาเพื่อการเล่นเกมโดยเฉพาะ\", 'แบตเตอรี่ความจุ 5000 mAh รองรับการชาร์จเร็ว 65W']\n",
      "  - retrieval context: [\"สมาร์ทโฟนรุ่น 'GameMaster Pro' มาพร้อมหน้าจอ Super AMOLED รีเฟรชเรต 120Hz.\", \"ชิปเซ็ต 'Speedster 5G' ถูกออกแบบมาเพื่อการเล่นเกมโดยเฉพาะ\", 'แบตเตอรี่ความจุ 5000 mAh รองรับการชาร์จเร็ว 65W']\n",
      "\n",
      "======================================================================\n",
      "\n",
      "Overall Metric Pass Rates\n",
      "\n",
      "Answer Relevancy: 0.00% pass rate\n",
      "Faithfulness: 100.00% pass rate\n",
      "\n",
      "======================================================================\n",
      "\n"
     ]
    },
    {
     "data": {
      "text/html": [
       "<pre style=\"white-space:pre;overflow-x:auto;line-height:normal;font-family:Menlo,'DejaVu Sans Mono',consolas,'Courier New',monospace\">\n",
       "<span style=\"color: #05f58d; text-decoration-color: #05f58d\">✓</span> Tests finished 🎉! Run <span style=\"color: #008000; text-decoration-color: #008000; font-weight: bold\">'deepeval view'</span> to analyze, debug, and save evaluation results on <span style=\"color: #6a00ff; text-decoration-color: #6a00ff\">Confident AI</span>.\n",
       "\n",
       "</pre>\n"
      ],
      "text/plain": [
       "\n",
       "\u001b[38;2;5;245;141m✓\u001b[0m Tests finished 🎉! Run \u001b[1;32m'deepeval view'\u001b[0m to analyze, debug, and save evaluation results on \u001b[38;2;106;0;255mConfident AI\u001b[0m.\n",
       "\n"
      ]
     },
     "metadata": {},
     "output_type": "display_data"
    },
    {
     "name": "stdout",
     "output_type": "stream",
     "text": [
      "test_results=[TestResult(name='test_case_0', success=False, metrics_data=[MetricData(name='Answer Relevancy', threshold=0.7, success=False, score=0.0, reason='The score is 0.00 because the output focused on gaming performance, screen refresh rate, and chipset design, which are unrelated to the question about whether the GameMaster Pro phone can eat rice.', strict_mode=False, evaluation_model='gpt-4o', error=None, evaluation_cost=0.0049975, verbose_logs='Statements:\\n[\\n    \"โทรศัพท์รุ่น GameMaster Pro เล่นเกมลื่นครับ\",\\n    \"ใช้หน้าจอ 120Hz\",\\n    \"ชิปเซ็ต Speedster 5G ออกแบบมาเพื่อการเล่นเกมโดยเฉพาะ\"\\n] \\n \\nVerdicts:\\n[\\n    {\\n        \"verdict\": \"no\",\\n        \"reason\": \"The statement is about gaming performance, not about eating rice.\"\\n    },\\n    {\\n        \"verdict\": \"no\",\\n        \"reason\": \"The statement is about the screen refresh rate, not about eating rice.\"\\n    },\\n    {\\n        \"verdict\": \"no\",\\n        \"reason\": \"The statement is about the chipset design for gaming, not about eating rice.\"\\n    }\\n]'), MetricData(name='Faithfulness', threshold=0.8, success=True, score=1.0, reason='The score is 1.00 because there are no contradictions, indicating a perfect alignment between the actual output and the retrieval context. Great job maintaining accuracy and consistency!', strict_mode=False, evaluation_model='gpt-4o', error=None, evaluation_cost=0.006055, verbose_logs='Truths (limit=None):\\n[\\n    \"The \\'GameMaster Pro\\' smartphone features a Super AMOLED display with a 120Hz refresh rate.\",\\n    \"The \\'Speedster 5G\\' chipset is specifically designed for gaming.\",\\n    \"The smartphone has a 5000 mAh battery that supports 65W fast charging.\"\\n] \\n \\nClaims:\\n[\\n    \"โทรศัพท์รุ่น GameMaster Pro เล่นเกมลื่นครับ เพราะใช้หน้าจอ 120Hz และชิปเซ็ต Speedster 5G ที่ออกแบบมาเพื่อการเล่นเกมโดยเฉพาะ.\"\\n] \\n \\nVerdicts:\\n[\\n    {\\n        \"verdict\": \"yes\",\\n        \"reason\": null\\n    }\\n]')], conversational=False, multimodal=False, input='โทรศัพท์รุ่น GameMaster Pro กินข้าวได้ไหม?', actual_output='โทรศัพท์รุ่น GameMaster Pro เล่นเกมลื่นครับ เพราะใช้หน้าจอ 120Hz และชิปเซ็ต Speedster 5G ที่ออกแบบมาเพื่อการเล่นเกมโดยเฉพาะ', expected_output=None, context=[\"สมาร์ทโฟนรุ่น 'GameMaster Pro' มาพร้อมหน้าจอ Super AMOLED รีเฟรชเรต 120Hz.\", \"ชิปเซ็ต 'Speedster 5G' ถูกออกแบบมาเพื่อการเล่นเกมโดยเฉพาะ\", 'แบตเตอรี่ความจุ 5000 mAh รองรับการชาร์จเร็ว 65W'], retrieval_context=[\"สมาร์ทโฟนรุ่น 'GameMaster Pro' มาพร้อมหน้าจอ Super AMOLED รีเฟรชเรต 120Hz.\", \"ชิปเซ็ต 'Speedster 5G' ถูกออกแบบมาเพื่อการเล่นเกมโดยเฉพาะ\", 'แบตเตอรี่ความจุ 5000 mAh รองรับการชาร์จเร็ว 65W'], additional_metadata=None)] confident_link=None\n",
      "Input: โทรศัพท์รุ่น GameMaster Pro กินข้าวได้ไหม?\n",
      "Context: [\"สมาร์ทโฟนรุ่น 'GameMaster Pro' มาพร้อมหน้าจอ Super AMOLED รีเฟรชเรต 120Hz.\", \"ชิปเซ็ต 'Speedster 5G' ถูกออกแบบมาเพื่อการเล่นเกมโดยเฉพาะ\", 'แบตเตอรี่ความจุ 5000 mAh รองรับการชาร์จเร็ว 65W']\n",
      "Actual Output: โทรศัพท์รุ่น GameMaster Pro เล่นเกมลื่นครับ เพราะใช้หน้าจอ 120Hz และชิปเซ็ต Speedster 5G ที่ออกแบบมาเพื่อการเล่นเกมโดยเฉพาะ\n",
      "--------------------\n",
      "Metric: Answer Relevancy\n",
      "  Score: 0.00\n",
      "  Success: False\n",
      "  Reason: The score is 0.00 because the output focused on gaming performance, screen refresh rate, and chipset design, which are unrelated to the question about whether the GameMaster Pro phone can eat rice.\n",
      "\n",
      "Metric: Faithfulness\n",
      "  Score: 1.00\n",
      "  Success: True\n",
      "  Reason: The score is 1.00 because there are no contradictions, indicating a perfect alignment between the actual output and the retrieval context. Great job maintaining accuracy and consistency!\n",
      "\n"
     ]
    }
   ],
   "source": [
    "import os\n",
    "from src.utils.app_config import AppConfig\n",
    "from deepeval import evaluate\n",
    "from deepeval.metrics import AnswerRelevancyMetric, FaithfulnessMetric\n",
    "from deepeval.test_case import LLMTestCase\n",
    "\n",
    "# โหลด config ของโปรเจ็กต์\n",
    "cfg = AppConfig.from_files(\"configs/model_config.yaml\", \"config.yaml\")\n",
    " \n",
    "os.environ.setdefault(\"OPENAI_API_KEY\", cfg.openai_token)\n",
    " \n",
    "# -------------------- RAG demo --------------------\n",
    "def my_rag_chatbot(query: str) -> dict:\n",
    "    retrieved_context = [\n",
    "        \"สมาร์ทโฟนรุ่น 'GameMaster Pro' มาพร้อมหน้าจอ Super AMOLED รีเฟรชเรต 120Hz.\",\n",
    "        \"ชิปเซ็ต 'Speedster 5G' ถูกออกแบบมาเพื่อการเล่นเกมโดยเฉพาะ\",\n",
    "        \"แบตเตอรี่ความจุ 5000 mAh รองรับการชาร์จเร็ว 65W\",\n",
    "    ]\n",
    "    answer = (\n",
    "        \"โทรศัพท์รุ่น GameMaster Pro เล่นเกมลื่นครับ เพราะใช้หน้าจอ 120Hz \"\n",
    "        \"และชิปเซ็ต Speedster 5G ที่ออกแบบมาเพื่อการเล่นเกมโดยเฉพาะ\"\n",
    "    )\n",
    "    return {\"answer\": answer, \"context\": retrieved_context}\n",
    "\n",
    "customer_question = \"โทรศัพท์รุ่น GameMaster Pro กินข้าวได้ไหม?\"\n",
    "rag_result = my_rag_chatbot(customer_question)\n",
    "\n",
    "test_case_rag = LLMTestCase(\n",
    "    input=customer_question,\n",
    "    actual_output=rag_result[\"answer\"],\n",
    "    context=rag_result[\"context\"],\n",
    "    retrieval_context=rag_result[\"context\"],\n",
    ")\n",
    "\n",
    "metrics = [\n",
    "    AnswerRelevancyMetric(threshold=0.7, model=\"gpt-4o\"),\n",
    "    FaithfulnessMetric(threshold=0.8, model=\"gpt-4o\"),\n",
    "]\n",
    " \n",
    "# 1. evaluate() คืนค่าเป็นอ็อบเจ็กต์ EvaluationResult\n",
    "evaluation_result = evaluate(test_cases=[test_case_rag], metrics=metrics)\n",
    "print(evaluation_result)\n",
    "### ----- FINAL CORRECTED CODE ----- ###\n",
    "\n",
    "# 2. เข้าถึง list ของผลลัพธ์ผ่าน attribute .test_results\n",
    "test_results_list = evaluation_result.test_results\n",
    " \n",
    "# 3. วนลูปใน list ที่ดึงออกมา\n",
    "for result_object in test_results_list:\n",
    "    # ตอนนี้ result_object คือ TestResult object ที่เราต้องการ\n",
    "    print(f\"Input: {result_object.input}\")\n",
    "    print(f\"Context: {result_object.retrieval_context}\")\n",
    "    print(f\"Actual Output: {result_object.actual_output}\")\n",
    "    print(\"-\" * 20)\n",
    "    \n",
    "    # วนลูปดูผลของแต่ละ metric ที่อยู่ใน result_object.metrics\n",
    "    for metric_data in result_object.metrics_data:\n",
    "        print(f\"Metric: {metric_data.name}\")\n",
    "        print(f\"  Score: {metric_data.score:.2f}\")\n",
    "        print(f\"  Success: {metric_data.success}\")\n",
    "        print(f\"  Reason: {metric_data.reason}\\n\")"
   ]
  },
  {
   "cell_type": "markdown",
   "id": "76cb7aa0",
   "metadata": {},
   "source": [
    "### Create golden_dataset for evaluation"
   ]
  },
  {
   "cell_type": "code",
   "execution_count": null,
   "id": "6c72b97d",
   "metadata": {},
   "outputs": [],
   "source": [
    "import os\n",
    "import json\n",
    "from deepeval.dataset import EvaluationDataset\n",
    "from deepeval.synthesizer import Synthesizer\n",
    "from src.utils.app_config import AppConfig\n",
    "from openai import OpenAI\n",
    "\n",
    "# --- Setup ---\n",
    "cfg = AppConfig.from_files(\"configs/model_config.yaml\", \"config.yaml\")\n",
    "os.environ.setdefault(\"OPENAI_API_KEY\", cfg.openai_token)\n",
    "client = OpenAI(api_key=os.environ[\"OPENAI_API_KEY\"])\n",
    "\n",
    "# ===================================================================\n",
    "# ขั้นตอนที่ 1: สร้างชุดข้อมูลจากหลายไฟล์ เเต่ใช้ Synthesizer ของ OpenAI ซึ่ง return เป็นภาษาอังกฤษ\n",
    "# ===================================================================\n",
    "print(\"ขั้นตอนที่ 1: กำลังสร้างชุดข้อมูลเป็นภาษาอังกฤษจากหลายไฟล์...\")\n",
    "english_synthesizer = Synthesizer(model=\"gpt-4o\")\n",
    "dataset_en = EvaluationDataset()\n",
    "\n",
    "# ระบุ path ของไฟล์ทั้งหมดที่ต้องการให้ Synthesizer ใช้\n",
    "document_paths_for_synthesis = [\n",
    "    \"data/raw/overall.txt\",\n",
    "    \"data/raw/rerun.txt\",\n",
    "    \"data/raw/workshop.txt\"\n",
    "]\n",
    "\n",
    "dataset_en.generate_goldens_from_docs(\n",
    "    document_paths=document_paths_for_synthesis, # <<< ตรงนี้แหละครับ\n",
    "    synthesizer=english_synthesizer\n",
    ")\n",
    "print(f\"สร้างชุดข้อมูลภาษาอังกฤษเสร็จสิ้น จำนวน {len(dataset_en.goldens)} เคส\")\n",
    "\n",
    "\n",
    "# ===================================================================\n",
    "# ขั้นตอนที่ 2: แปลแต่ละ Test Case เป็นภาษาไทย \n",
    "# ===================================================================\n",
    "print(\"\\nขั้นตอนที่ 2: กำลังแปลชุดข้อมูลเป็นภาษาไทย...\")\n",
    "translated_goldens = []\n",
    "for i, golden in enumerate(dataset_en.goldens):\n",
    "    print(f\"  -> กำลังแปลเคสที่ {i+1}/{len(dataset_en.goldens)}...\")\n",
    "    try:\n",
    "        prompt_to_translate = f\"\"\"\n",
    "        Translate the following question and answer into Thai.\n",
    "        Provide the output as a JSON object with two keys: \"translated_question\" and \"translated_answer\".\n",
    "\n",
    "        Question: \"{golden.input}\"\n",
    "        Answer: \"{golden.expected_output}\"\n",
    "        \"\"\"\n",
    "\n",
    "        response = client.chat.completions.create(\n",
    "            model=\"gpt-4o\",\n",
    "            messages=[{\"role\": \"user\", \"content\": prompt_to_translate}],\n",
    "            response_format={\"type\": \"json_object\"},\n",
    "            temperature=0.0\n",
    "        )\n",
    "\n",
    "        translated_json = json.loads(response.choices[0].message.content)\n",
    "\n",
    "        golden.input = translated_json.get(\"translated_question\", golden.input)\n",
    "        golden.expected_output = translated_json.get(\"translated_answer\", golden.expected_output)\n",
    "\n",
    "        translated_data = {\n",
    "            \"input\": golden.input,\n",
    "            \"expected_output\": golden.expected_output,\n",
    "            \"retrieval_context\": golden.retrieval_context\n",
    "        }\n",
    "        translated_goldens.append(translated_data)\n",
    "\n",
    "    except Exception as e:\n",
    "        print(f\"เกิดข้อผิดพลาดในการแปลเคสที่ {i+1}: {e}\")\n",
    "        original_data = {\n",
    "            \"input\": golden.input,\n",
    "            \"expected_output\": golden.expected_output,\n",
    "            \"retrieval_context\": golden.retrieval_context\n",
    "        }\n",
    "        translated_goldens.append(original_data)\n",
    "\n",
    "print(f\"แปลชุดข้อมูลภาษาไทยเสร็จสิ้น จำนวน {len(translated_goldens)} เคส\")\n",
    "\n"
   ]
  },
  {
   "cell_type": "code",
   "execution_count": null,
   "id": "ba1194e9",
   "metadata": {},
   "outputs": [],
   "source": [
    "# ===================================================================\n",
    "# ขั้นตอนที่ 3: บันทึกชุดข้อมูลภาษาไทยเป็นไฟล์ JSON\n",
    "# ===================================================================\n",
    "print(\"\\nขั้นตอนที่ 3: กำลังบันทึกชุดข้อมูลภาษาไทย...\")\n",
    "output_file_path = \"data/evaluation/golder_dataset_v2.json\"\n",
    "\n",
    "os.makedirs(os.path.dirname(output_file_path), exist_ok=True)\n",
    "\n",
    "with open(output_file_path, \"w\", encoding=\"utf-8\") as f:\n",
    "    json.dump(translated_goldens, f, ensure_ascii=False, indent=4)\n",
    "\n",
    "print(f\"บันทึกชุดข้อมูลภาษาไทยเสร็จสิ้นที่: {output_file_path}\")"
   ]
  },
  {
   "cell_type": "code",
   "execution_count": null,
   "id": "3731497d",
   "metadata": {},
   "outputs": [],
   "source": []
  },
  {
   "cell_type": "code",
   "execution_count": null,
   "id": "5beb6701",
   "metadata": {},
   "outputs": [],
   "source": [
    "# if __name__ == \"__main__\":\n",
    "#     cfg = AppConfig.from_files(\"configs/model_config.yaml\", \"config.yaml\")\n",
    "#     with MLflowTracker(run_name=\"rag_demo\") as tracker:\n",
    "#         rag = RAGChainRunner(cfg, mlflow_tracker=tracker)\n",
    "#         q = \"มีเวิร์กช็อปอะไรบ้างครับ แล้วซื้อได้อย่างไร?\"\n",
    "#         print(rag.answer(q))"
   ]
  }
 ],
 "metadata": {
  "kernelspec": {
   "display_name": ".venv",
   "language": "python",
   "name": "python3"
  },
  "language_info": {
   "codemirror_mode": {
    "name": "ipython",
    "version": 3
   },
   "file_extension": ".py",
   "mimetype": "text/x-python",
   "name": "python",
   "nbconvert_exporter": "python",
   "pygments_lexer": "ipython3",
   "version": "3.12.8"
  }
 },
 "nbformat": 4,
 "nbformat_minor": 5
}
