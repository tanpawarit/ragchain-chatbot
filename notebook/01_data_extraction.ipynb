{
 "cells": [
  {
   "cell_type": "code",
   "execution_count": 1,
   "id": "64a865b8",
   "metadata": {},
   "outputs": [],
   "source": [
    "import trafilatura\n",
    "from playwright.async_api import async_playwright \n",
    "\n",
    "# ฟังก์ชันนี้ต้องเป็น async\n",
    "async def fetch_dynamic_content_async(url):\n",
    "    # context manager ก็ต้องเป็น async\n",
    "    async with async_playwright() as p:\n",
    "        browser = await p.chromium.launch()\n",
    "        page = await browser.new_page()\n",
    "        await page.goto(url, wait_until='networkidle', timeout=60000) \n",
    "        html_content = await page.content()\n",
    "        await browser.close()\n",
    "        return html_content\n",
    " \n",
    "\n",
    "url_overall = 'https://academy.investic.ai/rerun-quantoff3/?fbclid=IwY2xjawK6a1tleHRuA2FlbQIxMABicmlkETFzWENFeXRySG1ENVk1YXp2AR6R8bJyV5DW_Oug811R3QV9bEizl0ANn9LbQqQ5-5gPIs8o9dcWDJ0bgg-_lA_aem_GmCwdJE_AkntLwQka-cDWg#pricing'\n",
    "url_rerun = 'https://academy.investic.ai/quant-offside-3x/crypto-quant-trading/#section-01'\n",
    "url_workshop = 'https://academy.investic.ai/quant-offside-3x/online-workshops/'\n",
    "\n",
    "# รันฟังก์ชันและรอผลด้วย await\n",
    "full_html_overall = await fetch_dynamic_content_async(url_overall)\n",
    "full_html_rerun = await fetch_dynamic_content_async(url_rerun)\n",
    "full_html_workshop = await fetch_dynamic_content_async(url_workshop)\n",
    "\n",
    "overall_text = trafilatura.extract(full_html_overall)\n",
    "rerun_text = trafilatura.extract(full_html_rerun)\n",
    "workshop_text = trafilatura.extract(full_html_workshop) "
   ]
  },
  {
   "cell_type": "code",
   "execution_count": 2,
   "id": "3233f42b",
   "metadata": {},
   "outputs": [
    {
     "data": {
      "text/plain": [
       "'Rerun + Online Workshops\\nQuant Offside 3x\\nสัมมนา Quant Trading ที่ใหญ่ที่สุดของปี พร้อมพลิกโลกการลงทุนของคุณให้เหนือชั้นกว่าเดิมด้วย Data-Driven Trading และ AI Investing!\\nQuant Offside 3X rerun เหมาะกับใคร?\\nผมยังไม่รู้จะไปทางไหน?\\nคอร์สนี้จะทำให้คุณเห็นภาพกว้างมากขึ้น\\nคุณจะได้เห็นว่าเหล่า Trader ที่ทำกำไร หรือ CEO , CFO ที่เค้าทำงานด้านการลงทุน Hedge Fund เค้ามีมุมมอง มีจุดเริ่มต้นอย่างไร จนมาถึงวันที่เค้าทำกำไรได้ และเริ่มอยู่ตัวในโลก Quant เพื่อการลงทุน\\nอยากทำระบบเทรด Robot Trade แต่ไม่มี Idea\\nคุณจะได้ Idea มากมายที่ Speaker แต่ละท่านใช้\\nและ speaker แต่ละคนไม่ว่าจะเป็นสายเทรดมือ ทำระบบ Trade เป็น ผู้จัดการกองทุน เหล่า CEO, CFO บอกเลยว่าไม่ธรรมดาครับ และพวกเราคุยกันด้วย Data , Quant, Math แน่นอนจะทำให้คุณเห็นภาพมากขึ้น และเอาไปประยุกต์ใช้กับระบบ Trade หรือ Robot Trade ของคุณ\\nอยากทำงานด้าน Quant Trade การลงทุน\\nแต่ผมไม่ได้เรียนมาสายตรงทำได้ไหม?\\nบอกเลยครับว่าทำได้ เพราะ speaker แต่ละท่านนี่แทบจะไม่ได้เรียนมาโดยตรงด้านนี้เลยครับ แต่ได้มาทำในส่วนของ กลยุทธ การบริหารกองทุน งาน Quant สายธนาคาร แต่หลายๆ ท่านมีจุดเชื่อมโยงอยู่คือ เริ่มจากการลงทุน หรือ Trade แล้วก็ค่อยๆ ต่อยอดมางานสายนี้ และจะเริ่มต้น เตรียมตัวทำงานสายนี้อย่างไร เรียนเชิญในคอร์สเลยครับ\\nพบกับ QUANT OFFSIDE 3X – สุดยอดงานสัมมนา Quant Trading และ AI Investing ครั้งที่ 3 ที่จัดเต็มกว่าที่เคย!\\nพบกับสุดยอด Speakers มากถึง 21 ท่านจากสาย Quant, AI และการลงทุน (11 ชั่วโมง)\\nสัมผัสประสบการณ์จริงกับนวัตกรรม Quant Trading (7 ชั่วโมง)\\nเรียนรู้แบบเจาะลึกกับเหล่า Guru Quant พร้อมใช้ฟรีเครื่องมือ Investic Analytics Studio เต็มๆ 1 เดือน!\\n2 Stages\\nStage 1: Quant Algorithmic Trading\\nสำหรับใครที่สนใจเรื่องการพัฒนาระบบเทรดอย่างเป็นระบบ ไม่ว่าจะการเริ่ม Research Market ไปจนถึงการใช้ในตลาดจริง Use case ที่เหล่าวิทยากรพัฒนาและนำไปใช้จริงมีอะไรบ้างไปดูกัน\\nStage 2: Quant Trading & Investing\\nสำหรับใครที่ชอบในการเทรดมือ รู้หรือไม่ นอกจากราคาปิดของกราฟแท่งเทียน หรือ Indicators แบบทั่วไปแล้วยังมีมิติในการดู Data ในรูปแบบอื่นๆ ที่สามารถนำไปช่วยในการตัดสินใจได้\\n2 Crypto Quant Trading\\nCrypto Quant Trading\\nโซนจัดแสดงนวัตกรรม เครื่องมือ และระบบ Quant Trading ที่ทันสมัยที่สุด ให้ทุกท่านได้ทดลองใช้เครื่องมือและระบบ Quant แบบจริงจัง พบกับคลาสสอนและเวิร์กชอป\\n4 Online Workshops\\nOnline Workshops \"จับมือเทรดด้วย Quant Data\"\\nRerun + Online Workshops\\nสิ่งที่คุณจะได้รับเพียงซื้อ 1 Workshop ขึ้นไป ในราคา 3,599 บาท\\n- RERUN ทุก Session ทั้ง Stage 1 & 2 (รวม 11 ชั่วโมง)\\n- RERUN Crypto Quant Trading (รวม 7 ชั่วโมง)\\n- สิทธิ์ใช้เครื่องมือดู Quant Tool ของ Investic Analytics Studio เป็นระยะเวลา 1 เดือน\\nหากคุณมีข้อสงสัย หรือ ต้องการสอบถามข้อมูลเพิ่มเติม สามารถติดต่อได้ที่เพจ Investic ตามรายละเอียดข้างล่างนี้\\nCall Center : 065-1963546\\nติดต่อได้ ทุกวันจันทร์-ศุกร์ ตั้งแต่ 10:00 – 18:00 น.\\nRerun Quant Offside 3x มีเนื้อหาอะไรบ้าง\\n- การใช้ Market Breadth ในการ Filter ตลาด\\n- ตรวจดูพฤติกรรมหุ้นที่แข็งกว่าตลาด\\n- สถิติตลาดหุ้นในอดีตมีลักษณะรูปแบบไหน\\n- Use case การพัฒนาระบบเทรดในตลาดไทย\\n- การประเมินมูลค่าหุ้นด้วย Fundamental Analysis\\n- การนำ AI มาช่วยทำให้ Fundamental Analysis ให้ง่ายขึ้น\\n- รายใหญ่ และ Open Interest (OI) เกี่ยวข้องกันยังไง\\n- ดู COT Data (Commitment of Traders) เพื่อติดตามพฤติกรรมของ รายใหญ่ในตลาด Future และ Option\\n- สังเกตว่าสัญญา Option OI จะโดดเมื่อรายใหญ่เข้าซื้อ\\n- ประเภทของรายใหญ่มีใครบ้าง (Commercials, Hedge Funds, Dealers)\\n- Option OI/IV เพื่อบอกจังหวะและระดับราคาในตลาด\\n- ใช้ Correlation ในการหาโอกาสการลงทุน\\n- ความสำคัญของ Data ในโลก Crypto\\n- ข้อมูลที่หลากหลายใน Crypto เช่น Onchain, Derivative, Market Data\\n- Sentiment Data เพื่อระบุเหรียญที่มี Sentiment Bullish/Bearish\\n- วิเคราะห์ตลาดตามสถานะกำไร/ขาดทุนของผู้ลงทุน\\n- บทบาทของสถาบันการเงิน (รัฐบาล, สถาบันใหญ่) ใน Cycle ปัจจุบัน ซึ่งต่างจาก Cycle ก่อนๆ ที่เป็น Retail\\n- Altcoin อาจวิ่งแค่บาง Sector ใน Cycle นี้\\n- โอกาสในโลก Crypto นอกเหนือจากการเทรด (Mining, การพัฒนา Project และ Airdrop Hunting)\\n- Mindset สำหรับนักลงทุน Crypto มือใหม่\\n- มูลค่าเหรียญ Crypto ที่อาจ driven ด้วย Attention มากกว่าปัจจัยพื้นฐานแบบดั้งเดิม\\n- ดู Onchain Data เพื่อวิเคราะห์ ต้นทุนเฉลี่ย (Realized Price) ของนักลงทุน\\n- โซนการสะสม (Accumulation) ที่มีการซื้อหนาแน่น\\n- แนะนำคนที่ไม่ได้จบตรงสายที่กำลังสนใจต้องการทำงานในสาย Quant\\n- Use case การใช้ AI และ Generative AI ในกระบวนการขายและการให้บริการลูกค้า เช่น การพัฒนา Chatbot หรือนำข้อมูลลูกค้าวิเคราะห์เพื่อเสนอผลิตภัณฑ์ลงทุน\\n- เรียนรู้แนวคิดและประเภทของ Multi Portfolio Strategy สำหรับการบริหารพอร์ต Quant\\n- การสร้างและจำลองโมเดล\\n- การออกแบบระบบ Back Testing\\n- เจาะลึก Order Flow Analysis\\n- ดูการกระจายคำสั่งซื้อ/ขายแบบ Real Time วิเคราะห์ Order Distribution และ Order Book Imbalance\\n- คาดการณ์ทิศทางตลาด (ขึ้นหรือลง) โดยไม่ต้องดูกราฟราคา และการใช้ประโยชน์จากข้อมูลนี้ในตลาด Crypto\\n- แนวคิดการจัดพอร์ต All Weather Portfolio ที่เน้น Asset Correlation เพื่อผ่านทุกสภาวะตลาด/เศรษฐกิจ การปรับพอร์ตตามการเปลี่ยนแปลง Correlation\\n- การใช้ AI/Machine Learning ในการวิเคราะห์และสร้างโมเดลพอร์ต\\n- ทำไมต้อง Rebalancing\\n- การลดความเสี่ยงของพอร์ต\\n- ประเภทของการ Rebalancing มีอะไรบ้าง\\n- Market Neutral Strategy ที่ไม่เน้นการทำกำไรจากทิศทางตลาด\\n- แนวคิดและการคำนวณ Delta Hedging เพื่อทำให้มูลค่าพอร์ตไม่ผันผวนตามราคา Underlying\\n- Alternative Data โดยเฉพาะ New Sentiment ในการสร้างกลยุทธ์\\n- Framework ในการออกแบบ & พัฒนาระบบเทรด\\n- หาตัวเอง และเริ่มต้นเรียนจากไหนดี Home Trader, Bank/Fund manager, Data Sci'"
      ]
     },
     "execution_count": 2,
     "metadata": {},
     "output_type": "execute_result"
    }
   ],
   "source": [
    "overall_text"
   ]
  },
  {
   "cell_type": "code",
   "execution_count": null,
   "id": "5500b18f",
   "metadata": {},
   "outputs": [],
   "source": [
    "import os\n",
    "folder_name = 'product_data'\n",
    "\n",
    "# 2. สร้างโฟลเดอร์ 'doc' ถ้ายังไม่มี\n",
    "#    exist_ok=True หมายความว่าถ้ามีโฟลเดอร์นี้อยู่แล้วก็ไม่ต้องทำอะไร ไม่เกิด error\n",
    "os.makedirs(folder_name, exist_ok=True)\n",
    "\n",
    "# 3. สร้าง dictionary ของชื่อไฟล์และข้อมูลที่ต้องการบันทึก\n",
    "files_to_save = {\n",
    "    \"overall.txt\": overall_text,\n",
    "    \"rerun.txt\": rerun_text,\n",
    "    \"workshop.txt\": workshop_text\n",
    "}\n",
    "\n",
    "# 4. วนลูปเพื่อบันทึกแต่ละไฟล์\n",
    "for filename, content in files_to_save.items():\n",
    "    # สร้าง path เต็มของไฟล์ (เช่น 'doc/overall.txt')\n",
    "    file_path = os.path.join(folder_name, filename)\n",
    "    \n",
    "    # เปิดไฟล์ในโหมดเขียน ('w') และกำหนด encoding เป็น 'utf-8' เพื่อรองรับภาษาไทย\n",
    "    try:\n",
    "        with open(file_path, 'w', encoding='utf-8') as f:\n",
    "            # ตรวจสอบว่า content ไม่ใช่ None ก่อนเขียน\n",
    "            if content:\n",
    "                f.write(content)\n",
    "            else:\n",
    "                f.write(\"\") # เขียนไฟล์เปล่าถ้าไม่มีข้อมูล\n",
    "        print(f\"บันทึกไฟล์ '{file_path}' เรียบร้อยแล้ว\")\n",
    "    except Exception as e:\n",
    "        print(f\"เกิดข้อผิดพลาดในการบันทึกไฟล์ '{file_path}': {e}\")"
   ]
  }
 ],
 "metadata": {
  "kernelspec": {
   "display_name": ".venv",
   "language": "python",
   "name": "python3"
  },
  "language_info": {
   "codemirror_mode": {
    "name": "ipython",
    "version": 3
   },
   "file_extension": ".py",
   "mimetype": "text/x-python",
   "name": "python",
   "nbconvert_exporter": "python",
   "pygments_lexer": "ipython3",
   "version": "3.12.8"
  }
 },
 "nbformat": 4,
 "nbformat_minor": 5
}
