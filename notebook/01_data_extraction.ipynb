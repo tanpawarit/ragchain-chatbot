{
 "cells": [
  {
   "cell_type": "code",
   "execution_count": 2,
   "id": "64a865b8",
   "metadata": {},
   "outputs": [
    {
     "ename": "Error",
     "evalue": "BrowserType.launch: Executable doesn't exist at /Users/pawarison/Library/Caches/ms-playwright/chromium_headless_shell-1179/chrome-mac/headless_shell\n╔════════════════════════════════════════════════════════════╗\n║ Looks like Playwright was just installed or updated.       ║\n║ Please run the following command to download new browsers: ║\n║                                                            ║\n║     playwright install                                     ║\n║                                                            ║\n║ <3 Playwright Team                                         ║\n╚════════════════════════════════════════════════════════════╝",
     "output_type": "error",
     "traceback": [
      "\u001b[31m---------------------------------------------------------------------------\u001b[39m",
      "\u001b[31mError\u001b[39m                                     Traceback (most recent call last)",
      "\u001b[36mCell\u001b[39m\u001b[36m \u001b[39m\u001b[32mIn[2]\u001b[39m\u001b[32m, line 21\u001b[39m\n\u001b[32m     18\u001b[39m url_workshop = \u001b[33m'\u001b[39m\u001b[33mhttps://academy.investic.ai/quant-offside-3x/online-workshops/\u001b[39m\u001b[33m'\u001b[39m\n\u001b[32m     20\u001b[39m \u001b[38;5;66;03m# รันฟังก์ชันและรอผลด้วย await\u001b[39;00m\n\u001b[32m---> \u001b[39m\u001b[32m21\u001b[39m full_html_overall = \u001b[38;5;28;01mawait\u001b[39;00m fetch_dynamic_content_async(url_overall)\n\u001b[32m     22\u001b[39m full_html_rerun = \u001b[38;5;28;01mawait\u001b[39;00m fetch_dynamic_content_async(url_rerun)\n\u001b[32m     23\u001b[39m full_html_workshop = \u001b[38;5;28;01mawait\u001b[39;00m fetch_dynamic_content_async(url_workshop)\n",
      "\u001b[36mCell\u001b[39m\u001b[36m \u001b[39m\u001b[32mIn[2]\u001b[39m\u001b[32m, line 8\u001b[39m, in \u001b[36mfetch_dynamic_content_async\u001b[39m\u001b[34m(url)\u001b[39m\n\u001b[32m      5\u001b[39m \u001b[38;5;28;01masync\u001b[39;00m \u001b[38;5;28;01mdef\u001b[39;00m\u001b[38;5;250m \u001b[39m\u001b[34mfetch_dynamic_content_async\u001b[39m(url):\n\u001b[32m      6\u001b[39m     \u001b[38;5;66;03m# context manager ก็ต้องเป็น async\u001b[39;00m\n\u001b[32m      7\u001b[39m     \u001b[38;5;28;01masync\u001b[39;00m \u001b[38;5;28;01mwith\u001b[39;00m async_playwright() \u001b[38;5;28;01mas\u001b[39;00m p:\n\u001b[32m----> \u001b[39m\u001b[32m8\u001b[39m         browser = \u001b[38;5;28;01mawait\u001b[39;00m p.chromium.launch()\n\u001b[32m      9\u001b[39m         page = \u001b[38;5;28;01mawait\u001b[39;00m browser.new_page()\n\u001b[32m     10\u001b[39m         \u001b[38;5;28;01mawait\u001b[39;00m page.goto(url, wait_until=\u001b[33m'\u001b[39m\u001b[33mnetworkidle\u001b[39m\u001b[33m'\u001b[39m, timeout=\u001b[32m60000\u001b[39m) \n",
      "\u001b[36mFile \u001b[39m\u001b[32m~/dev/ragchain-chatbot/.venv/lib/python3.12/site-packages/playwright/async_api/_generated.py:14438\u001b[39m, in \u001b[36mBrowserType.launch\u001b[39m\u001b[34m(self, executable_path, channel, args, ignore_default_args, handle_sigint, handle_sigterm, handle_sighup, timeout, env, headless, devtools, proxy, downloads_path, slow_mo, traces_dir, chromium_sandbox, firefox_user_prefs)\u001b[39m\n\u001b[32m  14317\u001b[39m \u001b[38;5;28;01masync\u001b[39;00m \u001b[38;5;28;01mdef\u001b[39;00m\u001b[38;5;250m \u001b[39m\u001b[34mlaunch\u001b[39m(\n\u001b[32m  14318\u001b[39m     \u001b[38;5;28mself\u001b[39m,\n\u001b[32m  14319\u001b[39m     *,\n\u001b[32m   (...)\u001b[39m\u001b[32m  14340\u001b[39m     ] = \u001b[38;5;28;01mNone\u001b[39;00m,\n\u001b[32m  14341\u001b[39m ) -> \u001b[33m\"\u001b[39m\u001b[33mBrowser\u001b[39m\u001b[33m\"\u001b[39m:\n\u001b[32m  14342\u001b[39m \u001b[38;5;250m    \u001b[39m\u001b[33;03m\"\"\"BrowserType.launch\u001b[39;00m\n\u001b[32m  14343\u001b[39m \n\u001b[32m  14344\u001b[39m \u001b[33;03m    Returns the browser instance.\u001b[39;00m\n\u001b[32m   (...)\u001b[39m\u001b[32m  14434\u001b[39m \u001b[33;03m    Browser\u001b[39;00m\n\u001b[32m  14435\u001b[39m \u001b[33;03m    \"\"\"\u001b[39;00m\n\u001b[32m  14437\u001b[39m     \u001b[38;5;28;01mreturn\u001b[39;00m mapping.from_impl(\n\u001b[32m> \u001b[39m\u001b[32m14438\u001b[39m         \u001b[38;5;28;01mawait\u001b[39;00m \u001b[38;5;28mself\u001b[39m._impl_obj.launch(\n\u001b[32m  14439\u001b[39m             executablePath=executable_path,\n\u001b[32m  14440\u001b[39m             channel=channel,\n\u001b[32m  14441\u001b[39m             args=mapping.to_impl(args),\n\u001b[32m  14442\u001b[39m             ignoreDefaultArgs=mapping.to_impl(ignore_default_args),\n\u001b[32m  14443\u001b[39m             handleSIGINT=handle_sigint,\n\u001b[32m  14444\u001b[39m             handleSIGTERM=handle_sigterm,\n\u001b[32m  14445\u001b[39m             handleSIGHUP=handle_sighup,\n\u001b[32m  14446\u001b[39m             timeout=timeout,\n\u001b[32m  14447\u001b[39m             env=mapping.to_impl(env),\n\u001b[32m  14448\u001b[39m             headless=headless,\n\u001b[32m  14449\u001b[39m             devtools=devtools,\n\u001b[32m  14450\u001b[39m             proxy=proxy,\n\u001b[32m  14451\u001b[39m             downloadsPath=downloads_path,\n\u001b[32m  14452\u001b[39m             slowMo=slow_mo,\n\u001b[32m  14453\u001b[39m             tracesDir=traces_dir,\n\u001b[32m  14454\u001b[39m             chromiumSandbox=chromium_sandbox,\n\u001b[32m  14455\u001b[39m             firefoxUserPrefs=mapping.to_impl(firefox_user_prefs),\n\u001b[32m  14456\u001b[39m         )\n\u001b[32m  14457\u001b[39m     )\n",
      "\u001b[36mFile \u001b[39m\u001b[32m~/dev/ragchain-chatbot/.venv/lib/python3.12/site-packages/playwright/_impl/_browser_type.py:98\u001b[39m, in \u001b[36mBrowserType.launch\u001b[39m\u001b[34m(self, executablePath, channel, args, ignoreDefaultArgs, handleSIGINT, handleSIGTERM, handleSIGHUP, timeout, env, headless, devtools, proxy, downloadsPath, slowMo, tracesDir, chromiumSandbox, firefoxUserPrefs)\u001b[39m\n\u001b[32m     93\u001b[39m params = locals_to_params(\u001b[38;5;28mlocals\u001b[39m())\n\u001b[32m     94\u001b[39m normalize_launch_params(params)\n\u001b[32m     95\u001b[39m browser = cast(\n\u001b[32m     96\u001b[39m     Browser,\n\u001b[32m     97\u001b[39m     from_channel(\n\u001b[32m---> \u001b[39m\u001b[32m98\u001b[39m         \u001b[38;5;28;01mawait\u001b[39;00m \u001b[38;5;28mself\u001b[39m._channel.send(\n\u001b[32m     99\u001b[39m             \u001b[33m\"\u001b[39m\u001b[33mlaunch\u001b[39m\u001b[33m\"\u001b[39m, TimeoutSettings.launch_timeout, params\n\u001b[32m    100\u001b[39m         )\n\u001b[32m    101\u001b[39m     ),\n\u001b[32m    102\u001b[39m )\n\u001b[32m    103\u001b[39m browser._connect_to_browser_type(\n\u001b[32m    104\u001b[39m     \u001b[38;5;28mself\u001b[39m, \u001b[38;5;28mstr\u001b[39m(tracesDir) \u001b[38;5;28;01mif\u001b[39;00m tracesDir \u001b[38;5;129;01mis\u001b[39;00m \u001b[38;5;129;01mnot\u001b[39;00m \u001b[38;5;28;01mNone\u001b[39;00m \u001b[38;5;28;01melse\u001b[39;00m \u001b[38;5;28;01mNone\u001b[39;00m\n\u001b[32m    105\u001b[39m )\n\u001b[32m    106\u001b[39m \u001b[38;5;28;01mreturn\u001b[39;00m browser\n",
      "\u001b[36mFile \u001b[39m\u001b[32m~/dev/ragchain-chatbot/.venv/lib/python3.12/site-packages/playwright/_impl/_connection.py:69\u001b[39m, in \u001b[36mChannel.send\u001b[39m\u001b[34m(self, method, timeout_calculator, params, is_internal, title)\u001b[39m\n\u001b[32m     61\u001b[39m \u001b[38;5;28;01masync\u001b[39;00m \u001b[38;5;28;01mdef\u001b[39;00m\u001b[38;5;250m \u001b[39m\u001b[34msend\u001b[39m(\n\u001b[32m     62\u001b[39m     \u001b[38;5;28mself\u001b[39m,\n\u001b[32m     63\u001b[39m     method: \u001b[38;5;28mstr\u001b[39m,\n\u001b[32m   (...)\u001b[39m\u001b[32m     67\u001b[39m     title: \u001b[38;5;28mstr\u001b[39m = \u001b[38;5;28;01mNone\u001b[39;00m,\n\u001b[32m     68\u001b[39m ) -> Any:\n\u001b[32m---> \u001b[39m\u001b[32m69\u001b[39m     \u001b[38;5;28;01mreturn\u001b[39;00m \u001b[38;5;28;01mawait\u001b[39;00m \u001b[38;5;28mself\u001b[39m._connection.wrap_api_call(\n\u001b[32m     70\u001b[39m         \u001b[38;5;28;01mlambda\u001b[39;00m: \u001b[38;5;28mself\u001b[39m._inner_send(method, timeout_calculator, params, \u001b[38;5;28;01mFalse\u001b[39;00m),\n\u001b[32m     71\u001b[39m         is_internal,\n\u001b[32m     72\u001b[39m         title,\n\u001b[32m     73\u001b[39m     )\n",
      "\u001b[36mFile \u001b[39m\u001b[32m~/dev/ragchain-chatbot/.venv/lib/python3.12/site-packages/playwright/_impl/_connection.py:558\u001b[39m, in \u001b[36mConnection.wrap_api_call\u001b[39m\u001b[34m(self, cb, is_internal, title)\u001b[39m\n\u001b[32m    556\u001b[39m     \u001b[38;5;28;01mreturn\u001b[39;00m \u001b[38;5;28;01mawait\u001b[39;00m cb()\n\u001b[32m    557\u001b[39m \u001b[38;5;28;01mexcept\u001b[39;00m \u001b[38;5;167;01mException\u001b[39;00m \u001b[38;5;28;01mas\u001b[39;00m error:\n\u001b[32m--> \u001b[39m\u001b[32m558\u001b[39m     \u001b[38;5;28;01mraise\u001b[39;00m rewrite_error(error, \u001b[33mf\u001b[39m\u001b[33m\"\u001b[39m\u001b[38;5;132;01m{\u001b[39;00mparsed_st[\u001b[33m'\u001b[39m\u001b[33mapiName\u001b[39m\u001b[33m'\u001b[39m]\u001b[38;5;132;01m}\u001b[39;00m\u001b[33m: \u001b[39m\u001b[38;5;132;01m{\u001b[39;00merror\u001b[38;5;132;01m}\u001b[39;00m\u001b[33m\"\u001b[39m) \u001b[38;5;28;01mfrom\u001b[39;00m\u001b[38;5;250m \u001b[39m\u001b[38;5;28;01mNone\u001b[39;00m\n\u001b[32m    559\u001b[39m \u001b[38;5;28;01mfinally\u001b[39;00m:\n\u001b[32m    560\u001b[39m     \u001b[38;5;28mself\u001b[39m._api_zone.set(\u001b[38;5;28;01mNone\u001b[39;00m)\n",
      "\u001b[31mError\u001b[39m: BrowserType.launch: Executable doesn't exist at /Users/pawarison/Library/Caches/ms-playwright/chromium_headless_shell-1179/chrome-mac/headless_shell\n╔════════════════════════════════════════════════════════════╗\n║ Looks like Playwright was just installed or updated.       ║\n║ Please run the following command to download new browsers: ║\n║                                                            ║\n║     playwright install                                     ║\n║                                                            ║\n║ <3 Playwright Team                                         ║\n╚════════════════════════════════════════════════════════════╝"
     ]
    }
   ],
   "source": [
    "import trafilatura\n",
    "from playwright.async_api import async_playwright \n",
    "\n",
    "# ฟังก์ชันนี้ต้องเป็น async\n",
    "async def fetch_dynamic_content_async(url):\n",
    "    # context manager ก็ต้องเป็น async\n",
    "    async with async_playwright() as p:\n",
    "        browser = await p.chromium.launch()\n",
    "        page = await browser.new_page()\n",
    "        await page.goto(url, wait_until='networkidle', timeout=60000) \n",
    "        html_content = await page.content()\n",
    "        await browser.close()\n",
    "        return html_content\n",
    " \n",
    "\n",
    "url_overall = 'https://academy.investic.ai/rerun-quantoff3/?fbclid=IwY2xjawK6a1tleHRuA2FlbQIxMABicmlkETFzWENFeXRySG1ENVk1YXp2AR6R8bJyV5DW_Oug811R3QV9bEizl0ANn9LbQqQ5-5gPIs8o9dcWDJ0bgg-_lA_aem_GmCwdJE_AkntLwQka-cDWg#pricing'\n",
    "url_rerun = 'https://academy.investic.ai/quant-offside-3x/crypto-quant-trading/#section-01'\n",
    "url_workshop = 'https://academy.investic.ai/quant-offside-3x/online-workshops/'\n",
    "\n",
    "# รันฟังก์ชันและรอผลด้วย await\n",
    "full_html_overall = await fetch_dynamic_content_async(url_overall)\n",
    "full_html_rerun = await fetch_dynamic_content_async(url_rerun)\n",
    "full_html_workshop = await fetch_dynamic_content_async(url_workshop)\n",
    "\n",
    "overall_text = trafilatura.extract(full_html_overall)\n",
    "rerun_text = trafilatura.extract(full_html_rerun)\n",
    "workshop_text = trafilatura.extract(full_html_workshop) "
   ]
  },
  {
   "cell_type": "code",
   "execution_count": 2,
   "id": "3233f42b",
   "metadata": {},
   "outputs": [
    {
     "data": {
      "text/plain": [
       "'Rerun + Online Workshops\\nQuant Offside 3x\\nสัมมนา Quant Trading ที่ใหญ่ที่สุดของปี พร้อมพลิกโลกการลงทุนของคุณให้เหนือชั้นกว่าเดิมด้วย Data-Driven Trading และ AI Investing!\\nQuant Offside 3X rerun เหมาะกับใคร?\\nผมยังไม่รู้จะไปทางไหน?\\nคอร์สนี้จะทำให้คุณเห็นภาพกว้างมากขึ้น\\nคุณจะได้เห็นว่าเหล่า Trader ที่ทำกำไร หรือ CEO , CFO ที่เค้าทำงานด้านการลงทุน Hedge Fund เค้ามีมุมมอง มีจุดเริ่มต้นอย่างไร จนมาถึงวันที่เค้าทำกำไรได้ และเริ่มอยู่ตัวในโลก Quant เพื่อการลงทุน\\nอยากทำระบบเทรด Robot Trade แต่ไม่มี Idea\\nคุณจะได้ Idea มากมายที่ Speaker แต่ละท่านใช้\\nและ speaker แต่ละคนไม่ว่าจะเป็นสายเทรดมือ ทำระบบ Trade เป็น ผู้จัดการกองทุน เหล่า CEO, CFO บอกเลยว่าไม่ธรรมดาครับ และพวกเราคุยกันด้วย Data , Quant, Math แน่นอนจะทำให้คุณเห็นภาพมากขึ้น และเอาไปประยุกต์ใช้กับระบบ Trade หรือ Robot Trade ของคุณ\\nอยากทำงานด้าน Quant Trade การลงทุน\\nแต่ผมไม่ได้เรียนมาสายตรงทำได้ไหม?\\nบอกเลยครับว่าทำได้ เพราะ speaker แต่ละท่านนี่แทบจะไม่ได้เรียนมาโดยตรงด้านนี้เลยครับ แต่ได้มาทำในส่วนของ กลยุทธ การบริหารกองทุน งาน Quant สายธนาคาร แต่หลายๆ ท่านมีจุดเชื่อมโยงอยู่คือ เริ่มจากการลงทุน หรือ Trade แล้วก็ค่อยๆ ต่อยอดมางานสายนี้ และจะเริ่มต้น เตรียมตัวทำงานสายนี้อย่างไร เรียนเชิญในคอร์สเลยครับ\\nพบกับ QUANT OFFSIDE 3X – สุดยอดงานสัมมนา Quant Trading และ AI Investing ครั้งที่ 3 ที่จัดเต็มกว่าที่เคย!\\nพบกับสุดยอด Speakers มากถึง 21 ท่านจากสาย Quant, AI และการลงทุน (11 ชั่วโมง)\\nสัมผัสประสบการณ์จริงกับนวัตกรรม Quant Trading (7 ชั่วโมง)\\nเรียนรู้แบบเจาะลึกกับเหล่า Guru Quant พร้อมใช้ฟรีเครื่องมือ Investic Analytics Studio เต็มๆ 1 เดือน!\\n2 Stages\\nStage 1: Quant Algorithmic Trading\\nสำหรับใครที่สนใจเรื่องการพัฒนาระบบเทรดอย่างเป็นระบบ ไม่ว่าจะการเริ่ม Research Market ไปจนถึงการใช้ในตลาดจริง Use case ที่เหล่าวิทยากรพัฒนาและนำไปใช้จริงมีอะไรบ้างไปดูกัน\\nStage 2: Quant Trading & Investing\\nสำหรับใครที่ชอบในการเทรดมือ รู้หรือไม่ นอกจากราคาปิดของกราฟแท่งเทียน หรือ Indicators แบบทั่วไปแล้วยังมีมิติในการดู Data ในรูปแบบอื่นๆ ที่สามารถนำไปช่วยในการตัดสินใจได้\\n2 Crypto Quant Trading\\nCrypto Quant Trading\\nโซนจัดแสดงนวัตกรรม เครื่องมือ และระบบ Quant Trading ที่ทันสมัยที่สุด ให้ทุกท่านได้ทดลองใช้เครื่องมือและระบบ Quant แบบจริงจัง พบกับคลาสสอนและเวิร์กชอป\\n4 Online Workshops\\nOnline Workshops \"จับมือเทรดด้วย Quant Data\"\\nRerun + Online Workshops\\nสิ่งที่คุณจะได้รับเพียงซื้อ 1 Workshop ขึ้นไป ในราคา 3,599 บาท\\n- RERUN ทุก Session ทั้ง Stage 1 & 2 (รวม 11 ชั่วโมง)\\n- RERUN Crypto Quant Trading (รวม 7 ชั่วโมง)\\n- สิทธิ์ใช้เครื่องมือดู Quant Tool ของ Investic Analytics Studio เป็นระยะเวลา 1 เดือน\\nหากคุณมีข้อสงสัย หรือ ต้องการสอบถามข้อมูลเพิ่มเติม สามารถติดต่อได้ที่เพจ Investic ตามรายละเอียดข้างล่างนี้\\nCall Center : 065-1963546\\nติดต่อได้ ทุกวันจันทร์-ศุกร์ ตั้งแต่ 10:00 – 18:00 น.\\nRerun Quant Offside 3x มีเนื้อหาอะไรบ้าง\\n- การใช้ Market Breadth ในการ Filter ตลาด\\n- ตรวจดูพฤติกรรมหุ้นที่แข็งกว่าตลาด\\n- สถิติตลาดหุ้นในอดีตมีลักษณะรูปแบบไหน\\n- Use case การพัฒนาระบบเทรดในตลาดไทย\\n- การประเมินมูลค่าหุ้นด้วย Fundamental Analysis\\n- การนำ AI มาช่วยทำให้ Fundamental Analysis ให้ง่ายขึ้น\\n- รายใหญ่ และ Open Interest (OI) เกี่ยวข้องกันยังไง\\n- ดู COT Data (Commitment of Traders) เพื่อติดตามพฤติกรรมของ รายใหญ่ในตลาด Future และ Option\\n- สังเกตว่าสัญญา Option OI จะโดดเมื่อรายใหญ่เข้าซื้อ\\n- ประเภทของรายใหญ่มีใครบ้าง (Commercials, Hedge Funds, Dealers)\\n- Option OI/IV เพื่อบอกจังหวะและระดับราคาในตลาด\\n- ใช้ Correlation ในการหาโอกาสการลงทุน\\n- ความสำคัญของ Data ในโลก Crypto\\n- ข้อมูลที่หลากหลายใน Crypto เช่น Onchain, Derivative, Market Data\\n- Sentiment Data เพื่อระบุเหรียญที่มี Sentiment Bullish/Bearish\\n- วิเคราะห์ตลาดตามสถานะกำไร/ขาดทุนของผู้ลงทุน\\n- บทบาทของสถาบันการเงิน (รัฐบาล, สถาบันใหญ่) ใน Cycle ปัจจุบัน ซึ่งต่างจาก Cycle ก่อนๆ ที่เป็น Retail\\n- Altcoin อาจวิ่งแค่บาง Sector ใน Cycle นี้\\n- โอกาสในโลก Crypto นอกเหนือจากการเทรด (Mining, การพัฒนา Project และ Airdrop Hunting)\\n- Mindset สำหรับนักลงทุน Crypto มือใหม่\\n- มูลค่าเหรียญ Crypto ที่อาจ driven ด้วย Attention มากกว่าปัจจัยพื้นฐานแบบดั้งเดิม\\n- ดู Onchain Data เพื่อวิเคราะห์ ต้นทุนเฉลี่ย (Realized Price) ของนักลงทุน\\n- โซนการสะสม (Accumulation) ที่มีการซื้อหนาแน่น\\n- แนะนำคนที่ไม่ได้จบตรงสายที่กำลังสนใจต้องการทำงานในสาย Quant\\n- Use case การใช้ AI และ Generative AI ในกระบวนการขายและการให้บริการลูกค้า เช่น การพัฒนา Chatbot หรือนำข้อมูลลูกค้าวิเคราะห์เพื่อเสนอผลิตภัณฑ์ลงทุน\\n- เรียนรู้แนวคิดและประเภทของ Multi Portfolio Strategy สำหรับการบริหารพอร์ต Quant\\n- การสร้างและจำลองโมเดล\\n- การออกแบบระบบ Back Testing\\n- เจาะลึก Order Flow Analysis\\n- ดูการกระจายคำสั่งซื้อ/ขายแบบ Real Time วิเคราะห์ Order Distribution และ Order Book Imbalance\\n- คาดการณ์ทิศทางตลาด (ขึ้นหรือลง) โดยไม่ต้องดูกราฟราคา และการใช้ประโยชน์จากข้อมูลนี้ในตลาด Crypto\\n- แนวคิดการจัดพอร์ต All Weather Portfolio ที่เน้น Asset Correlation เพื่อผ่านทุกสภาวะตลาด/เศรษฐกิจ การปรับพอร์ตตามการเปลี่ยนแปลง Correlation\\n- การใช้ AI/Machine Learning ในการวิเคราะห์และสร้างโมเดลพอร์ต\\n- ทำไมต้อง Rebalancing\\n- การลดความเสี่ยงของพอร์ต\\n- ประเภทของการ Rebalancing มีอะไรบ้าง\\n- Market Neutral Strategy ที่ไม่เน้นการทำกำไรจากทิศทางตลาด\\n- แนวคิดและการคำนวณ Delta Hedging เพื่อทำให้มูลค่าพอร์ตไม่ผันผวนตามราคา Underlying\\n- Alternative Data โดยเฉพาะ New Sentiment ในการสร้างกลยุทธ์\\n- Framework ในการออกแบบ & พัฒนาระบบเทรด\\n- หาตัวเอง และเริ่มต้นเรียนจากไหนดี Home Trader, Bank/Fund manager, Data Sci'"
      ]
     },
     "execution_count": 2,
     "metadata": {},
     "output_type": "execute_result"
    }
   ],
   "source": [
    "overall_text"
   ]
  },
  {
   "cell_type": "code",
   "execution_count": null,
   "id": "5500b18f",
   "metadata": {},
   "outputs": [],
   "source": [
    "import os\n",
    "folder_name = 'product_data'\n",
    "\n",
    "# 2. สร้างโฟลเดอร์ 'doc' ถ้ายังไม่มี\n",
    "#    exist_ok=True หมายความว่าถ้ามีโฟลเดอร์นี้อยู่แล้วก็ไม่ต้องทำอะไร ไม่เกิด error\n",
    "os.makedirs(folder_name, exist_ok=True)\n",
    "\n",
    "# 3. สร้าง dictionary ของชื่อไฟล์และข้อมูลที่ต้องการบันทึก\n",
    "files_to_save = {\n",
    "    \"overall.txt\": overall_text,\n",
    "    \"rerun.txt\": rerun_text,\n",
    "    \"workshop.txt\": workshop_text\n",
    "}\n",
    "\n",
    "# 4. วนลูปเพื่อบันทึกแต่ละไฟล์\n",
    "for filename, content in files_to_save.items():\n",
    "    # สร้าง path เต็มของไฟล์ (เช่น 'doc/overall.txt')\n",
    "    file_path = os.path.join(folder_name, filename)\n",
    "    \n",
    "    # เปิดไฟล์ในโหมดเขียน ('w') และกำหนด encoding เป็น 'utf-8' เพื่อรองรับภาษาไทย\n",
    "    try:\n",
    "        with open(file_path, 'w', encoding='utf-8') as f:\n",
    "            # ตรวจสอบว่า content ไม่ใช่ None ก่อนเขียน\n",
    "            if content:\n",
    "                f.write(content)\n",
    "            else:\n",
    "                f.write(\"\") # เขียนไฟล์เปล่าถ้าไม่มีข้อมูล\n",
    "        print(f\"บันทึกไฟล์ '{file_path}' เรียบร้อยแล้ว\")\n",
    "    except Exception as e:\n",
    "        print(f\"เกิดข้อผิดพลาดในการบันทึกไฟล์ '{file_path}': {e}\")"
   ]
  }
 ],
 "metadata": {
  "kernelspec": {
   "display_name": ".venv",
   "language": "python",
   "name": "python3"
  },
  "language_info": {
   "codemirror_mode": {
    "name": "ipython",
    "version": 3
   },
   "file_extension": ".py",
   "mimetype": "text/x-python",
   "name": "python",
   "nbconvert_exporter": "python",
   "pygments_lexer": "ipython3",
   "version": "3.12.4"
  }
 },
 "nbformat": 4,
 "nbformat_minor": 5
}
