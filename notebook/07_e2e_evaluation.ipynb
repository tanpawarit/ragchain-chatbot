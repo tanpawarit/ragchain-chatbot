{
 "cells": [
  {
   "cell_type": "markdown",
   "id": "71675187",
   "metadata": {},
   "source": [
    "#### End-to-End Evaluation\n",
    "- ปรับโครงสร้างของ chain\n",
    "- เพิ่มขั้นตอนการประมวลผลเพิ่มเติม\n",
    "- ปรับวิธีการรวมผลลัพธ์จากหลายแหล่งข้อมูล"
   ]
  }
 ],
 "metadata": {
  "language_info": {
   "name": "python"
  }
 },
 "nbformat": 4,
 "nbformat_minor": 5
}
