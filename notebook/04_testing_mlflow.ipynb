{
 "cells": [
  {
   "cell_type": "markdown",
   "id": "3c50158a",
   "metadata": {},
   "source": [
    "#### Prompt Eval"
   ]
  },
  {
   "cell_type": "code",
   "execution_count": null,
   "id": "b5453519",
   "metadata": {},
   "outputs": [
    {
     "name": "stderr",
     "output_type": "stream",
     "text": [
      "2025/06/18 21:23:41 INFO mlflow.models.evaluation.utils.trace: Auto tracing is temporarily enabled during the model evaluation for computing some metrics and debugging. To disable tracing, call `mlflow.autolog(disable=True)`.\n",
      "2025/06/18 21:23:41 INFO mlflow.models.evaluation.evaluators.default: Computing model predictions.\n",
      "2025/06/18 21:23:41 INFO mlflow.models.evaluation.default_evaluator: Testing metrics on first row...\n"
     ]
    },
    {
     "name": "stdout",
     "output_type": "stream",
     "text": [
      "กำลังประเมิน Model A ใน Run ID: c9c4b291f6fc4544981609884e4142dd\n"
     ]
    },
    {
     "name": "stderr",
     "output_type": "stream",
     "text": [
      "2025/06/18 21:23:44 WARNING mlflow.metrics.metric_definitions: Failed to load 'toxicity' metric (error: ModuleNotFoundError(\"No module named 'evaluate'\")), skipping metric logging.\n",
      "2025/06/18 21:23:44 WARNING mlflow.models.evaluation.utils.metric: Did not log metric 'toxicity' at index 1 in the `extra_metrics` parameter because it returned None.\n",
      "2025/06/18 21:23:44 WARNING mlflow.metrics.metric_definitions: Failed to import textstat for flesch kincaid metric, skipping metric logging. Please install textstat using 'pip install textstat'.\n",
      "2025/06/18 21:23:44 WARNING mlflow.models.evaluation.utils.metric: Did not log metric 'flesch_kincaid_grade_level' at index 2 in the `extra_metrics` parameter because it returned None.\n",
      "2025/06/18 21:23:44 WARNING mlflow.metrics.metric_definitions: Failed to import textstat for automated readability index metric, skipping metric logging. Please install textstat using 'pip install textstat'.\n",
      "2025/06/18 21:23:44 WARNING mlflow.models.evaluation.utils.metric: Did not log metric 'ari_grade_level' at index 3 in the `extra_metrics` parameter because it returned None.\n",
      "2025/06/18 21:23:44 WARNING mlflow.metrics.metric_definitions: Failed to load 'toxicity' metric (error: ModuleNotFoundError(\"No module named 'evaluate'\")), skipping metric logging.\n",
      "2025/06/18 21:23:44 WARNING mlflow.models.evaluation.utils.metric: Did not log metric 'toxicity' at index 1 in the `extra_metrics` parameter because it returned None.\n",
      "2025/06/18 21:23:44 WARNING mlflow.metrics.metric_definitions: Failed to import textstat for flesch kincaid metric, skipping metric logging. Please install textstat using 'pip install textstat'.\n",
      "2025/06/18 21:23:44 WARNING mlflow.models.evaluation.utils.metric: Did not log metric 'flesch_kincaid_grade_level' at index 2 in the `extra_metrics` parameter because it returned None.\n",
      "2025/06/18 21:23:44 WARNING mlflow.metrics.metric_definitions: Failed to import textstat for automated readability index metric, skipping metric logging. Please install textstat using 'pip install textstat'.\n",
      "2025/06/18 21:23:44 WARNING mlflow.models.evaluation.utils.metric: Did not log metric 'ari_grade_level' at index 3 in the `extra_metrics` parameter because it returned None.\n",
      "2025/06/18 21:23:44 INFO mlflow.models.evaluation.evaluators.default: Computing model predictions.\n",
      "2025/06/18 21:23:44 INFO mlflow.models.evaluation.default_evaluator: Testing metrics on first row...\n",
      "2025/06/18 21:23:44 WARNING mlflow.metrics.metric_definitions: Failed to load 'toxicity' metric (error: ModuleNotFoundError(\"No module named 'evaluate'\")), skipping metric logging.\n",
      "2025/06/18 21:23:44 WARNING mlflow.models.evaluation.utils.metric: Did not log metric 'toxicity' at index 1 in the `extra_metrics` parameter because it returned None.\n",
      "2025/06/18 21:23:44 WARNING mlflow.metrics.metric_definitions: Failed to import textstat for flesch kincaid metric, skipping metric logging. Please install textstat using 'pip install textstat'.\n",
      "2025/06/18 21:23:44 WARNING mlflow.models.evaluation.utils.metric: Did not log metric 'flesch_kincaid_grade_level' at index 2 in the `extra_metrics` parameter because it returned None.\n",
      "2025/06/18 21:23:44 WARNING mlflow.metrics.metric_definitions: Failed to import textstat for automated readability index metric, skipping metric logging. Please install textstat using 'pip install textstat'.\n",
      "2025/06/18 21:23:44 WARNING mlflow.models.evaluation.utils.metric: Did not log metric 'ari_grade_level' at index 3 in the `extra_metrics` parameter because it returned None.\n",
      "2025/06/18 21:23:44 WARNING mlflow.metrics.metric_definitions: Failed to load 'toxicity' metric (error: ModuleNotFoundError(\"No module named 'evaluate'\")), skipping metric logging.\n",
      "2025/06/18 21:23:44 WARNING mlflow.models.evaluation.utils.metric: Did not log metric 'toxicity' at index 1 in the `extra_metrics` parameter because it returned None.\n",
      "2025/06/18 21:23:44 WARNING mlflow.metrics.metric_definitions: Failed to import textstat for flesch kincaid metric, skipping metric logging. Please install textstat using 'pip install textstat'.\n",
      "2025/06/18 21:23:44 WARNING mlflow.models.evaluation.utils.metric: Did not log metric 'flesch_kincaid_grade_level' at index 2 in the `extra_metrics` parameter because it returned None.\n",
      "2025/06/18 21:23:44 WARNING mlflow.metrics.metric_definitions: Failed to import textstat for automated readability index metric, skipping metric logging. Please install textstat using 'pip install textstat'.\n",
      "2025/06/18 21:23:44 WARNING mlflow.models.evaluation.utils.metric: Did not log metric 'ari_grade_level' at index 3 in the `extra_metrics` parameter because it returned None.\n"
     ]
    },
    {
     "name": "stdout",
     "output_type": "stream",
     "text": [
      "ผลลัพธ์ของ Model A:\n",
      "{'exact_match/v1': 0.0}\n",
      "กำลังประเมิน Model B ใน Run ID: aeee6ad01d554b6995ad6012b2c34190\n",
      "ผลลัพธ์ของ Model B:\n",
      "{'exact_match/v1': 0.0}\n",
      "\n",
      "ประเมินผลเสร็จสิ้น! เปิด MLflow UI เพื่อเปรียบเทียบผลลัพธ์ของ 2 Runs\n"
     ]
    }
   ],
   "source": [
    "import mlflow\n",
    "import pandas as pd\n",
    "# ไม่ต้อง import make_metric ถ้าไม่ได้ใช้ custom metric\n",
    "# from mlflow.models import make_metric\n",
    "\n",
    "# สมมติว่าเรามีโมเดล 2 ตัวที่อยากเปรียบเทียบ\n",
    "def model_A(inputs):\n",
    "    # ในการใช้งานจริง inputs ที่เข้ามาจะเป็น pandas DataFrame\n",
    "    # เราต้องดึงคอลัมน์ที่ต้องการออกมา\n",
    "    questions = inputs[\"questions\"].tolist()\n",
    "    return [f\"คำตอบจาก Model A สำหรับคำถาม: {q}\" for q in questions]\n",
    "\n",
    "def model_B(inputs):\n",
    "    questions = inputs[\"questions\"].tolist()\n",
    "    return [f\"คำตอบจาก Model B สำหรับคำถาม: {q}\" for q in questions]\n",
    "\n",
    "# ข้อมูลที่เราจะใช้ทดสอบ\n",
    "eval_data = pd.DataFrame(\n",
    "    {\n",
    "        \"questions\": [\n",
    "            \"ประวัติของกรุงเทพมหานครคืออะไร?\",\n",
    "            \"ใครคือนายกรัฐมนตรีคนปัจจุบันของไทย?\",\n",
    "        ],\n",
    "        \"ground_truth\": [ # คำตอบที่ถูกต้อง (ถ้ามี)\n",
    "            \"กรุงเทพมหานครสร้างขึ้นในสมัยรัตนโกสินทร์...\",\n",
    "            \"นายกรัฐมนตรีคนปัจจุบันคือคุณเศรษฐา ทวีสิน\",\n",
    "        ],\n",
    "    }\n",
    ")\n",
    "\n",
    "# --- นี่คือส่วนที่แก้ไข ---\n",
    "\n",
    "# 1. ประเมินผล Model A ใน Run แรก\n",
    "with mlflow.start_run(run_name=\"Evaluation for Model A\") as run_a:\n",
    "    print(f\"กำลังประเมิน Model A ใน Run ID: {run_a.info.run_id}\")\n",
    "    results_a = mlflow.evaluate(\n",
    "        model=model_A,  # ใส่แค่ model_A ตัวเดียว\n",
    "        data=eval_data,\n",
    "        targets=\"ground_truth\",\n",
    "        model_type=\"question-answering\",\n",
    "    )\n",
    "    print(\"ผลลัพธ์ของ Model A:\")\n",
    "    print(results_a.metrics)\n",
    "\n",
    "\n",
    "# 2. ประเมินผล Model B ใน Run ที่สอง\n",
    "with mlflow.start_run(run_name=\"Evaluation for Model B\") as run_b:\n",
    "    print(f\"กำลังประเมิน Model B ใน Run ID: {run_b.info.run_id}\")\n",
    "    results_b = mlflow.evaluate(\n",
    "        model=model_B,  # ใส่แค่ model_B ตัวเดียว\n",
    "        data=eval_data,\n",
    "        targets=\"ground_truth\",\n",
    "        model_type=\"question-answering\",\n",
    "    )\n",
    "    print(\"ผลลัพธ์ของ Model B:\")\n",
    "    print(results_b.metrics)\n",
    " "
   ]
  },
  {
   "cell_type": "markdown",
   "id": "cefd8e4e",
   "metadata": {},
   "source": [
    "#### log trace monitor"
   ]
  },
  {
   "cell_type": "code",
   "execution_count": 7,
   "id": "51318acc",
   "metadata": {},
   "outputs": [],
   "source": [
    "import mlflow\n",
    "import openai\n",
    "from src.utils.app_config import AppConfig\n",
    " \n",
    "cfg = AppConfig.from_files(model_config_path = \"configs/model_config.yaml\", environment_config_path = \"config.yaml\")\n",
    "\n",
    "openai.api_key = cfg.openai_token\n",
    "# Prompt Template ของเรา\n",
    "prompt_template = \"\"\"\n",
    "คุณคือผู้ช่วย AI ที่เชี่ยวชาญด้านประวัติศาสตร์ไทย\n",
    "จงตอบคำถามต่อไปนี้ให้กระชับและถูกต้อง:\n",
    "\n",
    "คำถาม: {question}\n",
    "\"\"\"\n",
    "\n",
    "def create_response(question, temp):\n",
    "    prompt = prompt_template.format(question=question)\n",
    "    response = openai.chat.completions.create(\n",
    "        model=\"gpt-3.5-turbo\",\n",
    "        messages=[{\"role\": \"user\", \"content\": prompt}],\n",
    "        temperature=temp,\n",
    "    )\n",
    "    return response.choices[0].message.content\n",
    "\n",
    "# ลองทดลอง 2 แบบ ด้วย temperature ที่ต่างกัน\n",
    "question = \"ใครคือพระมหากษัตริย์องค์แรกแห่งราชวงศ์จักรี?\"\n",
    "\n",
    "# การทดลองที่ 1: Temperature = 0.2\n",
    "with mlflow.start_run(run_name=\"Creative Prompt Run\"):\n",
    "    mlflow.log_param(\"temperature\", 0.8) # บันทึก parameter\n",
    "    mlflow.log_param(\"prompt_template\", prompt_template) # บันทึก template\n",
    "    answer = create_response(question, temp=0.8)\n",
    "    mlflow.log_text(answer, artifact_file=\"model_output.txt\") # บันทึกผลลัพธ์\n",
    "\n",
    "# การทดลองที่ 2: Temperature = 0.8\n",
    "with mlflow.start_run(run_name=\"Factual Prompt Run\"):\n",
    "    mlflow.log_param(\"temperature\", 0.2)\n",
    "    mlflow.log_param(\"prompt_template\", prompt_template)\n",
    "    answer = create_response(question, temp=0.2)\n",
    "    mlflow.log_text(answer, artifact_file=\"model_output.txt\")"
   ]
  },
  {
   "cell_type": "code",
   "execution_count": null,
   "id": "f9997381",
   "metadata": {},
   "outputs": [
    {
     "name": "stdout",
     "output_type": "stream",
     "text": [
      "Starting Run: Training Simulation with Line Graph\n",
      "Epoch 0: Logging accuracy = 0.6001\n",
      "Epoch 1: Logging accuracy = 0.6570\n",
      "Epoch 2: Logging accuracy = 0.6925\n",
      "Epoch 3: Logging accuracy = 0.7031\n",
      "Epoch 4: Logging accuracy = 0.7413\n",
      "Epoch 5: Logging accuracy = 0.8000\n",
      "Epoch 6: Logging accuracy = 0.8419\n",
      "Epoch 7: Logging accuracy = 0.8877\n",
      "Epoch 8: Logging accuracy = 0.9233\n",
      "Epoch 9: Logging accuracy = 0.9516\n",
      "Run finished. Check the 'Training Simulation' run in MLflow UI.\n"
     ]
    }
   ],
   "source": [
    "# ======= test log_metric =======\n",
    "# บันทึก \"ความคืบหน้า\" ของค่าใดค่าหนึ่งที่เปลี่ยนแปลงตลอดเวลา\n",
    "import mlflow\n",
    "import time\n",
    "import random\n",
    "\n",
    "# จำลองการเทรนโมเดลที่มี 10 epochs\n",
    "with mlflow.start_run(run_name=\"Training Simulation with Line Graph\") as run:\n",
    "    print(f\"Starting Run: {run.info.run_name}\")\n",
    "    for epoch in range(10):\n",
    "        # สมมติว่านี่คือค่า accuracy ที่ดีขึ้นเรื่อยๆ ในแต่ละรอบ\n",
    "        # เราบวกค่าสุ่มเข้าไปเล็กน้อยเพื่อให้กราฟดูสมจริง\n",
    "        accuracy = 0.6 + (epoch * 0.04) + (random.uniform(-0.02, 0.02))\n",
    "        \n",
    "        print(f\"Epoch {epoch}: Logging accuracy = {accuracy:.4f}\")\n",
    "        \n",
    "        # --- หัวใจสำคัญอยู่ตรงนี้ ---\n",
    "        # บันทึก metric ชื่อ \"accuracy\" ในแต่ละ epoch (step)\n",
    "        mlflow.log_metric(\"accuracy\", accuracy, step=epoch)\n",
    "        \n",
    "        time.sleep(1) # จำลองว่าใช้เวลาเทรน 1 วินาที\n",
    "\n",
    "print(\"Run finished. Check the 'Training Simulation' run in MLflow UI.\")"
   ]
  },
  {
   "cell_type": "markdown",
   "id": "529678d8",
   "metadata": {},
   "source": [
    "#### RAG Development & Auditing"
   ]
  },
  {
   "cell_type": "code",
   "execution_count": 12,
   "id": "faa32ad9",
   "metadata": {},
   "outputs": [],
   "source": [
    "import mlflow\n",
    "\n",
    "# สมมติว่าเรามีฟังก์ชันเหล่านี้อยู่แล้ว\n",
    "def retrieve_documents(query):\n",
    "    # ค้นหาเอกสารที่เกี่ยวข้องจาก Vector DB\n",
    "    # ...\n",
    "    return [\"เอกสารที่ 1 เกี่ยวกับแมว\", \"เอกสารที่ 2 เกี่ยวกับสุนัข\"]\n",
    "\n",
    "def generate_answer(query, context):\n",
    "    # นำ query และ context ไปสร้างคำตอบด้วย LLM\n",
    "    # ...\n",
    "    return \"แมวเป็นสัตว์เลี้ยงลูกด้วยนม\"\n",
    "\n",
    "def my_rag_chain(query):\n",
    "    # 1. Retrieve\n",
    "    retrieved_docs = retrieve_documents(query)\n",
    "\n",
    "    # 2. Generate\n",
    "    final_answer = generate_answer(query, retrieved_docs)\n",
    "\n",
    "    # ส่งคืนข้อมูลทั้งหมดเพื่อการตรวจสอบ\n",
    "    return {\n",
    "        \"final_answer\": final_answer,\n",
    "        \"retrieved_documents\": retrieved_docs,\n",
    "        \"original_query\": query,\n",
    "    }\n",
    "\n",
    "# เริ่มการทดลอง RAG\n",
    "with mlflow.start_run(run_name=\"RAG Test\"):\n",
    "    query = \"ข้อมูลเกี่ยวกับแมว\"\n",
    "    trace = my_rag_chain(query)\n",
    "\n",
    "    # บันทึก Trace ทั้งหมดลงใน MLflow เป็นไฟล์ JSON\n",
    "    mlflow.log_dict(trace, \"rag_trace.json\")\n",
    "\n",
    "    # เรายังสามารถใช้ mlflow.evaluate() กับ RAG ได้ด้วย!\n",
    "    # โดยใช้ metric \"faithfulness\" เพื่อดูว่าคำตอบอ้างอิงจาก context จริงหรือไม่"
   ]
  },
  {
   "cell_type": "code",
   "execution_count": null,
   "id": "1631e318",
   "metadata": {},
   "outputs": [],
   "source": []
  },
  {
   "cell_type": "markdown",
   "id": "321bd2a6",
   "metadata": {},
   "source": [
    "#### log_param + log_metric "
   ]
  },
  {
   "cell_type": "code",
   "execution_count": 11,
   "id": "9b5c59d7",
   "metadata": {},
   "outputs": [
    {
     "name": "stdout",
     "output_type": "stream",
     "text": [
      "Logging parameters...\n",
      "Logging metrics...\n",
      "Run finished. Check MLflow UI.\n"
     ]
    }
   ],
   "source": [
    "import mlflow\n",
    "import random\n",
    "\n",
    "# --- ค่าที่เราต้องการจะทดลอง ซึ่งเป็น Parameters ของเรา ---\n",
    "prompt_template = \"จงสรุปความต่อไปนี้ให้เหลือ 1 ประโยค: {text}\"\n",
    "model_name = \"gpt-4o-mini\"\n",
    "temperature = 0.5\n",
    "\n",
    "with mlflow.start_run(run_name=f\"Summarize with {model_name} temp {temperature}\"):\n",
    "    \n",
    "    # --- 1. บันทึก Parameters ของการทดลองนี้ ---\n",
    "    # เพื่อให้เรารู้ว่า Run นี้ใช้ Config อะไรไปบ้าง\n",
    "    print(\"Logging parameters...\")\n",
    "    mlflow.log_param(\"prompt_template\", prompt_template)\n",
    "    mlflow.log_param(\"model_name\", model_name)\n",
    "    mlflow.log_param(\"temperature\", temperature)\n",
    "\n",
    "    # ... (ส่วนของโค้ดที่เรียกใช้โมเดล LLM จริงๆ) ...\n",
    "    \n",
    "    # สมมติว่าหลังจากเรียก LLM แล้ว เรานำผลลัพธ์ไปประเมิน\n",
    "    # และได้คะแนนความถูกต้องออกมา (ซึ่งเป็น Metric)\n",
    "    simulated_score = 0.90 + random.uniform(-0.05, 0.05) \n",
    "\n",
    "    # --- 2. บันทึก Metric ที่เป็นผลลัพธ์ ---\n",
    "    print(\"Logging metrics...\")\n",
    "    mlflow.log_metric(\"summary_quality_score\", simulated_score)\n",
    "\n",
    "    print(\"Run finished. Check MLflow UI.\")"
   ]
  },
  {
   "attachments": {
    "image.png": {
     "image/png": "[encoded data removed]"
    }
   },
   "cell_type": "markdown",
   "id": "fc03c20f",
   "metadata": {},
   "source": [
    "![image.png](attachment:image.png)"
   ]
  },
  {
   "cell_type": "markdown",
   "id": "16878a09",
   "metadata": {},
   "source": []
  }
 ],
 "metadata": {
  "kernelspec": {
   "display_name": ".venv",
   "language": "python",
   "name": "python3"
  },
  "language_info": {
   "codemirror_mode": {
    "name": "ipython",
    "version": 3
   },
   "file_extension": ".py",
   "mimetype": "text/x-python",
   "name": "python",
   "nbconvert_exporter": "python",
   "pygments_lexer": "ipython3",
   "version": "3.12.8"
  }
 },
 "nbformat": 4,
 "nbformat_minor": 5
}
