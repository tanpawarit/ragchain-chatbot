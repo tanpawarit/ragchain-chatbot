{
 "cells": [
  {
   "cell_type": "markdown",
   "id": "cb91acd3",
   "metadata": {},
   "source": [
    "ภาพรวม:\n",
    "- https://academy.investic.ai/rerun-quantoff3/?fbclid=IwY2xjawK6a1tleHRuA2FlbQIxMABicmlkETFzWENFeXRySG1ENVk1YXp2AR6R8bJyV5DW_Oug811R3QV9bEizl0ANn9LbQqQ5-5gPIs8o9dcWDJ0bgg-_lA_aem_GmCwdJE_AkntLwQka-cDWg#pricing\n",
    "\n",
    "rerun:\n",
    "- https://academy.investic.ai/quant-offside-3x/crypto-quant-trading/#section-01\n",
    "\n",
    "workshop:\n",
    "- https://academy.investic.ai/quant-offside-3x/online-workshops/"
   ]
  },
  {
   "cell_type": "code",
   "execution_count": null,
   "id": "d32a2b16",
   "metadata": {},
   "outputs": [],
   "source": [
    "import trafilatura\n",
    "from playwright.async_api import async_playwright\n",
    "\n",
    "# ฟังก์ชันนี้ต้องเป็น async\n",
    "async def fetch_dynamic_content_async(url):\n",
    "    # context manager ก็ต้องเป็น async\n",
    "    async with async_playwright() as p:\n",
    "        browser = await p.chromium.launch()\n",
    "        page = await browser.new_page()\n",
    "        await page.goto(url, wait_until='networkidle', timeout=60000) \n",
    "        html_content = await page.content()\n",
    "        await browser.close()\n",
    "        return html_content\n",
    "\n",
    "# --- เวลารันใน Notebook ---\n",
    "# เราต้องใช้ await เพื่อรอผลจากฟังก์ชัน async\n",
    "\n",
    "url_overall = 'https://academy.investic.ai/rerun-quantoff3/?fbclid=IwY2xjawK6a1tleHRuA2FlbQIxMABicmlkETFzWENFeXRySG1ENVk1YXp2AR6R8bJyV5DW_Oug811R3QV9bEizl0ANn9LbQqQ5-5gPIs8o9dcWDJ0bgg-_lA_aem_GmCwdJE_AkntLwQka-cDWg#pricing'\n",
    "url_rerun = 'https://academy.investic.ai/quant-offside-3x/crypto-quant-trading/#section-01'\n",
    "url_workshop = 'https://academy.investic.ai/quant-offside-3x/online-workshops/'\n",
    "\n",
    "# รันฟังก์ชันและรอผลด้วย await\n",
    "full_html_overall = await fetch_dynamic_content_async(url_overall)\n",
    "full_html_rerun = await fetch_dynamic_content_async(url_rerun)\n",
    "full_html_workshop = await fetch_dynamic_content_async(url_workshop)\n",
    "\n",
    "overall_text = trafilatura.extract(full_html_overall)\n",
    "rerun_text = trafilatura.extract(full_html_rerun)\n",
    "workshop_text = trafilatura.extract(full_html_workshop) \n"
   ]
  },
  {
   "cell_type": "code",
   "execution_count": 13,
   "id": "17855bfb",
   "metadata": {},
   "outputs": [
    {
     "name": "stdout",
     "output_type": "stream",
     "text": [
      "บันทึกไฟล์ 'product_data/overall.txt' เรียบร้อยแล้ว\n",
      "บันทึกไฟล์ 'product_data/rerun.txt' เรียบร้อยแล้ว\n",
      "บันทึกไฟล์ 'product_data/workshop.txt' เรียบร้อยแล้ว\n"
     ]
    }
   ],
   "source": [
    "import os\n",
    "folder_name = 'product_data'\n",
    "\n",
    "# 2. สร้างโฟลเดอร์ 'doc' ถ้ายังไม่มี\n",
    "#    exist_ok=True หมายความว่าถ้ามีโฟลเดอร์นี้อยู่แล้วก็ไม่ต้องทำอะไร ไม่เกิด error\n",
    "os.makedirs(folder_name, exist_ok=True)\n",
    "\n",
    "# 3. สร้าง dictionary ของชื่อไฟล์และข้อมูลที่ต้องการบันทึก\n",
    "files_to_save = {\n",
    "    \"overall.txt\": overall_text,\n",
    "    \"rerun.txt\": rerun_text,\n",
    "    \"workshop.txt\": workshop_text\n",
    "}\n",
    "\n",
    "# 4. วนลูปเพื่อบันทึกแต่ละไฟล์\n",
    "for filename, content in files_to_save.items():\n",
    "    # สร้าง path เต็มของไฟล์ (เช่น 'doc/overall.txt')\n",
    "    file_path = os.path.join(folder_name, filename)\n",
    "    \n",
    "    # เปิดไฟล์ในโหมดเขียน ('w') และกำหนด encoding เป็น 'utf-8' เพื่อรองรับภาษาไทย\n",
    "    try:\n",
    "        with open(file_path, 'w', encoding='utf-8') as f:\n",
    "            # ตรวจสอบว่า content ไม่ใช่ None ก่อนเขียน\n",
    "            if content:\n",
    "                f.write(content)\n",
    "            else:\n",
    "                f.write(\"\") # เขียนไฟล์เปล่าถ้าไม่มีข้อมูล\n",
    "        print(f\"บันทึกไฟล์ '{file_path}' เรียบร้อยแล้ว\")\n",
    "    except Exception as e:\n",
    "        print(f\"เกิดข้อผิดพลาดในการบันทึกไฟล์ '{file_path}': {e}\")"
   ]
  },
  {
   "cell_type": "code",
   "execution_count": null,
   "id": "4e0049c1",
   "metadata": {},
   "outputs": [],
   "source": []
  }
 ],
 "metadata": {
  "kernelspec": {
   "display_name": ".venv",
   "language": "python",
   "name": "python3"
  },
  "language_info": {
   "codemirror_mode": {
    "name": "ipython",
    "version": 3
   },
   "file_extension": ".py",
   "mimetype": "text/x-python",
   "name": "python",
   "nbconvert_exporter": "python",
   "pygments_lexer": "ipython3",
   "version": "3.12.8"
  }
 },
 "nbformat": 4,
 "nbformat_minor": 5
}
