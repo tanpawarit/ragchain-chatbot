{
 "cells": [
  {
   "cell_type": "markdown",
   "id": "6da049e4",
   "metadata": {},
   "source": [
    "#### Generator Evaluation\n",
    "- ปรับ prompt template\n",
    "- เปลี่ยน LLM model\n",
    "- เพิ่มการตรวจสอบข้อเท็จจริง\n",
    "- ปรับวิธีการรวมบริบทจากเอกสารที่ดึงมา"
   ]
  },
  {
   "cell_type": "code",
   "execution_count": null,
   "id": "b24cb4b0",
   "metadata": {
    "vscode": {
     "languageId": "plaintext"
    }
   },
   "outputs": [],
   "source": []
  },
  {
   "cell_type": "code",
   "execution_count": null,
   "id": "ea3f2500",
   "metadata": {
    "vscode": {
     "languageId": "plaintext"
    }
   },
   "outputs": [],
   "source": []
  }
 ],
 "metadata": {
  "language_info": {
   "name": "python"
  }
 },
 "nbformat": 4,
 "nbformat_minor": 5
}
