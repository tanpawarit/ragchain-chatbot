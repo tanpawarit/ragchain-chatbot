{
 "cells": [
  {
   "cell_type": "code",
   "execution_count": 23,
   "id": "29056ff1",
   "metadata": {},
   "outputs": [
    {
     "name": "stderr",
     "output_type": "stream",
     "text": [
      "Source file docs/txts/a.txt does not exist\n",
      "Source file docs/txts/b.txt does not exist\n"
     ]
    }
   ],
   "source": [
    "from pathlib import Path\n",
    "from src.utils.data_version_manager import DataVersionManager\n",
    "\n",
    "# 1) สร้างอ็อบเจ็กต์ — ระบุโฟลเดอร์เก็บข้อมูลดิบและโฟลเดอร์เก็บ FAISS index\n",
    "dvm = DataVersionManager(\n",
    "    base_data_dir=\"data\",          # จะมี data/raw/ เกิดขึ้น\n",
    "    base_index_dir=\"artifacts\",    # จะมี artifacts/faiss_index_vX.Y/\n",
    "    data_version=\"latest\",         # ค่าเริ่มต้น = \"latest\"\n",
    "    gcs_path=None                  # ใส่ 'gs://bucket/data/raw' ถ้าจะใช้ GCS\n",
    ")\n",
    "\n",
    "# 2) เพิ่มเวอร์ชันข้อมูลใหม่\n",
    "raw_sources = [\"docs/txts/a.txt\", \"docs/txts/b.txt\"]\n",
    "new_version: str = dvm.create_new_version(raw_sources, increment_type=\"minor\")\n",
    "# → สร้าง data/raw/v1.1/, คัดลอกไฟล์ และอัปเดต symlink data/raw/latest →"
   ]
  },
  {
   "cell_type": "code",
   "execution_count": 24,
   "id": "d127276e",
   "metadata": {},
   "outputs": [
    {
     "data": {
      "text/plain": [
       "['v1.0', 'v1.1', 'v1.2', 'v1.3']"
      ]
     },
     "execution_count": 24,
     "metadata": {},
     "output_type": "execute_result"
    }
   ],
   "source": [
    "dvm.list_available_versions()"
   ]
  },
  {
   "cell_type": "code",
   "execution_count": 25,
   "id": "b4d9b816",
   "metadata": {},
   "outputs": [
    {
     "data": {
      "text/plain": [
       "PosixPath('data/raw/latest')"
      ]
     },
     "execution_count": 25,
     "metadata": {},
     "output_type": "execute_result"
    }
   ],
   "source": [
    "# 3) ดึง path ของไฟล์ดิบตามเวอร์ชันที่ต้องการ\n",
    "data_dir: Path = dvm.get_data_version_path(\"latest\")  # หรือ \"v1.0\" ฯลฯ\n",
    "data_dir"
   ]
  },
  {
   "cell_type": "code",
   "execution_count": 26,
   "id": "0e6ca89d",
   "metadata": {},
   "outputs": [
    {
     "ename": "IndexError",
     "evalue": "list index out of range",
     "output_type": "error",
     "traceback": [
      "\u001b[31m---------------------------------------------------------------------------\u001b[39m",
      "\u001b[31mIndexError\u001b[39m                                Traceback (most recent call last)",
      "\u001b[36mCell\u001b[39m\u001b[36m \u001b[39m\u001b[32mIn[26]\u001b[39m\u001b[32m, line 21\u001b[39m\n\u001b[32m     17\u001b[39m \u001b[38;5;66;03m# artifacts/faiss_index_v1.1/lineage.json จะถูกเขียนอัตโนมัติ\u001b[39;00m\n\u001b[32m     18\u001b[39m \n\u001b[32m     19\u001b[39m \u001b[38;5;66;03m# 6) ภายหลังสามารถอ่าน lineage ย้อนดูได้\u001b[39;00m\n\u001b[32m     20\u001b[39m info = dvm.get_lineage_for_index(\u001b[38;5;28mstr\u001b[39m(index_path))\n\u001b[32m---> \u001b[39m\u001b[32m21\u001b[39m \u001b[38;5;28mprint\u001b[39m(\u001b[43minfo\u001b[49m\u001b[43m[\u001b[49m\u001b[33;43m\"\u001b[39;49m\u001b[33;43mfiles\u001b[39;49m\u001b[33;43m\"\u001b[39;49m\u001b[43m]\u001b[49m\u001b[43m[\u001b[49m\u001b[32;43m0\u001b[39;49m\u001b[43m]\u001b[49m[\u001b[33m\"\u001b[39m\u001b[33mmd5_hash\u001b[39m\u001b[33m\"\u001b[39m])\n",
      "\u001b[31mIndexError\u001b[39m: list index out of range"
     ]
    }
   ],
   "source": [
    " \n",
    "# 4) (ขั้นตอนของคุณ) โหลดไฟล์ดิบ, สร้าง embedding แล้ว build FAISS index\n",
    "index_dir: Path = dvm.get_index_path_for_version(new_version)\n",
    "index_path = index_dir / \"index.faiss\"\n",
    "# ... สร้างและบันทึก index.faiss ลงไปที่ index_path ...\n",
    "\n",
    "# 5) สร้าง lineage record ไว้สืบย้อนกลับ\n",
    "lineage = dvm.create_lineage_record(\n",
    "    index_path=str(index_path),\n",
    "    data_version=new_version,\n",
    "    files_used=raw_sources,\n",
    "    parameters={\n",
    "        \"embedding_model\": \"all-MiniLM-L6-v2\",\n",
    "        \"chunk_size\": 512,\n",
    "        \"faiss_dim\": 384\n",
    "    }\n",
    ")\n",
    "# artifacts/faiss_index_v1.1/lineage.json จะถูกเขียนอัตโนมัติ\n",
    "\n",
    "# 6) ภายหลังสามารถอ่าน lineage ย้อนดูได้\n",
    "info = dvm.get_lineage_for_index(str(index_path))\n",
    "print(info[\"files\"][0][\"md5_hash\"])"
   ]
  }
 ],
 "metadata": {
  "kernelspec": {
   "display_name": ".venv",
   "language": "python",
   "name": "python3"
  },
  "language_info": {
   "codemirror_mode": {
    "name": "ipython",
    "version": 3
   },
   "file_extension": ".py",
   "mimetype": "text/x-python",
   "name": "python",
   "nbconvert_exporter": "python",
   "pygments_lexer": "ipython3",
   "version": "3.12.8"
  }
 },
 "nbformat": 4,
 "nbformat_minor": 5
}
