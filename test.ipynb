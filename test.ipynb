{
 "cells": [
  {
   "cell_type": "code",
   "execution_count": 2,
   "metadata": {},
   "outputs": [
    {
     "name": "stderr",
     "output_type": "stream",
     "text": [
      "2025/07/03 22:42:45 INFO mlflow.tracking.fluent: Experiment with name 'rag-chatbot-production' does not exist. Creating a new experiment.\n"
     ]
    },
    {
     "name": "stdout",
     "output_type": "stream",
     "text": [
      "🤖 RAG Chatbot พร้อมใช้งานแล้ว! (พิมพ์ 'quit', 'exit', หรือ 'bye' เพื่อออก)\n",
      "--------------------------------------------------\n",
      "🤖 สวัสดีครับ มีข้อสงสัยหรือคำถามเกี่ยวกับ Quant Offside 3X หรือการลงทุนในสินทรัพย์ดิจิทัลอย่างไรบ้างครับ? ฉันพร้อมช่วยเหลือครับ หรือถ้าคุณต้องการข้อมูลเพิ่มเติมเกี่ยวกับ Quant Trading หรือ Crypto Trading ก็สามารถถามได้เลยครับ มีอะไรให้ช่วยครับ?\n",
      "--------------------------------------------------\n"
     ]
    },
    {
     "name": "stderr",
     "output_type": "stream",
     "text": [
      "เกิดข้อผิดพลาด: Changing param values is not allowed. Param with key='question' was already logged with value='สวัสดี' for run ID='9305099381f049ba95d9b9870ab28cf6'. Attempted logging new value 'มีคอร์สอะไรบ้าง'.\n"
     ]
    },
    {
     "name": "stdout",
     "output_type": "stream",
     "text": [
      "❌ เกิดข้อผิดพลาด: Changing param values is not allowed. Param with key='question' was already logged with value='สวัสดี' for run ID='9305099381f049ba95d9b9870ab28cf6'. Attempted logging new value 'มีคอร์สอะไรบ้าง'.\n",
      "💡 ลองถามคำถามใหม่ หรือพิมพ์ 'quit' เพื่อออก\n",
      "👋 ขอบคุณที่ใช้งาน RAG Chatbot!\n"
     ]
    }
   ],
   "source": [
    "from src.components.ragchain_runner import RAGChainRunner\n",
    "from src.utils.config.app_config import AppConfig\n",
    "from src.utils.config.manager import get_config\n",
    "from src.utils.logger import get_logger\n",
    "from src.utils.pipeline.mlflow_tracker import MLflowTracker\n",
    "from src.utils.pipeline.vectorstore_manager import load_vectorstore\n",
    "\n",
    "logger = get_logger(__name__)\n",
    "\n",
    "\n",
    "def main() -> None:\n",
    "    cfg = AppConfig.from_files(\"configs/model_config.yaml\", \"config.yaml\")\n",
    "\n",
    "    # รับข้อมูลผู้ใช้\n",
    "    user_id = input(\"👤 User ID (กด Enter เพื่อข้าม): \")\n",
    "\n",
    "    # Load MLflow config\n",
    "    mlflow_config = get_config(\"config.yaml\").get(\"mlflow\", {})\n",
    "    experiment_name = mlflow_config.get(\"experiment_name\", \"default\")\n",
    "\n",
    "    with MLflowTracker(\n",
    "        experiment_name=experiment_name, run_name=\"rag_runner\"\n",
    "    ) as tracker:\n",
    "        # บันทึกข้อมูลผู้ใช้\n",
    "        if user_id:\n",
    "            tracker.log_params({\"user_id\": user_id})\n",
    "\n",
    "        # Load the vectorstore first\n",
    "        logger.info(\"🔄 Loading vectorstore...\")\n",
    "        vectorstore = load_vectorstore(\n",
    "            cfg, data_version=\"latest\", mlflow_tracker=tracker\n",
    "        )\n",
    "\n",
    "        rag = RAGChainRunner(cfg, mlflow_tracker=tracker, vectorstore=vectorstore)\n",
    "\n",
    "        print(\"🤖 RAG Chatbot พร้อมใช้งานแล้ว! (พิมพ์ 'quit', 'exit', หรือ 'bye' เพื่อออก)\")\n",
    "        print(\"-\" * 50)\n",
    "\n",
    "        # Interactive chat loop\n",
    "        while True:\n",
    "            try:\n",
    "                question = input(\"💬 คำถาม: \").strip()\n",
    "\n",
    "                # Check for exit commands\n",
    "                if question.lower() in [\"quit\", \"exit\", \"bye\", \"ออก\", \"จบ\", \"เลิก\"]:\n",
    "                    print(\"👋 ขอบคุณที่ใช้งาน RAG Chatbot!\")\n",
    "                    break\n",
    "\n",
    "                # Skip empty questions\n",
    "                if not question:\n",
    "                    print(\"⚠️  กรุณาใส่คำถาม\")\n",
    "                    continue\n",
    "\n",
    "                logger.info(\"🧠 Thinking...\")\n",
    "                answer = rag.answer(question, user_id=user_id if user_id else None)\n",
    "                print(f\"🤖 {answer}\")\n",
    "                print(\"-\" * 50)\n",
    "\n",
    "            except KeyboardInterrupt:\n",
    "                print(\"\\n👋 ขอบคุณที่ใช้งาน RAG Chatbot!\")\n",
    "                break\n",
    "            except Exception as e:\n",
    "                logger.error(f\"เกิดข้อผิดพลาด: {e}\")\n",
    "                print(f\"❌ เกิดข้อผิดพลาด: {e}\")\n",
    "                print(\"💡 ลองถามคำถามใหม่ หรือพิมพ์ 'quit' เพื่อออก\")\n",
    "\n",
    "\n",
    "if __name__ == \"__main__\":  # pragma: no cover\n",
    "    main()\n"
   ]
  },
  {
   "cell_type": "code",
   "execution_count": null,
   "metadata": {},
   "outputs": [],
   "source": []
  },
  {
   "cell_type": "code",
   "execution_count": null,
   "metadata": {},
   "outputs": [],
   "source": []
  }
 ],
 "metadata": {
  "kernelspec": {
   "display_name": ".venv",
   "language": "python",
   "name": "python3"
  },
  "language_info": {
   "codemirror_mode": {
    "name": "ipython",
    "version": 3
   },
   "file_extension": ".py",
   "mimetype": "text/x-python",
   "name": "python",
   "nbconvert_exporter": "python",
   "pygments_lexer": "ipython3",
   "version": "3.12.4"
  }
 },
 "nbformat": 4,
 "nbformat_minor": 2
}
