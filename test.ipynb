{
 "cells": [
  {
   "cell_type": "code",
   "execution_count": 1,
   "id": "984a9652",
   "metadata": {},
   "outputs": [],
   "source": [
    "# !uv pip install langchain langchain-openai langchain-community faiss-cpu openai tiktoken trafilatura playwright nest_asyncio langchain_experimental\n",
    "# !uv add langchain langchain-openai langchain-community faiss-cpu openai tiktoken trafilatura playwright nest_asyncio langchain_experimental\n",
    "# !playwright install"
   ]
  },
  {
   "cell_type": "code",
   "execution_count": null,
   "id": "7b2cde7c",
   "metadata": {},
   "outputs": [],
   "source": []
  },
  {
   "cell_type": "code",
   "execution_count": null,
   "id": "3e36618c",
   "metadata": {},
   "outputs": [],
   "source": []
  },
  {
   "cell_type": "code",
   "execution_count": null,
   "id": "ae06f91a",
   "metadata": {},
   "outputs": [],
   "source": []
  },
  {
   "cell_type": "code",
   "execution_count": 6,
   "id": "7fd3d3fd",
   "metadata": {},
   "outputs": [],
   "source": [
    "from src.components.ingestion import DataIngestionPipeline \n",
    " \n",
    "ingestion = DataIngestionPipeline(model_config_path=\"configs/model_config.yaml\", environment_config_path=\"config.yaml\")\n",
    "vectorstore = ingestion.get_or_create_vectorstore( \n",
    "    use_semantic_chunking=True,   \n",
    ") \n",
    "\n",
    "# res = vectorstore.similarity_search(\n",
    "#     query=\"มีอะไรบ้าง?\",\n",
    "#     search_type=\"similarity\",\n",
    "#     search_kwargs={\"k\": 4}  # จำนวน chunks ที่จะดึงมา\n",
    "# ) \n",
    "\n",
    "retriever = vectorstore.as_retriever(\n",
    "    search_type=\"similarity\",\n",
    "    search_kwargs={\"k\": 4}  # จำนวน chunks ที่จะดึงมา\n",
    ")"
   ]
  },
  {
   "cell_type": "code",
   "execution_count": null,
   "id": "00a06144",
   "metadata": {},
   "outputs": [
    {
     "name": "stdout",
     "output_type": "stream",
     "text": [
      "\n",
      "--- 🤖 เริ่มระบบถาม-ตอบ (RAG) ---\n",
      "คำถาม: มีเวิคช้อบอะไรบ้างครับ เเล้วขายยังไง\n",
      "คำตอบจาก AI: สวัสดีครับ ยินดีต้อนรับสู่ SCB 10X ครับ\n",
      "\n",
      "สำหรับเวิร์คช็อปที่เรามีนะครับ ตอนนี้เรามี \"Online Workshops จับมือเทรดด้วย Quant Data\" ซึ่งถ้าคุณซื้อ 1 เวิร์คช็อปขึ้นไป คุณจะได้รับสิทธิพิเศษมากมายเลยครับ เช่น\n",
      "\n",
      "*   RERUN ทุก Session ทั้ง Stage 1 & 2 (รวม 11 ชั่วโมง)\n",
      "*   RERUN Crypto Quant Trading (รวม 7 ชั่วโมง)\n",
      "*   สิทธิ์ใช้เครื่องมือดู Quant Tool ของ Investic Analytics Studio เป็นระยะเวลา 1 เดือน\n",
      "\n",
      "นอกจากนี้ ยังมี \"Rerun Quant Offside 3x\" ที่จะพาคุณเจาะลึกเรื่องการใช้ Market Breadth ในการ Filter ตลาด, การตรวจดูพฤติกรรมหุ้นที่แข็งกว่าตลาด, การวิเคราะห์สถิติตลาดหุ้นในอดีต, Use case การพัฒนาระบบเทรดในตลาดไทย, การประเมินมูลค่าหุ้นด้วย Fundamental Analysis และอื่นๆ อีกมากมายครับ\n",
      "\n",
      "สำหรับการซื้อ สามารถทำได้ง่ายๆ เลยครับ เพียงเข้าไปที่เว็บไซต์ของเรา [https://www.scb10x.com/](https://www.scb10x.com/) แล้วเลือกเวิร์คช็อปที่สนใจ หลังจากนั้นก็ทำตามขั้นตอนการชำระเงินได้เลยครับ\n",
      "\n",
      "หากคุณมีคำถามเพิ่มเติม หรือต้องการข้อมูลเกี่ยวกับการชำระเงิน สามารถสอบถามได้เลยนะครับ ยินดีให้บริการครับ\n"
     ]
    }
   ],
   "source": [
    "from langchain_community.document_loaders import TextLoader\n",
    "from langchain_openai import OpenAIEmbeddings, ChatOpenAI\n",
    "from langchain_text_splitters import RecursiveCharacterTextSplitter\n",
    "from langchain_core.runnables import RunnablePassthrough, RunnableParallel\n",
    "from langchain_experimental.text_splitter import SemanticChunker\n",
    "from langchain_community.vectorstores import FAISS\n",
    "from langchain_core.prompts import ChatPromptTemplate\n",
    "from langchain_core.runnables import RunnablePassthrough\n",
    "from langchain_core.output_parsers import StrOutputParser\n",
    "import os\n",
    "from src.utils import get_config\n",
    "\n",
    "config = get_config() \n",
    " \n",
    "# กำหนด LLM เป็น Typhoon\n",
    "typhoon_llm = ChatOpenAI(\n",
    "    api_key=config['typhoon']['token'],\n",
    "    base_url=\"https://api.opentyphoon.ai/v1\",\n",
    "    model=\"typhoon-v2.1-12b-instruct\",\n",
    "    temperature=0\n",
    ")\n",
    " \n",
    "\n",
    "template = \"\"\"\n",
    "### ROLE ###\n",
    "คุณคือ AI Sales & Support Specialist ของบริษัท Investic\n",
    "\n",
    "### OBJECTIVE ###\n",
    "เป้าหมายของคุณคือการแปลงคำถามของลูกค้าให้กลายเป็นการขาย (Conversion) โดยการให้ข้อมูลที่ถูกต้อง, เน้นคุณประโยชน์, และสร้างประสบการณ์ที่น่าประทับใจ โดยต้องอ้างอิงจากข้อมูลในส่วน KNOWLEDGE BASE เท่านั้น\n",
    "\n",
    "### TONE OF VOICE ###\n",
    "- Professional (เป็นมืออาชีพ)\n",
    "- Helpful (ช่วยเหลือ)\n",
    "- Persuasive (โน้มน้าว)\n",
    "- Confident (มั่นใจ)\n",
    "- Thai language, formal \"ครับ\" tone.\n",
    "\n",
    "### WORKFLOW ###\n",
    "1.  **Acknowledge and Understand:** ขึ้นต้นด้วยการตอบรับคำถามของลูกค้า และแสดงความเข้าใจในสิ่งที่เขาต้องการ\n",
    "2.  **Extract & Reframe:** ดึงข้อมูลที่เกี่ยวข้องจาก KNOWLEDGE BASE จากนั้นนำเสนอในรูปแบบของ \"ประโยชน์\" ที่ลูกค้าจะได้รับ\n",
    "3.  **Address Concerns & Compare:** หากลูกค้าแสดงความกังวลหรือต้องการเปรียบเทียบ ให้ใช้ข้อมูลเพื่อคลายความกังวลและชี้ให้เห็นจุดเด่นของสินค้าเรา\n",
    "4.  **Suggest & Guide (Call-to-Action):** เสนอขั้นตอนต่อไปอย่างชัดเจน เช่น แนะนำให้ซื้อ, สอบถามข้อมูลการชำระเงิน, หรือให้ข้อมูลโปรโมชั่น\n",
    "\n",
    "### RULES ###\n",
    "- DO NOT invent information not present in the KNOWLEDGE BASE.\n",
    "- If information is missing, politely state that you need to check with a specialist and offer to assist with other questions.\n",
    "- Always end the conversation with a call to action or an offer for further help.\n",
    "\n",
    "---\n",
    "### KNOWLEDGE BASE (Context) ###\n",
    "{context}\n",
    "\n",
    "### CUSTOMER QUESTION (Question) ###\n",
    "{question}\n",
    "\n",
    "---\n",
    "### RESPONSE ###\n",
    "\"\"\"\n",
    "prompt = ChatPromptTemplate.from_template(template)\n",
    " \n",
    "\n",
    "# 4. สร้าง Chain (RAG Chain)\n",
    "# คือการต่อท่อการทำงานทั้งหมดเข้าด้วยกัน\n",
    "rag_chain = (\n",
    "    RunnableParallel(\n",
    "        context=retriever,\n",
    "        question=RunnablePassthrough()\n",
    "    )\n",
    "    | prompt\n",
    "    | typhoon_llm\n",
    "    | StrOutputParser()\n",
    ")\n",
    "\n",
    "# 5. ลองถามคำถามผ่าน Chain\n",
    "print(\"\\n--- 🤖 เริ่มระบบถาม-ตอบ (RAG) ---\")\n",
    "question_to_ask = \"มีเวิคช้อบอะไรบ้างครับ เเล้วขายยังไง\"\n",
    "answer = rag_chain.invoke(question_to_ask)\n",
    "\n",
    "print(f\"คำถาม: {question_to_ask}\")\n",
    "print(f\"คำตอบจาก AI: {answer}\")"
   ]
  },
  {
   "cell_type": "code",
   "execution_count": null,
   "id": "51318acc",
   "metadata": {},
   "outputs": [],
   "source": []
  },
  {
   "cell_type": "code",
   "execution_count": 10,
   "id": "d311451f",
   "metadata": {},
   "outputs": [
    {
     "data": {
      "text/html": [
       "<pre style=\"white-space:pre;overflow-x:auto;line-height:normal;font-family:Menlo,'DejaVu Sans Mono',consolas,'Courier New',monospace\"><span style=\"color: #7f7f7f; text-decoration-color: #7f7f7f\">[Confident AI Synthesizer Log]</span> WARNING: <span style=\"color: #808000; text-decoration-color: #808000\">Filtering not applied</span>: Not enough chunks in smallest document\n",
       "</pre>\n"
      ],
      "text/plain": [
       "\u001b[2m[Confident AI Synthesizer Log]\u001b[0m WARNING: \u001b[33mFiltering not applied\u001b[0m: Not enough chunks in smallest document\n"
      ]
     },
     "metadata": {},
     "output_type": "display_data"
    },
    {
     "data": {
      "text/html": [
       "<pre style=\"white-space:pre;overflow-x:auto;line-height:normal;font-family:Menlo,'DejaVu Sans Mono',consolas,'Courier New',monospace\"><span style=\"color: #7f7f7f; text-decoration-color: #7f7f7f\">[Confident AI Synthesizer Log]</span> SUCCESS: <span style=\"color: #008000; text-decoration-color: #008000\">Context Construction</span>: Utilizing 6 out of 7 chunks.\n",
       "</pre>\n"
      ],
      "text/plain": [
       "\u001b[2m[Confident AI Synthesizer Log]\u001b[0m SUCCESS: \u001b[32mContext Construction\u001b[0m: Utilizing 6 out of 7 chunks.\n"
      ]
     },
     "metadata": {},
     "output_type": "display_data"
    },
    {
     "data": {
      "text/html": [
       "<pre style=\"white-space:pre;overflow-x:auto;line-height:normal;font-family:Menlo,'DejaVu Sans Mono',consolas,'Courier New',monospace\"></pre>\n"
      ],
      "text/plain": []
     },
     "metadata": {},
     "output_type": "display_data"
    },
    {
     "name": "stdout",
     "output_type": "stream",
     "text": [
      "สร้างชุดข้อมูลทดสอบเสร็จสิ้น จำนวน 0 เคส\n"
     ]
    }
   ],
   "source": [
    "# https://deepeval.com/docs/evaluation-datasets\n",
    "\n",
    "import os\n",
    "from pathlib import Path\n",
    "from deepeval.dataset import EvaluationDataset\n",
    "from deepeval.synthesizer import Synthesizer\n",
    "from src.utils.app_config import AppConfig\n",
    "\n",
    "# --- Setup ---\n",
    "# โหลด config และตั้งค่า API Key (เหมือนเดิม)\n",
    "cfg = AppConfig.from_files(\"configs/model_config.yaml\", \"config.yaml\")\n",
    "os.environ.setdefault(\"OPENAI_API_KEY\", cfg.openai_token)\n",
    "\n",
    "# --- Generation --- \n",
    "synthesizer = Synthesizer(model=\"gpt-4.1\")\n",
    "\n",
    "dataset = EvaluationDataset()\n",
    " \n",
    "\n",
    "# 2. เรียกใช้เมธอดเพื่ออ่านไฟล์และสร้าง test case ภายในอ็อบเจ็กต์\n",
    "# DeepEval จะอ่านไฟล์, แบ่งเนื้อหา (chunking), แล้วส่งให้ LLM สร้างคำถาม-คำตอบ เลยต้องลง chromadb\n",
    "dataset.generate_goldens_from_docs(\n",
    "    document_paths=[\"data/raw/overall.txt\"]\n",
    ")\n",
    "\n",
    "print(f\"สร้างชุดข้อมูลทดสอบเสร็จสิ้น จำนวน {len(dataset)} เคส\")\n",
    " "
   ]
  },
  {
   "cell_type": "code",
   "execution_count": 13,
   "id": "22e81b56",
   "metadata": {},
   "outputs": [
    {
     "data": {
      "text/plain": [
       "[Golden(input='How does the TFEX workshop utilize Bollinger Bands for trend reversal and a 100% win rate?', actual_output=None, expected_output='The TFEX workshop utilizes Bollinger Bands to identify trend reversal points and achieve a 100% win rate by teaching participants to accurately catch the market bottom. The strategy involves using Bollinger Band Market Breadth to pinpoint buy and sell signals and has been demonstrated through practical examples, such as during the 2011 flood crisis and other major market events.', context=['ฟรีเครื่องมือ Investic Analytics Studio เต็มๆ 1 เดือน!\\nOnline Workshops\\nออกแบบมาเพื่อให้คุณได้ลงมือทำจริง พร้อมเทคนิคและสิทธิ์ได้เครื่องมือที่ใช้งานตลอด 1 เดือน เพื่อลุยเทรดในตลาดกันจริงๆ\\n\\n**Workshop Details**\\n\\n- **Online Workshops \"จับมือเทรดด้วย Quant Data\"**\\n  - เรียนรู้แบบเจาะลึกกับเหล่า Guru Quant พร้อมใช้ฟรีเครื่องมือ Investic Analytics Studio เต็มๆ 1 เดือน!\\n- **TFEX - Win rate 100% จับ Panic Sell ด้วย Bollinger Band Market Breadth**\\n  - เรียนรู้กลยุทธ์หาจุดกลับตัวของเทรนด์ (Trend Reversal Points) เพิ่มความแม่นยำในการจับจังหวะตลาด\\n  - เข้าใจการใช้เครื่องมือ Bollinger Band Panic Sell ผู้สอนใช้เครื่องมือนี้จับจุดต่ำสุดของตลาด (Catch Bottom) ได้อย่างชัดเจนในปี 2016\\n  - จับสัญญาณซื้อขาย จากตัวอย่างการใช้โมเดลในช่วงเหตุการณ์สำคัญ เช่น วิกฤตน้ำท่วมปี 2554 และช่วงตลาดกระทิงปี 25', 'พจ M traders\\n\\n**ถาม-ตอบเกี่ยวกับเวิร์กช็อป**\\n\\n**ถาม:** Investic Analytics Studio เสนออะไร?\\n   - **ตอบ:** เสนอการเข้าถึงเวิร์กช็อปและข้อมูลเชิงเทคนิคฟรีเป็นเวลาหนึ่งเดือน\\n\\n**ถาม:** จุดเด่นของเวิร์กช็อป TFEX คืออะไร?\\n   - **ตอบ:** เน้นการบรรลุอัตราการชนะ 100% โดยใช้ Bollinger Band Market Breadth\\n\\n**ถาม:** หัวข้อหลักในเวิร์กช็อป Crypto คืออะไร?\\n   - **ตอบ:** ครอบคลุมการลงทุนใน Crypto, วัฏจักรของ Bitcoin และการวิเคราะห์ภาคส่วน\\n\\n**ถาม:** What is the focus of the Elliott Wave 3X workshop?\\nA: The focus is on Wave 3 Extension (3X) to learn how to identify and trade in the most powerful wave for maximum profit in a short time.\\n\\nQ: What will I learn from the Crypto workshop?\\nA: You will learn the basics of Crypto Investing, how to select coins with 10x growth potential, analyze sectors and trends, and manage your portfolio with confidence.\\n\\nQ: How does the TFEX workshop help me?\\nA: The TFEX workshop teaches you how to identify trend reversal points, use Bollinger Band Panic Sell, and catch market bottoms, with a focus on practical examples and real-world applications.\\n\\n**Additional Resources**\\n\\n- Investic Analytics Studio: Get access to the full suite of tools for 1 month to practice what you learn in the workshops.\\n- Cryptomind Research: Additional resources and research papers on Crypto Investing and market trends.\\n- PK’s Trading Diary: Follow the journey of a successful trader and learn from their experiences.\\n- New Genesis: Insights and analysis on Elliott Wave and market trends.\\n- M traders: Tips and strategies for trading Gold and other markets.', '55-2556\\n  - โดย คุณแชมป์ เจ้าของเพจ PK’s Trading Diary\\n- **Crypto - หาเหรียญ 10x แบบไม่ต้องพึ่งดวง**\\n  - เรียนรู้พื้นฐาน Crypto Investing ตั้งแต่ภาพรวมตลาด, วัฏจักร Bitcoin (Bitcoin Cycle)\\n  - เชี่ยวชาญการ \"คัดรายตัว\" ค้นหาเหรียญที่มีโอกาสเติบโต 10 เท่า (10X Coins) ด้วยวิธีการที่เป็นระบบ\\n  - วิเคราะห์ Sector และผู้นำเทรนด์ เข้าใจกลุ่มอุตสาหกรรมต่างๆ (Blockchain, DeFi, Infrastructure, Metaverse, RWA ฯลฯ) และรู้วิธีระบุเทรนด์ในอนาคต รวมถึง \"First Mover\" (ผู้นำเทรนด์) ที่จะได้รับประโยชน์\\n  - บริหารพอร์ตอย่างมั่นใจ เรียนรู้กลยุทธ์การบริหารพอร์ตโฟลิโอ (Portfolio Management), วิธีการจัดสรรเงินทุน, และกลยุทธ์บริหารความเสี่ยงสำหรับการเทรดที่คาดหวังผลตอบแทนสูง เช่น \"การจับกระแส Narrative\"\\n  - โดย คุณเหริน Analyst จาก Cryptomind Research\\n- **Elliott Wave 3X จับเวฟท�'], retrieval_context=None, additional_metadata={'evolutions': ['Reasoning'], 'synthetic_input_quality': 0.7}, comments=None, tools_called=None, expected_tools=None, source_file='data/raw/workshop.txt', name=None, custom_column_key_values=None),\n",
       " Golden(input=\"What practical skills and strategic insights are available during Investic Analytics Studio's free month?\", actual_output=None, expected_output=\"During Investic Analytics Studio's free month, you can gain practical skills and strategic insights in several areas, including identifying trend reversal points using Bollinger Band Panic Sell, analyzing sector and trend in Crypto investing, and managing portfolios confidently. The workshops also cover the basics of Crypto investing, identifying 10x growth potential coins, and mastering the Elliott Wave 3X for maximizing profit in a short timeframe.\", context=['ฟรีเครื่องมือ Investic Analytics Studio เต็มๆ 1 เดือน!\\nOnline Workshops\\nออกแบบมาเพื่อให้คุณได้ลงมือทำจริง พร้อมเทคนิคและสิทธิ์ได้เครื่องมือที่ใช้งานตลอด 1 เดือน เพื่อลุยเทรดในตลาดกันจริงๆ\\n\\n**Workshop Details**\\n\\n- **Online Workshops \"จับมือเทรดด้วย Quant Data\"**\\n  - เรียนรู้แบบเจาะลึกกับเหล่า Guru Quant พร้อมใช้ฟรีเครื่องมือ Investic Analytics Studio เต็มๆ 1 เดือน!\\n- **TFEX - Win rate 100% จับ Panic Sell ด้วย Bollinger Band Market Breadth**\\n  - เรียนรู้กลยุทธ์หาจุดกลับตัวของเทรนด์ (Trend Reversal Points) เพิ่มความแม่นยำในการจับจังหวะตลาด\\n  - เข้าใจการใช้เครื่องมือ Bollinger Band Panic Sell ผู้สอนใช้เครื่องมือนี้จับจุดต่ำสุดของตลาด (Catch Bottom) ได้อย่างชัดเจนในปี 2016\\n  - จับสัญญาณซื้อขาย จากตัวอย่างการใช้โมเดลในช่วงเหตุการณ์สำคัญ เช่น วิกฤตน้ำท่วมปี 2554 และช่วงตลาดกระทิงปี 25', 'พจ M traders\\n\\n**ถาม-ตอบเกี่ยวกับเวิร์กช็อป**\\n\\n**ถาม:** Investic Analytics Studio เสนออะไร?\\n   - **ตอบ:** เสนอการเข้าถึงเวิร์กช็อปและข้อมูลเชิงเทคนิคฟรีเป็นเวลาหนึ่งเดือน\\n\\n**ถาม:** จุดเด่นของเวิร์กช็อป TFEX คืออะไร?\\n   - **ตอบ:** เน้นการบรรลุอัตราการชนะ 100% โดยใช้ Bollinger Band Market Breadth\\n\\n**ถาม:** หัวข้อหลักในเวิร์กช็อป Crypto คืออะไร?\\n   - **ตอบ:** ครอบคลุมการลงทุนใน Crypto, วัฏจักรของ Bitcoin และการวิเคราะห์ภาคส่วน\\n\\n**ถาม:** What is the focus of the Elliott Wave 3X workshop?\\nA: The focus is on Wave 3 Extension (3X) to learn how to identify and trade in the most powerful wave for maximum profit in a short time.\\n\\nQ: What will I learn from the Crypto workshop?\\nA: You will learn the basics of Crypto Investing, how to select coins with 10x growth potential, analyze sectors and trends, and manage your portfolio with confidence.\\n\\nQ: How does the TFEX workshop help me?\\nA: The TFEX workshop teaches you how to identify trend reversal points, use Bollinger Band Panic Sell, and catch market bottoms, with a focus on practical examples and real-world applications.\\n\\n**Additional Resources**\\n\\n- Investic Analytics Studio: Get access to the full suite of tools for 1 month to practice what you learn in the workshops.\\n- Cryptomind Research: Additional resources and research papers on Crypto Investing and market trends.\\n- PK’s Trading Diary: Follow the journey of a successful trader and learn from their experiences.\\n- New Genesis: Insights and analysis on Elliott Wave and market trends.\\n- M traders: Tips and strategies for trading Gold and other markets.', '55-2556\\n  - โดย คุณแชมป์ เจ้าของเพจ PK’s Trading Diary\\n- **Crypto - หาเหรียญ 10x แบบไม่ต้องพึ่งดวง**\\n  - เรียนรู้พื้นฐาน Crypto Investing ตั้งแต่ภาพรวมตลาด, วัฏจักร Bitcoin (Bitcoin Cycle)\\n  - เชี่ยวชาญการ \"คัดรายตัว\" ค้นหาเหรียญที่มีโอกาสเติบโต 10 เท่า (10X Coins) ด้วยวิธีการที่เป็นระบบ\\n  - วิเคราะห์ Sector และผู้นำเทรนด์ เข้าใจกลุ่มอุตสาหกรรมต่างๆ (Blockchain, DeFi, Infrastructure, Metaverse, RWA ฯลฯ) และรู้วิธีระบุเทรนด์ในอนาคต รวมถึง \"First Mover\" (ผู้นำเทรนด์) ที่จะได้รับประโยชน์\\n  - บริหารพอร์ตอย่างมั่นใจ เรียนรู้กลยุทธ์การบริหารพอร์ตโฟลิโอ (Portfolio Management), วิธีการจัดสรรเงินทุน, และกลยุทธ์บริหารความเสี่ยงสำหรับการเทรดที่คาดหวังผลตอบแทนสูง เช่น \"การจับกระแส Narrative\"\\n  - โดย คุณเหริน Analyst จาก Cryptomind Research\\n- **Elliott Wave 3X จับเวฟท�'], retrieval_context=None, additional_metadata={'evolutions': ['Concretizing'], 'synthetic_input_quality': 0.8}, comments=None, tools_called=None, expected_tools=None, source_file='data/raw/workshop.txt', name=None, custom_column_key_values=None),\n",
       " Golden(input='Elucidate how mastering Wave 3 Extension influences profitable trading strategies through Fibonacci application.', actual_output=None, expected_output='Mastering Wave 3 Extension significantly enhances profitable trading strategies by using the Fibonacci application to pinpoint critical trading points. By understanding Wave 3, identified as the \"strongest wave,\" traders can utilize Fibonacci Retracement to effectively determine potential endpoints for Wave 2. This precision allows traders to enter Wave 3 at optimal points, maximizing profit potential within a short timeframe. This strategic application is reinforced by analyzing market structure through nested cycles, enabling informed decisions for entering trades with a favorable risk/reward ratio.', context=['�่ทรงพลังที่สุด**\\n  - โฟกัสที่ Wave 3 Extension (3X) เรียนรู้การระบุและเทรดใน \"คลื่นที่วิ่งแรงที่สุด\" เพื่อเป้าหมายการทำกำไรสูงสุดในเวลาอันสั้น\\n  - เข้าใจโครงสร้างตลาดสำหรับ Wave 3X รวมถึงการทำความเข้าใจวงจรคลื่นซ้อน (Nested Cycles) ทั้ง Higher Degree Cycle และ Lower Degree Cycle\\n  - ใช้ Fibonacci Retracement อย่างมือโปร เพื่อช่วยหาจุดสิ้นสุดที่เป็นไปได้ของ Wave 2 ซึ่งเป็นจุดเข้าสำคัญสำหรับ Wave 3\\n  - กลยุทธ์เข้าเทรดและ Stop Loss ที่ใช้ได้จริง พร้อมตัวอย่างอัตราส่วน Risk/Reward ที่หลากหลาย (เช่น 1:3 ถึง 1:14) จากโครงสร้างคลื่นและระดับ Fibonacci\\n  - เข้าใจ Trade-offs ของ Stop Loss:** ระหว่างการตั้ง Stop Loss แคบ (โอกาส Reward สูง แต่ Win Rate อาจต่ำกว่า) และกว้าง (โอกาส Reward ต่ำกว่า แต่ Win Rate อาจสูงกว่า)\\n  - โดย คุณคิด เจ้าของเพจ New Genesis\\n- **Gold - รู้', '55-2556\\n  - โดย คุณแชมป์ เจ้าของเพจ PK’s Trading Diary\\n- **Crypto - หาเหรียญ 10x แบบไม่ต้องพึ่งดวง**\\n  - เรียนรู้พื้นฐาน Crypto Investing ตั้งแต่ภาพรวมตลาด, วัฏจักร Bitcoin (Bitcoin Cycle)\\n  - เชี่ยวชาญการ \"คัดรายตัว\" ค้นหาเหรียญที่มีโอกาสเติบโต 10 เท่า (10X Coins) ด้วยวิธีการที่เป็นระบบ\\n  - วิเคราะห์ Sector และผู้นำเทรนด์ เข้าใจกลุ่มอุตสาหกรรมต่างๆ (Blockchain, DeFi, Infrastructure, Metaverse, RWA ฯลฯ) และรู้วิธีระบุเทรนด์ในอนาคต รวมถึง \"First Mover\" (ผู้นำเทรนด์) ที่จะได้รับประโยชน์\\n  - บริหารพอร์ตอย่างมั่นใจ เรียนรู้กลยุทธ์การบริหารพอร์ตโฟลิโอ (Portfolio Management), วิธีการจัดสรรเงินทุน, และกลยุทธ์บริหารความเสี่ยงสำหรับการเทรดที่คาดหวังผลตอบแทนสูง เช่น \"การจับกระแส Narrative\"\\n  - โดย คุณเหริน Analyst จาก Cryptomind Research\\n- **Elliott Wave 3X จับเวฟท�', 'ทันแนวรับ แนวต้านของเจ้ามือทองคำด้วย OI และเครื่องมือ Market Maker Data Gold Option OI**\\n  - เข้าใจกลไก Market Maker เรียนรู้วิธีการทำงานของผู้เล่นรายใหญ่ และข้อจำกัดด้านเงินทุนของพวกเขาส่งผลต่อราคาอย่างไร\\n  - ทฤษฎี \"Block Trading\" ในทองคำ เข้าใจงานวิจัยและข้อมูล (Normal Distribution, Encoding Visualization) ที่สนับสนุนว่าราคาทองคำมักเคลื่อนที่เป็น \"บล็อก\" หรือ \"โซนราคา\" (เช่น $5, $25, $50, $100) และกระโดดระหว่างบล็อกเหล่านี้\\n  - เพิ่มโอกาสรอดในการเทรด ความเข้าใจการเคลื่อนที่แบบบล็อก \"ช่วยให้เรารอดตายจากการเทรดได้เยอะ\"\\n  - ปรับ Stop Loss ตามความผันผวน เข้าใจความจำเป็นในการปรับระยะ Stop Loss ตามความผันผวนตลาด (เช่น ATR) แทนที่จะใช้ระยะคงที่\\n  - โดย คุณเอ็มและคุณเอ เจ้าของเ'], retrieval_context=None, additional_metadata={'evolutions': ['Reasoning'], 'synthetic_input_quality': 0.7}, comments=None, tools_called=None, expected_tools=None, source_file='data/raw/workshop.txt', name=None, custom_column_key_values=None),\n",
       " Golden(input='Compare the use of Wave 3X and Crypto investing strategies for maximizing trading profits.', actual_output=None, expected_output='Both Wave 3X and Crypto investing strategies focus on maximizing trading profits, but they do so through different methods. \\n\\nWave 3X emphasizes trading the most powerful market waves, particularly the third wave in Elliott Wave Theory, which is considered highly profitable over a short time. This approach involves understanding market structures, using Fibonacci retracement for pinpointing entry points, and employing strategic stop-loss levels with varying risk/reward ratios.\\n\\nCrypto investing, on the other hand, focuses on identifying coins with potential for exponential growth (10X) by analyzing market trends, sector leaders, and economic cycles in the cryptocurrency space. This strategy involves systematic coin selection, portfolio management, and risk management with the aim of high returns.\\n\\nIn summary, Wave 3X is more technical and short-term focused, while Crypto investing is strategic, aiming for long-term gains by capitalizing on market trends and innovations.', context=['�่ทรงพลังที่สุด**\\n  - โฟกัสที่ Wave 3 Extension (3X) เรียนรู้การระบุและเทรดใน \"คลื่นที่วิ่งแรงที่สุด\" เพื่อเป้าหมายการทำกำไรสูงสุดในเวลาอันสั้น\\n  - เข้าใจโครงสร้างตลาดสำหรับ Wave 3X รวมถึงการทำความเข้าใจวงจรคลื่นซ้อน (Nested Cycles) ทั้ง Higher Degree Cycle และ Lower Degree Cycle\\n  - ใช้ Fibonacci Retracement อย่างมือโปร เพื่อช่วยหาจุดสิ้นสุดที่เป็นไปได้ของ Wave 2 ซึ่งเป็นจุดเข้าสำคัญสำหรับ Wave 3\\n  - กลยุทธ์เข้าเทรดและ Stop Loss ที่ใช้ได้จริง พร้อมตัวอย่างอัตราส่วน Risk/Reward ที่หลากหลาย (เช่น 1:3 ถึง 1:14) จากโครงสร้างคลื่นและระดับ Fibonacci\\n  - เข้าใจ Trade-offs ของ Stop Loss:** ระหว่างการตั้ง Stop Loss แคบ (โอกาส Reward สูง แต่ Win Rate อาจต่ำกว่า) และกว้าง (โอกาส Reward ต่ำกว่า แต่ Win Rate อาจสูงกว่า)\\n  - โดย คุณคิด เจ้าของเพจ New Genesis\\n- **Gold - รู้', '55-2556\\n  - โดย คุณแชมป์ เจ้าของเพจ PK’s Trading Diary\\n- **Crypto - หาเหรียญ 10x แบบไม่ต้องพึ่งดวง**\\n  - เรียนรู้พื้นฐาน Crypto Investing ตั้งแต่ภาพรวมตลาด, วัฏจักร Bitcoin (Bitcoin Cycle)\\n  - เชี่ยวชาญการ \"คัดรายตัว\" ค้นหาเหรียญที่มีโอกาสเติบโต 10 เท่า (10X Coins) ด้วยวิธีการที่เป็นระบบ\\n  - วิเคราะห์ Sector และผู้นำเทรนด์ เข้าใจกลุ่มอุตสาหกรรมต่างๆ (Blockchain, DeFi, Infrastructure, Metaverse, RWA ฯลฯ) และรู้วิธีระบุเทรนด์ในอนาคต รวมถึง \"First Mover\" (ผู้นำเทรนด์) ที่จะได้รับประโยชน์\\n  - บริหารพอร์ตอย่างมั่นใจ เรียนรู้กลยุทธ์การบริหารพอร์ตโฟลิโอ (Portfolio Management), วิธีการจัดสรรเงินทุน, และกลยุทธ์บริหารความเสี่ยงสำหรับการเทรดที่คาดหวังผลตอบแทนสูง เช่น \"การจับกระแส Narrative\"\\n  - โดย คุณเหริน Analyst จาก Cryptomind Research\\n- **Elliott Wave 3X จับเวฟท�', 'ทันแนวรับ แนวต้านของเจ้ามือทองคำด้วย OI และเครื่องมือ Market Maker Data Gold Option OI**\\n  - เข้าใจกลไก Market Maker เรียนรู้วิธีการทำงานของผู้เล่นรายใหญ่ และข้อจำกัดด้านเงินทุนของพวกเขาส่งผลต่อราคาอย่างไร\\n  - ทฤษฎี \"Block Trading\" ในทองคำ เข้าใจงานวิจัยและข้อมูล (Normal Distribution, Encoding Visualization) ที่สนับสนุนว่าราคาทองคำมักเคลื่อนที่เป็น \"บล็อก\" หรือ \"โซนราคา\" (เช่น $5, $25, $50, $100) และกระโดดระหว่างบล็อกเหล่านี้\\n  - เพิ่มโอกาสรอดในการเทรด ความเข้าใจการเคลื่อนที่แบบบล็อก \"ช่วยให้เรารอดตายจากการเทรดได้เยอะ\"\\n  - ปรับ Stop Loss ตามความผันผวน เข้าใจความจำเป็นในการปรับระยะ Stop Loss ตามความผันผวนตลาด (เช่น ATR) แทนที่จะใช้ระยะคงที่\\n  - โดย คุณเอ็มและคุณเอ เจ้าของเ'], retrieval_context=None, additional_metadata={'evolutions': ['Comparative'], 'synthetic_input_quality': 0.6}, comments=None, tools_called=None, expected_tools=None, source_file='data/raw/workshop.txt', name=None, custom_column_key_values=None),\n",
       " Golden(input=\"If Investic Analytics Studio offered perpetual access, how would this influence traders' strategic capabilities?\", actual_output=None, expected_output=\"If Investic Analytics Studio offered perpetual access, it would significantly enhance traders' strategic capabilities by providing continuous access to advanced tools and technical insights. This ongoing access would enable traders to consistently apply and refine strategies, such as those learned in workshops, leading to more informed and potentially profitable trading decisions.\", context=['พจ M traders\\n\\n**ถาม-ตอบเกี่ยวกับเวิร์กช็อป**\\n\\n**ถาม:** Investic Analytics Studio เสนออะไร?\\n   - **ตอบ:** เสนอการเข้าถึงเวิร์กช็อปและข้อมูลเชิงเทคนิคฟรีเป็นเวลาหนึ่งเดือน\\n\\n**ถาม:** จุดเด่นของเวิร์กช็อป TFEX คืออะไร?\\n   - **ตอบ:** เน้นการบรรลุอัตราการชนะ 100% โดยใช้ Bollinger Band Market Breadth\\n\\n**ถาม:** หัวข้อหลักในเวิร์กช็อป Crypto คืออะไร?\\n   - **ตอบ:** ครอบคลุมการลงทุนใน Crypto, วัฏจักรของ Bitcoin และการวิเคราะห์ภาคส่วน\\n\\n**ถาม:** What is the focus of the Elliott Wave 3X workshop?\\nA: The focus is on Wave 3 Extension (3X) to learn how to identify and trade in the most powerful wave for maximum profit in a short time.\\n\\nQ: What will I learn from the Crypto workshop?\\nA: You will learn the basics of Crypto Investing, how to select coins with 10x growth potential, analyze sectors and trends, and manage your portfolio with confidence.\\n\\nQ: How does the TFEX workshop help me?\\nA: The TFEX workshop teaches you how to identify trend reversal points, use Bollinger Band Panic Sell, and catch market bottoms, with a focus on practical examples and real-world applications.\\n\\n**Additional Resources**\\n\\n- Investic Analytics Studio: Get access to the full suite of tools for 1 month to practice what you learn in the workshops.\\n- Cryptomind Research: Additional resources and research papers on Crypto Investing and market trends.\\n- PK’s Trading Diary: Follow the journey of a successful trader and learn from their experiences.\\n- New Genesis: Insights and analysis on Elliott Wave and market trends.\\n- M traders: Tips and strategies for trading Gold and other markets.', '55-2556\\n  - โดย คุณแชมป์ เจ้าของเพจ PK’s Trading Diary\\n- **Crypto - หาเหรียญ 10x แบบไม่ต้องพึ่งดวง**\\n  - เรียนรู้พื้นฐาน Crypto Investing ตั้งแต่ภาพรวมตลาด, วัฏจักร Bitcoin (Bitcoin Cycle)\\n  - เชี่ยวชาญการ \"คัดรายตัว\" ค้นหาเหรียญที่มีโอกาสเติบโต 10 เท่า (10X Coins) ด้วยวิธีการที่เป็นระบบ\\n  - วิเคราะห์ Sector และผู้นำเทรนด์ เข้าใจกลุ่มอุตสาหกรรมต่างๆ (Blockchain, DeFi, Infrastructure, Metaverse, RWA ฯลฯ) และรู้วิธีระบุเทรนด์ในอนาคต รวมถึง \"First Mover\" (ผู้นำเทรนด์) ที่จะได้รับประโยชน์\\n  - บริหารพอร์ตอย่างมั่นใจ เรียนรู้กลยุทธ์การบริหารพอร์ตโฟลิโอ (Portfolio Management), วิธีการจัดสรรเงินทุน, และกลยุทธ์บริหารความเสี่ยงสำหรับการเทรดที่คาดหวังผลตอบแทนสูง เช่น \"การจับกระแส Narrative\"\\n  - โดย คุณเหริน Analyst จาก Cryptomind Research\\n- **Elliott Wave 3X จับเวฟท�', 'ฟรีเครื่องมือ Investic Analytics Studio เต็มๆ 1 เดือน!\\nOnline Workshops\\nออกแบบมาเพื่อให้คุณได้ลงมือทำจริง พร้อมเทคนิคและสิทธิ์ได้เครื่องมือที่ใช้งานตลอด 1 เดือน เพื่อลุยเทรดในตลาดกันจริงๆ\\n\\n**Workshop Details**\\n\\n- **Online Workshops \"จับมือเทรดด้วย Quant Data\"**\\n  - เรียนรู้แบบเจาะลึกกับเหล่า Guru Quant พร้อมใช้ฟรีเครื่องมือ Investic Analytics Studio เต็มๆ 1 เดือน!\\n- **TFEX - Win rate 100% จับ Panic Sell ด้วย Bollinger Band Market Breadth**\\n  - เรียนรู้กลยุทธ์หาจุดกลับตัวของเทรนด์ (Trend Reversal Points) เพิ่มความแม่นยำในการจับจังหวะตลาด\\n  - เข้าใจการใช้เครื่องมือ Bollinger Band Panic Sell ผู้สอนใช้เครื่องมือนี้จับจุดต่ำสุดของตลาด (Catch Bottom) ได้อย่างชัดเจนในปี 2016\\n  - จับสัญญาณซื้อขาย จากตัวอย่างการใช้โมเดลในช่วงเหตุการณ์สำคัญ เช่น วิกฤตน้ำท่วมปี 2554 และช่วงตลาดกระทิงปี 25'], retrieval_context=None, additional_metadata={'evolutions': ['Hypothetical'], 'synthetic_input_quality': 0.7}, comments=None, tools_called=None, expected_tools=None, source_file='data/raw/workshop.txt', name=None, custom_column_key_values=None),\n",
       " Golden(input='What are the Bollinger Band Market Breadth strategies in TFEX for trend reversals and market bottoms?', actual_output=None, expected_output='The Bollinger Band Market Breadth strategies in the TFEX workshop focus on identifying trend reversal points and using Bollinger Band Panic Sell to catch market bottoms. These strategies provide practical examples and real-world applications to enhance precision in timing market movements.', context=['พจ M traders\\n\\n**ถาม-ตอบเกี่ยวกับเวิร์กช็อป**\\n\\n**ถาม:** Investic Analytics Studio เสนออะไร?\\n   - **ตอบ:** เสนอการเข้าถึงเวิร์กช็อปและข้อมูลเชิงเทคนิคฟรีเป็นเวลาหนึ่งเดือน\\n\\n**ถาม:** จุดเด่นของเวิร์กช็อป TFEX คืออะไร?\\n   - **ตอบ:** เน้นการบรรลุอัตราการชนะ 100% โดยใช้ Bollinger Band Market Breadth\\n\\n**ถาม:** หัวข้อหลักในเวิร์กช็อป Crypto คืออะไร?\\n   - **ตอบ:** ครอบคลุมการลงทุนใน Crypto, วัฏจักรของ Bitcoin และการวิเคราะห์ภาคส่วน\\n\\n**ถาม:** What is the focus of the Elliott Wave 3X workshop?\\nA: The focus is on Wave 3 Extension (3X) to learn how to identify and trade in the most powerful wave for maximum profit in a short time.\\n\\nQ: What will I learn from the Crypto workshop?\\nA: You will learn the basics of Crypto Investing, how to select coins with 10x growth potential, analyze sectors and trends, and manage your portfolio with confidence.\\n\\nQ: How does the TFEX workshop help me?\\nA: The TFEX workshop teaches you how to identify trend reversal points, use Bollinger Band Panic Sell, and catch market bottoms, with a focus on practical examples and real-world applications.\\n\\n**Additional Resources**\\n\\n- Investic Analytics Studio: Get access to the full suite of tools for 1 month to practice what you learn in the workshops.\\n- Cryptomind Research: Additional resources and research papers on Crypto Investing and market trends.\\n- PK’s Trading Diary: Follow the journey of a successful trader and learn from their experiences.\\n- New Genesis: Insights and analysis on Elliott Wave and market trends.\\n- M traders: Tips and strategies for trading Gold and other markets.', '55-2556\\n  - โดย คุณแชมป์ เจ้าของเพจ PK’s Trading Diary\\n- **Crypto - หาเหรียญ 10x แบบไม่ต้องพึ่งดวง**\\n  - เรียนรู้พื้นฐาน Crypto Investing ตั้งแต่ภาพรวมตลาด, วัฏจักร Bitcoin (Bitcoin Cycle)\\n  - เชี่ยวชาญการ \"คัดรายตัว\" ค้นหาเหรียญที่มีโอกาสเติบโต 10 เท่า (10X Coins) ด้วยวิธีการที่เป็นระบบ\\n  - วิเคราะห์ Sector และผู้นำเทรนด์ เข้าใจกลุ่มอุตสาหกรรมต่างๆ (Blockchain, DeFi, Infrastructure, Metaverse, RWA ฯลฯ) และรู้วิธีระบุเทรนด์ในอนาคต รวมถึง \"First Mover\" (ผู้นำเทรนด์) ที่จะได้รับประโยชน์\\n  - บริหารพอร์ตอย่างมั่นใจ เรียนรู้กลยุทธ์การบริหารพอร์ตโฟลิโอ (Portfolio Management), วิธีการจัดสรรเงินทุน, และกลยุทธ์บริหารความเสี่ยงสำหรับการเทรดที่คาดหวังผลตอบแทนสูง เช่น \"การจับกระแส Narrative\"\\n  - โดย คุณเหริน Analyst จาก Cryptomind Research\\n- **Elliott Wave 3X จับเวฟท�', 'ฟรีเครื่องมือ Investic Analytics Studio เต็มๆ 1 เดือน!\\nOnline Workshops\\nออกแบบมาเพื่อให้คุณได้ลงมือทำจริง พร้อมเทคนิคและสิทธิ์ได้เครื่องมือที่ใช้งานตลอด 1 เดือน เพื่อลุยเทรดในตลาดกันจริงๆ\\n\\n**Workshop Details**\\n\\n- **Online Workshops \"จับมือเทรดด้วย Quant Data\"**\\n  - เรียนรู้แบบเจาะลึกกับเหล่า Guru Quant พร้อมใช้ฟรีเครื่องมือ Investic Analytics Studio เต็มๆ 1 เดือน!\\n- **TFEX - Win rate 100% จับ Panic Sell ด้วย Bollinger Band Market Breadth**\\n  - เรียนรู้กลยุทธ์หาจุดกลับตัวของเทรนด์ (Trend Reversal Points) เพิ่มความแม่นยำในการจับจังหวะตลาด\\n  - เข้าใจการใช้เครื่องมือ Bollinger Band Panic Sell ผู้สอนใช้เครื่องมือนี้จับจุดต่ำสุดของตลาด (Catch Bottom) ได้อย่างชัดเจนในปี 2016\\n  - จับสัญญาณซื้อขาย จากตัวอย่างการใช้โมเดลในช่วงเหตุการณ์สำคัญ เช่น วิกฤตน้ำท่วมปี 2554 และช่วงตลาดกระทิงปี 25'], retrieval_context=None, additional_metadata={'evolutions': ['Concretizing'], 'synthetic_input_quality': 0.2}, comments=None, tools_called=None, expected_tools=None, source_file='data/raw/workshop.txt', name=None, custom_column_key_values=None),\n",
       " Golden(input=\"How does block trading theory enhance gold traders' ability to navigate price zones effectively?\", actual_output=None, expected_output='Block trading theory enhances gold traders\\' ability to navigate price zones effectively by helping them understand that gold prices often move in \"blocks\" or \"price zones\" (e.g., $5, $25, $50, $100) and tend to jump between these zones. This understanding allows traders to anticipate potential price movements and adjust their strategies accordingly, such as setting more accurate stop losses based on market volatility. Additionally, recognizing block trading patterns increases the chance of survival in trading by providing more predictable entry and exit points.', context=['ทันแนวรับ แนวต้านของเจ้ามือทองคำด้วย OI และเครื่องมือ Market Maker Data Gold Option OI**\\n  - เข้าใจกลไก Market Maker เรียนรู้วิธีการทำงานของผู้เล่นรายใหญ่ และข้อจำกัดด้านเงินทุนของพวกเขาส่งผลต่อราคาอย่างไร\\n  - ทฤษฎี \"Block Trading\" ในทองคำ เข้าใจงานวิจัยและข้อมูล (Normal Distribution, Encoding Visualization) ที่สนับสนุนว่าราคาทองคำมักเคลื่อนที่เป็น \"บล็อก\" หรือ \"โซนราคา\" (เช่น $5, $25, $50, $100) และกระโดดระหว่างบล็อกเหล่านี้\\n  - เพิ่มโอกาสรอดในการเทรด ความเข้าใจการเคลื่อนที่แบบบล็อก \"ช่วยให้เรารอดตายจากการเทรดได้เยอะ\"\\n  - ปรับ Stop Loss ตามความผันผวน เข้าใจความจำเป็นในการปรับระยะ Stop Loss ตามความผันผวนตลาด (เช่น ATR) แทนที่จะใช้ระยะคงที่\\n  - โดย คุณเอ็มและคุณเอ เจ้าของเ', '55-2556\\n  - โดย คุณแชมป์ เจ้าของเพจ PK’s Trading Diary\\n- **Crypto - หาเหรียญ 10x แบบไม่ต้องพึ่งดวง**\\n  - เรียนรู้พื้นฐาน Crypto Investing ตั้งแต่ภาพรวมตลาด, วัฏจักร Bitcoin (Bitcoin Cycle)\\n  - เชี่ยวชาญการ \"คัดรายตัว\" ค้นหาเหรียญที่มีโอกาสเติบโต 10 เท่า (10X Coins) ด้วยวิธีการที่เป็นระบบ\\n  - วิเคราะห์ Sector และผู้นำเทรนด์ เข้าใจกลุ่มอุตสาหกรรมต่างๆ (Blockchain, DeFi, Infrastructure, Metaverse, RWA ฯลฯ) และรู้วิธีระบุเทรนด์ในอนาคต รวมถึง \"First Mover\" (ผู้นำเทรนด์) ที่จะได้รับประโยชน์\\n  - บริหารพอร์ตอย่างมั่นใจ เรียนรู้กลยุทธ์การบริหารพอร์ตโฟลิโอ (Portfolio Management), วิธีการจัดสรรเงินทุน, และกลยุทธ์บริหารความเสี่ยงสำหรับการเทรดที่คาดหวังผลตอบแทนสูง เช่น \"การจับกระแส Narrative\"\\n  - โดย คุณเหริน Analyst จาก Cryptomind Research\\n- **Elliott Wave 3X จับเวฟท�', '�่ทรงพลังที่สุด**\\n  - โฟกัสที่ Wave 3 Extension (3X) เรียนรู้การระบุและเทรดใน \"คลื่นที่วิ่งแรงที่สุด\" เพื่อเป้าหมายการทำกำไรสูงสุดในเวลาอันสั้น\\n  - เข้าใจโครงสร้างตลาดสำหรับ Wave 3X รวมถึงการทำความเข้าใจวงจรคลื่นซ้อน (Nested Cycles) ทั้ง Higher Degree Cycle และ Lower Degree Cycle\\n  - ใช้ Fibonacci Retracement อย่างมือโปร เพื่อช่วยหาจุดสิ้นสุดที่เป็นไปได้ของ Wave 2 ซึ่งเป็นจุดเข้าสำคัญสำหรับ Wave 3\\n  - กลยุทธ์เข้าเทรดและ Stop Loss ที่ใช้ได้จริง พร้อมตัวอย่างอัตราส่วน Risk/Reward ที่หลากหลาย (เช่น 1:3 ถึง 1:14) จากโครงสร้างคลื่นและระดับ Fibonacci\\n  - เข้าใจ Trade-offs ของ Stop Loss:** ระหว่างการตั้ง Stop Loss แคบ (โอกาส Reward สูง แต่ Win Rate อาจต่ำกว่า) และกว้าง (โอกาส Reward ต่ำกว่า แต่ Win Rate อาจสูงกว่า)\\n  - โดย คุณคิด เจ้าของเพจ New Genesis\\n- **Gold - รู้'], retrieval_context=None, additional_metadata={'evolutions': ['Concretizing'], 'synthetic_input_quality': 0.7}, comments=None, tools_called=None, expected_tools=None, source_file='data/raw/workshop.txt', name=None, custom_column_key_values=None),\n",
       " Golden(input='How does understanding Market Maker mechanics, Block Trading, and Stop Loss adjustments optimize trading strategies?', actual_output=None, expected_output='Understanding Market Maker mechanics, Block Trading, and Stop Loss adjustments optimizes trading strategies by allowing traders to anticipate and respond to price movements effectively. Market Maker mechanics provide insights into how major players influence prices, enabling traders to align their strategies accordingly. The concept of Block Trading explains how gold prices often shift between specific price zones, like $5 or $100 blocks, allowing traders to predict potential price jumps. Adjusting Stop Loss according to market volatility, instead of using fixed distances, helps manage risk by accommodating market fluctuations, which enhances survival and success in trading.', context=['ทันแนวรับ แนวต้านของเจ้ามือทองคำด้วย OI และเครื่องมือ Market Maker Data Gold Option OI**\\n  - เข้าใจกลไก Market Maker เรียนรู้วิธีการทำงานของผู้เล่นรายใหญ่ และข้อจำกัดด้านเงินทุนของพวกเขาส่งผลต่อราคาอย่างไร\\n  - ทฤษฎี \"Block Trading\" ในทองคำ เข้าใจงานวิจัยและข้อมูล (Normal Distribution, Encoding Visualization) ที่สนับสนุนว่าราคาทองคำมักเคลื่อนที่เป็น \"บล็อก\" หรือ \"โซนราคา\" (เช่น $5, $25, $50, $100) และกระโดดระหว่างบล็อกเหล่านี้\\n  - เพิ่มโอกาสรอดในการเทรด ความเข้าใจการเคลื่อนที่แบบบล็อก \"ช่วยให้เรารอดตายจากการเทรดได้เยอะ\"\\n  - ปรับ Stop Loss ตามความผันผวน เข้าใจความจำเป็นในการปรับระยะ Stop Loss ตามความผันผวนตลาด (เช่น ATR) แทนที่จะใช้ระยะคงที่\\n  - โดย คุณเอ็มและคุณเอ เจ้าของเ', '55-2556\\n  - โดย คุณแชมป์ เจ้าของเพจ PK’s Trading Diary\\n- **Crypto - หาเหรียญ 10x แบบไม่ต้องพึ่งดวง**\\n  - เรียนรู้พื้นฐาน Crypto Investing ตั้งแต่ภาพรวมตลาด, วัฏจักร Bitcoin (Bitcoin Cycle)\\n  - เชี่ยวชาญการ \"คัดรายตัว\" ค้นหาเหรียญที่มีโอกาสเติบโต 10 เท่า (10X Coins) ด้วยวิธีการที่เป็นระบบ\\n  - วิเคราะห์ Sector และผู้นำเทรนด์ เข้าใจกลุ่มอุตสาหกรรมต่างๆ (Blockchain, DeFi, Infrastructure, Metaverse, RWA ฯลฯ) และรู้วิธีระบุเทรนด์ในอนาคต รวมถึง \"First Mover\" (ผู้นำเทรนด์) ที่จะได้รับประโยชน์\\n  - บริหารพอร์ตอย่างมั่นใจ เรียนรู้กลยุทธ์การบริหารพอร์ตโฟลิโอ (Portfolio Management), วิธีการจัดสรรเงินทุน, และกลยุทธ์บริหารความเสี่ยงสำหรับการเทรดที่คาดหวังผลตอบแทนสูง เช่น \"การจับกระแส Narrative\"\\n  - โดย คุณเหริน Analyst จาก Cryptomind Research\\n- **Elliott Wave 3X จับเวฟท�', '�่ทรงพลังที่สุด**\\n  - โฟกัสที่ Wave 3 Extension (3X) เรียนรู้การระบุและเทรดใน \"คลื่นที่วิ่งแรงที่สุด\" เพื่อเป้าหมายการทำกำไรสูงสุดในเวลาอันสั้น\\n  - เข้าใจโครงสร้างตลาดสำหรับ Wave 3X รวมถึงการทำความเข้าใจวงจรคลื่นซ้อน (Nested Cycles) ทั้ง Higher Degree Cycle และ Lower Degree Cycle\\n  - ใช้ Fibonacci Retracement อย่างมือโปร เพื่อช่วยหาจุดสิ้นสุดที่เป็นไปได้ของ Wave 2 ซึ่งเป็นจุดเข้าสำคัญสำหรับ Wave 3\\n  - กลยุทธ์เข้าเทรดและ Stop Loss ที่ใช้ได้จริง พร้อมตัวอย่างอัตราส่วน Risk/Reward ที่หลากหลาย (เช่น 1:3 ถึง 1:14) จากโครงสร้างคลื่นและระดับ Fibonacci\\n  - เข้าใจ Trade-offs ของ Stop Loss:** ระหว่างการตั้ง Stop Loss แคบ (โอกาส Reward สูง แต่ Win Rate อาจต่ำกว่า) และกว้าง (โอกาส Reward ต่ำกว่า แต่ Win Rate อาจสูงกว่า)\\n  - โดย คุณคิด เจ้าของเพจ New Genesis\\n- **Gold - รู้'], retrieval_context=None, additional_metadata={'evolutions': ['Multi-context'], 'synthetic_input_quality': 0.6}, comments=None, tools_called=None, expected_tools=None, source_file='data/raw/workshop.txt', name=None, custom_column_key_values=None),\n",
       " Golden(input='How does the TFEX workshop teach identifying trend reversal points with Bollinger Band Market Breadth?', actual_output=None, expected_output='The TFEX workshop teaches identifying trend reversal points by using the Bollinger Band Market Breadth strategy. It emphasizes achieving a 100% win rate and helps participants learn how to effectively catch market bottoms by understanding the use of the Bollinger Band Panic Sell tool, with practical examples from significant events like the flooding crisis in 2011.', context=['ฟรีเครื่องมือ Investic Analytics Studio เต็มๆ 1 เดือน!\\nOnline Workshops\\nออกแบบมาเพื่อให้คุณได้ลงมือทำจริง พร้อมเทคนิคและสิทธิ์ได้เครื่องมือที่ใช้งานตลอด 1 เดือน เพื่อลุยเทรดในตลาดกันจริงๆ\\n\\n**Workshop Details**\\n\\n- **Online Workshops \"จับมือเทรดด้วย Quant Data\"**\\n  - เรียนรู้แบบเจาะลึกกับเหล่า Guru Quant พร้อมใช้ฟรีเครื่องมือ Investic Analytics Studio เต็มๆ 1 เดือน!\\n- **TFEX - Win rate 100% จับ Panic Sell ด้วย Bollinger Band Market Breadth**\\n  - เรียนรู้กลยุทธ์หาจุดกลับตัวของเทรนด์ (Trend Reversal Points) เพิ่มความแม่นยำในการจับจังหวะตลาด\\n  - เข้าใจการใช้เครื่องมือ Bollinger Band Panic Sell ผู้สอนใช้เครื่องมือนี้จับจุดต่ำสุดของตลาด (Catch Bottom) ได้อย่างชัดเจนในปี 2016\\n  - จับสัญญาณซื้อขาย จากตัวอย่างการใช้โมเดลในช่วงเหตุการณ์สำคัญ เช่น วิกฤตน้ำท่วมปี 2554 และช่วงตลาดกระทิงปี 25', 'พจ M traders\\n\\n**ถาม-ตอบเกี่ยวกับเวิร์กช็อป**\\n\\n**ถาม:** Investic Analytics Studio เสนออะไร?\\n   - **ตอบ:** เสนอการเข้าถึงเวิร์กช็อปและข้อมูลเชิงเทคนิคฟรีเป็นเวลาหนึ่งเดือน\\n\\n**ถาม:** จุดเด่นของเวิร์กช็อป TFEX คืออะไร?\\n   - **ตอบ:** เน้นการบรรลุอัตราการชนะ 100% โดยใช้ Bollinger Band Market Breadth\\n\\n**ถาม:** หัวข้อหลักในเวิร์กช็อป Crypto คืออะไร?\\n   - **ตอบ:** ครอบคลุมการลงทุนใน Crypto, วัฏจักรของ Bitcoin และการวิเคราะห์ภาคส่วน\\n\\n**ถาม:** What is the focus of the Elliott Wave 3X workshop?\\nA: The focus is on Wave 3 Extension (3X) to learn how to identify and trade in the most powerful wave for maximum profit in a short time.\\n\\nQ: What will I learn from the Crypto workshop?\\nA: You will learn the basics of Crypto Investing, how to select coins with 10x growth potential, analyze sectors and trends, and manage your portfolio with confidence.\\n\\nQ: How does the TFEX workshop help me?\\nA: The TFEX workshop teaches you how to identify trend reversal points, use Bollinger Band Panic Sell, and catch market bottoms, with a focus on practical examples and real-world applications.\\n\\n**Additional Resources**\\n\\n- Investic Analytics Studio: Get access to the full suite of tools for 1 month to practice what you learn in the workshops.\\n- Cryptomind Research: Additional resources and research papers on Crypto Investing and market trends.\\n- PK’s Trading Diary: Follow the journey of a successful trader and learn from their experiences.\\n- New Genesis: Insights and analysis on Elliott Wave and market trends.\\n- M traders: Tips and strategies for trading Gold and other markets.', '55-2556\\n  - โดย คุณแชมป์ เจ้าของเพจ PK’s Trading Diary\\n- **Crypto - หาเหรียญ 10x แบบไม่ต้องพึ่งดวง**\\n  - เรียนรู้พื้นฐาน Crypto Investing ตั้งแต่ภาพรวมตลาด, วัฏจักร Bitcoin (Bitcoin Cycle)\\n  - เชี่ยวชาญการ \"คัดรายตัว\" ค้นหาเหรียญที่มีโอกาสเติบโต 10 เท่า (10X Coins) ด้วยวิธีการที่เป็นระบบ\\n  - วิเคราะห์ Sector และผู้นำเทรนด์ เข้าใจกลุ่มอุตสาหกรรมต่างๆ (Blockchain, DeFi, Infrastructure, Metaverse, RWA ฯลฯ) และรู้วิธีระบุเทรนด์ในอนาคต รวมถึง \"First Mover\" (ผู้นำเทรนด์) ที่จะได้รับประโยชน์\\n  - บริหารพอร์ตอย่างมั่นใจ เรียนรู้กลยุทธ์การบริหารพอร์ตโฟลิโอ (Portfolio Management), วิธีการจัดสรรเงินทุน, และกลยุทธ์บริหารความเสี่ยงสำหรับการเทรดที่คาดหวังผลตอบแทนสูง เช่น \"การจับกระแส Narrative\"\\n  - โดย คุณเหริน Analyst จาก Cryptomind Research\\n- **Elliott Wave 3X จับเวฟท�'], retrieval_context=None, additional_metadata={'evolutions': ['Concretizing'], 'synthetic_input_quality': 0.7}, comments=None, tools_called=None, expected_tools=None, source_file='data/raw/workshop.txt', name=None, custom_column_key_values=None),\n",
       " Golden(input='What advantages does Investic Analytics Studio provide during its comprehensive one-month free access?', actual_output=None, expected_output='Investic Analytics Studio offers instrumental advantages during its one-month free access, including participation in online workshops and access to in-depth technical insights. This period allows users to practically apply the tools provided for trading, enhance their understanding of market dynamics, and refine investment strategies with guidance from gurus in Quant and other financial areas.', context=['ฟรีเครื่องมือ Investic Analytics Studio เต็มๆ 1 เดือน!\\nOnline Workshops\\nออกแบบมาเพื่อให้คุณได้ลงมือทำจริง พร้อมเทคนิคและสิทธิ์ได้เครื่องมือที่ใช้งานตลอด 1 เดือน เพื่อลุยเทรดในตลาดกันจริงๆ\\n\\n**Workshop Details**\\n\\n- **Online Workshops \"จับมือเทรดด้วย Quant Data\"**\\n  - เรียนรู้แบบเจาะลึกกับเหล่า Guru Quant พร้อมใช้ฟรีเครื่องมือ Investic Analytics Studio เต็มๆ 1 เดือน!\\n- **TFEX - Win rate 100% จับ Panic Sell ด้วย Bollinger Band Market Breadth**\\n  - เรียนรู้กลยุทธ์หาจุดกลับตัวของเทรนด์ (Trend Reversal Points) เพิ่มความแม่นยำในการจับจังหวะตลาด\\n  - เข้าใจการใช้เครื่องมือ Bollinger Band Panic Sell ผู้สอนใช้เครื่องมือนี้จับจุดต่ำสุดของตลาด (Catch Bottom) ได้อย่างชัดเจนในปี 2016\\n  - จับสัญญาณซื้อขาย จากตัวอย่างการใช้โมเดลในช่วงเหตุการณ์สำคัญ เช่น วิกฤตน้ำท่วมปี 2554 และช่วงตลาดกระทิงปี 25', 'พจ M traders\\n\\n**ถาม-ตอบเกี่ยวกับเวิร์กช็อป**\\n\\n**ถาม:** Investic Analytics Studio เสนออะไร?\\n   - **ตอบ:** เสนอการเข้าถึงเวิร์กช็อปและข้อมูลเชิงเทคนิคฟรีเป็นเวลาหนึ่งเดือน\\n\\n**ถาม:** จุดเด่นของเวิร์กช็อป TFEX คืออะไร?\\n   - **ตอบ:** เน้นการบรรลุอัตราการชนะ 100% โดยใช้ Bollinger Band Market Breadth\\n\\n**ถาม:** หัวข้อหลักในเวิร์กช็อป Crypto คืออะไร?\\n   - **ตอบ:** ครอบคลุมการลงทุนใน Crypto, วัฏจักรของ Bitcoin และการวิเคราะห์ภาคส่วน\\n\\n**ถาม:** What is the focus of the Elliott Wave 3X workshop?\\nA: The focus is on Wave 3 Extension (3X) to learn how to identify and trade in the most powerful wave for maximum profit in a short time.\\n\\nQ: What will I learn from the Crypto workshop?\\nA: You will learn the basics of Crypto Investing, how to select coins with 10x growth potential, analyze sectors and trends, and manage your portfolio with confidence.\\n\\nQ: How does the TFEX workshop help me?\\nA: The TFEX workshop teaches you how to identify trend reversal points, use Bollinger Band Panic Sell, and catch market bottoms, with a focus on practical examples and real-world applications.\\n\\n**Additional Resources**\\n\\n- Investic Analytics Studio: Get access to the full suite of tools for 1 month to practice what you learn in the workshops.\\n- Cryptomind Research: Additional resources and research papers on Crypto Investing and market trends.\\n- PK’s Trading Diary: Follow the journey of a successful trader and learn from their experiences.\\n- New Genesis: Insights and analysis on Elliott Wave and market trends.\\n- M traders: Tips and strategies for trading Gold and other markets.', '55-2556\\n  - โดย คุณแชมป์ เจ้าของเพจ PK’s Trading Diary\\n- **Crypto - หาเหรียญ 10x แบบไม่ต้องพึ่งดวง**\\n  - เรียนรู้พื้นฐาน Crypto Investing ตั้งแต่ภาพรวมตลาด, วัฏจักร Bitcoin (Bitcoin Cycle)\\n  - เชี่ยวชาญการ \"คัดรายตัว\" ค้นหาเหรียญที่มีโอกาสเติบโต 10 เท่า (10X Coins) ด้วยวิธีการที่เป็นระบบ\\n  - วิเคราะห์ Sector และผู้นำเทรนด์ เข้าใจกลุ่มอุตสาหกรรมต่างๆ (Blockchain, DeFi, Infrastructure, Metaverse, RWA ฯลฯ) และรู้วิธีระบุเทรนด์ในอนาคต รวมถึง \"First Mover\" (ผู้นำเทรนด์) ที่จะได้รับประโยชน์\\n  - บริหารพอร์ตอย่างมั่นใจ เรียนรู้กลยุทธ์การบริหารพอร์ตโฟลิโอ (Portfolio Management), วิธีการจัดสรรเงินทุน, และกลยุทธ์บริหารความเสี่ยงสำหรับการเทรดที่คาดหวังผลตอบแทนสูง เช่น \"การจับกระแส Narrative\"\\n  - โดย คุณเหริน Analyst จาก Cryptomind Research\\n- **Elliott Wave 3X จับเวฟท�'], retrieval_context=None, additional_metadata={'evolutions': ['Concretizing'], 'synthetic_input_quality': 0.8}, comments=None, tools_called=None, expected_tools=None, source_file='data/raw/workshop.txt', name=None, custom_column_key_values=None),\n",
       " Golden(input=\"What specific topics are covered in the Crypto workshop led by PK's Trading Diary?\", actual_output=None, expected_output=\"The Crypto workshop led by PK's Trading Diary covers the basics of Crypto Investing, including market overview and Bitcoin Cycle. It focuses on selecting coins with 10x growth potential, analyzing various sectors like Blockchain, DeFi, Metaverse, and identifying future trends and First Movers. Additionally, it includes portfolio management strategies and risk management for high-return trading.\", context=['55-2556\\n  - โดย คุณแชมป์ เจ้าของเพจ PK’s Trading Diary\\n- **Crypto - หาเหรียญ 10x แบบไม่ต้องพึ่งดวง**\\n  - เรียนรู้พื้นฐาน Crypto Investing ตั้งแต่ภาพรวมตลาด, วัฏจักร Bitcoin (Bitcoin Cycle)\\n  - เชี่ยวชาญการ \"คัดรายตัว\" ค้นหาเหรียญที่มีโอกาสเติบโต 10 เท่า (10X Coins) ด้วยวิธีการที่เป็นระบบ\\n  - วิเคราะห์ Sector และผู้นำเทรนด์ เข้าใจกลุ่มอุตสาหกรรมต่างๆ (Blockchain, DeFi, Infrastructure, Metaverse, RWA ฯลฯ) และรู้วิธีระบุเทรนด์ในอนาคต รวมถึง \"First Mover\" (ผู้นำเทรนด์) ที่จะได้รับประโยชน์\\n  - บริหารพอร์ตอย่างมั่นใจ เรียนรู้กลยุทธ์การบริหารพอร์ตโฟลิโอ (Portfolio Management), วิธีการจัดสรรเงินทุน, และกลยุทธ์บริหารความเสี่ยงสำหรับการเทรดที่คาดหวังผลตอบแทนสูง เช่น \"การจับกระแส Narrative\"\\n  - โดย คุณเหริน Analyst จาก Cryptomind Research\\n- **Elliott Wave 3X จับเวฟท�', 'พจ M traders\\n\\n**ถาม-ตอบเกี่ยวกับเวิร์กช็อป**\\n\\n**ถาม:** Investic Analytics Studio เสนออะไร?\\n   - **ตอบ:** เสนอการเข้าถึงเวิร์กช็อปและข้อมูลเชิงเทคนิคฟรีเป็นเวลาหนึ่งเดือน\\n\\n**ถาม:** จุดเด่นของเวิร์กช็อป TFEX คืออะไร?\\n   - **ตอบ:** เน้นการบรรลุอัตราการชนะ 100% โดยใช้ Bollinger Band Market Breadth\\n\\n**ถาม:** หัวข้อหลักในเวิร์กช็อป Crypto คืออะไร?\\n   - **ตอบ:** ครอบคลุมการลงทุนใน Crypto, วัฏจักรของ Bitcoin และการวิเคราะห์ภาคส่วน\\n\\n**ถาม:** What is the focus of the Elliott Wave 3X workshop?\\nA: The focus is on Wave 3 Extension (3X) to learn how to identify and trade in the most powerful wave for maximum profit in a short time.\\n\\nQ: What will I learn from the Crypto workshop?\\nA: You will learn the basics of Crypto Investing, how to select coins with 10x growth potential, analyze sectors and trends, and manage your portfolio with confidence.\\n\\nQ: How does the TFEX workshop help me?\\nA: The TFEX workshop teaches you how to identify trend reversal points, use Bollinger Band Panic Sell, and catch market bottoms, with a focus on practical examples and real-world applications.\\n\\n**Additional Resources**\\n\\n- Investic Analytics Studio: Get access to the full suite of tools for 1 month to practice what you learn in the workshops.\\n- Cryptomind Research: Additional resources and research papers on Crypto Investing and market trends.\\n- PK’s Trading Diary: Follow the journey of a successful trader and learn from their experiences.\\n- New Genesis: Insights and analysis on Elliott Wave and market trends.\\n- M traders: Tips and strategies for trading Gold and other markets.', '�่ทรงพลังที่สุด**\\n  - โฟกัสที่ Wave 3 Extension (3X) เรียนรู้การระบุและเทรดใน \"คลื่นที่วิ่งแรงที่สุด\" เพื่อเป้าหมายการทำกำไรสูงสุดในเวลาอันสั้น\\n  - เข้าใจโครงสร้างตลาดสำหรับ Wave 3X รวมถึงการทำความเข้าใจวงจรคลื่นซ้อน (Nested Cycles) ทั้ง Higher Degree Cycle และ Lower Degree Cycle\\n  - ใช้ Fibonacci Retracement อย่างมือโปร เพื่อช่วยหาจุดสิ้นสุดที่เป็นไปได้ของ Wave 2 ซึ่งเป็นจุดเข้าสำคัญสำหรับ Wave 3\\n  - กลยุทธ์เข้าเทรดและ Stop Loss ที่ใช้ได้จริง พร้อมตัวอย่างอัตราส่วน Risk/Reward ที่หลากหลาย (เช่น 1:3 ถึง 1:14) จากโครงสร้างคลื่นและระดับ Fibonacci\\n  - เข้าใจ Trade-offs ของ Stop Loss:** ระหว่างการตั้ง Stop Loss แคบ (โอกาส Reward สูง แต่ Win Rate อาจต่ำกว่า) และกว้าง (โอกาส Reward ต่ำกว่า แต่ Win Rate อาจสูงกว่า)\\n  - โดย คุณคิด เจ้าของเพจ New Genesis\\n- **Gold - รู้'], retrieval_context=None, additional_metadata={'evolutions': ['Concretizing'], 'synthetic_input_quality': 0.9}, comments=None, tools_called=None, expected_tools=None, source_file='data/raw/workshop.txt', name=None, custom_column_key_values=None),\n",
       " Golden(input='What advanced techniques does TFEX workshop teach for achieving a 100% success rate using Bollinger Band Market Breadth?', actual_output=None, expected_output='The TFEX workshop focuses on achieving a 100% success rate by teaching advanced techniques like identifying trend reversal points and utilizing Bollinger Band Panic Sell to catch market bottoms, with practical examples and real-world applications.', context=['55-2556\\n  - โดย คุณแชมป์ เจ้าของเพจ PK’s Trading Diary\\n- **Crypto - หาเหรียญ 10x แบบไม่ต้องพึ่งดวง**\\n  - เรียนรู้พื้นฐาน Crypto Investing ตั้งแต่ภาพรวมตลาด, วัฏจักร Bitcoin (Bitcoin Cycle)\\n  - เชี่ยวชาญการ \"คัดรายตัว\" ค้นหาเหรียญที่มีโอกาสเติบโต 10 เท่า (10X Coins) ด้วยวิธีการที่เป็นระบบ\\n  - วิเคราะห์ Sector และผู้นำเทรนด์ เข้าใจกลุ่มอุตสาหกรรมต่างๆ (Blockchain, DeFi, Infrastructure, Metaverse, RWA ฯลฯ) และรู้วิธีระบุเทรนด์ในอนาคต รวมถึง \"First Mover\" (ผู้นำเทรนด์) ที่จะได้รับประโยชน์\\n  - บริหารพอร์ตอย่างมั่นใจ เรียนรู้กลยุทธ์การบริหารพอร์ตโฟลิโอ (Portfolio Management), วิธีการจัดสรรเงินทุน, และกลยุทธ์บริหารความเสี่ยงสำหรับการเทรดที่คาดหวังผลตอบแทนสูง เช่น \"การจับกระแส Narrative\"\\n  - โดย คุณเหริน Analyst จาก Cryptomind Research\\n- **Elliott Wave 3X จับเวฟท�', 'พจ M traders\\n\\n**ถาม-ตอบเกี่ยวกับเวิร์กช็อป**\\n\\n**ถาม:** Investic Analytics Studio เสนออะไร?\\n   - **ตอบ:** เสนอการเข้าถึงเวิร์กช็อปและข้อมูลเชิงเทคนิคฟรีเป็นเวลาหนึ่งเดือน\\n\\n**ถาม:** จุดเด่นของเวิร์กช็อป TFEX คืออะไร?\\n   - **ตอบ:** เน้นการบรรลุอัตราการชนะ 100% โดยใช้ Bollinger Band Market Breadth\\n\\n**ถาม:** หัวข้อหลักในเวิร์กช็อป Crypto คืออะไร?\\n   - **ตอบ:** ครอบคลุมการลงทุนใน Crypto, วัฏจักรของ Bitcoin และการวิเคราะห์ภาคส่วน\\n\\n**ถาม:** What is the focus of the Elliott Wave 3X workshop?\\nA: The focus is on Wave 3 Extension (3X) to learn how to identify and trade in the most powerful wave for maximum profit in a short time.\\n\\nQ: What will I learn from the Crypto workshop?\\nA: You will learn the basics of Crypto Investing, how to select coins with 10x growth potential, analyze sectors and trends, and manage your portfolio with confidence.\\n\\nQ: How does the TFEX workshop help me?\\nA: The TFEX workshop teaches you how to identify trend reversal points, use Bollinger Band Panic Sell, and catch market bottoms, with a focus on practical examples and real-world applications.\\n\\n**Additional Resources**\\n\\n- Investic Analytics Studio: Get access to the full suite of tools for 1 month to practice what you learn in the workshops.\\n- Cryptomind Research: Additional resources and research papers on Crypto Investing and market trends.\\n- PK’s Trading Diary: Follow the journey of a successful trader and learn from their experiences.\\n- New Genesis: Insights and analysis on Elliott Wave and market trends.\\n- M traders: Tips and strategies for trading Gold and other markets.', '�่ทรงพลังที่สุด**\\n  - โฟกัสที่ Wave 3 Extension (3X) เรียนรู้การระบุและเทรดใน \"คลื่นที่วิ่งแรงที่สุด\" เพื่อเป้าหมายการทำกำไรสูงสุดในเวลาอันสั้น\\n  - เข้าใจโครงสร้างตลาดสำหรับ Wave 3X รวมถึงการทำความเข้าใจวงจรคลื่นซ้อน (Nested Cycles) ทั้ง Higher Degree Cycle และ Lower Degree Cycle\\n  - ใช้ Fibonacci Retracement อย่างมือโปร เพื่อช่วยหาจุดสิ้นสุดที่เป็นไปได้ของ Wave 2 ซึ่งเป็นจุดเข้าสำคัญสำหรับ Wave 3\\n  - กลยุทธ์เข้าเทรดและ Stop Loss ที่ใช้ได้จริง พร้อมตัวอย่างอัตราส่วน Risk/Reward ที่หลากหลาย (เช่น 1:3 ถึง 1:14) จากโครงสร้างคลื่นและระดับ Fibonacci\\n  - เข้าใจ Trade-offs ของ Stop Loss:** ระหว่างการตั้ง Stop Loss แคบ (โอกาส Reward สูง แต่ Win Rate อาจต่ำกว่า) และกว้าง (โอกาส Reward ต่ำกว่า แต่ Win Rate อาจสูงกว่า)\\n  - โดย คุณคิด เจ้าของเพจ New Genesis\\n- **Gold - รู้'], retrieval_context=None, additional_metadata={'evolutions': ['Concretizing'], 'synthetic_input_quality': 0.6}, comments=None, tools_called=None, expected_tools=None, source_file='data/raw/workshop.txt', name=None, custom_column_key_values=None),\n",
       " Golden(input='What strategies does the TFEX workshop teach for 100% win rate, including trend reversal identification?', actual_output=None, expected_output='The TFEX workshop teaches strategies for achieving a 100% win rate by focusing on identifying trend reversal points, using the Bollinger Band Market Breadth, and effectively catching market bottoms.', context=['ฟรีเครื่องมือ Investic Analytics Studio เต็มๆ 1 เดือน!\\nOnline Workshops\\nออกแบบมาเพื่อให้คุณได้ลงมือทำจริง พร้อมเทคนิคและสิทธิ์ได้เครื่องมือที่ใช้งานตลอด 1 เดือน เพื่อลุยเทรดในตลาดกันจริงๆ\\n\\n**Workshop Details**\\n\\n- **Online Workshops \"จับมือเทรดด้วย Quant Data\"**\\n  - เรียนรู้แบบเจาะลึกกับเหล่า Guru Quant พร้อมใช้ฟรีเครื่องมือ Investic Analytics Studio เต็มๆ 1 เดือน!\\n- **TFEX - Win rate 100% จับ Panic Sell ด้วย Bollinger Band Market Breadth**\\n  - เรียนรู้กลยุทธ์หาจุดกลับตัวของเทรนด์ (Trend Reversal Points) เพิ่มความแม่นยำในการจับจังหวะตลาด\\n  - เข้าใจการใช้เครื่องมือ Bollinger Band Panic Sell ผู้สอนใช้เครื่องมือนี้จับจุดต่ำสุดของตลาด (Catch Bottom) ได้อย่างชัดเจนในปี 2016\\n  - จับสัญญาณซื้อขาย จากตัวอย่างการใช้โมเดลในช่วงเหตุการณ์สำคัญ เช่น วิกฤตน้ำท่วมปี 2554 และช่วงตลาดกระทิงปี 25', 'พจ M traders\\n\\n**ถาม-ตอบเกี่ยวกับเวิร์กช็อป**\\n\\n**ถาม:** Investic Analytics Studio เสนออะไร?\\n   - **ตอบ:** เสนอการเข้าถึงเวิร์กช็อปและข้อมูลเชิงเทคนิคฟรีเป็นเวลาหนึ่งเดือน\\n\\n**ถาม:** จุดเด่นของเวิร์กช็อป TFEX คืออะไร?\\n   - **ตอบ:** เน้นการบรรลุอัตราการชนะ 100% โดยใช้ Bollinger Band Market Breadth\\n\\n**ถาม:** หัวข้อหลักในเวิร์กช็อป Crypto คืออะไร?\\n   - **ตอบ:** ครอบคลุมการลงทุนใน Crypto, วัฏจักรของ Bitcoin และการวิเคราะห์ภาคส่วน\\n\\n**ถาม:** What is the focus of the Elliott Wave 3X workshop?\\nA: The focus is on Wave 3 Extension (3X) to learn how to identify and trade in the most powerful wave for maximum profit in a short time.\\n\\nQ: What will I learn from the Crypto workshop?\\nA: You will learn the basics of Crypto Investing, how to select coins with 10x growth potential, analyze sectors and trends, and manage your portfolio with confidence.\\n\\nQ: How does the TFEX workshop help me?\\nA: The TFEX workshop teaches you how to identify trend reversal points, use Bollinger Band Panic Sell, and catch market bottoms, with a focus on practical examples and real-world applications.\\n\\n**Additional Resources**\\n\\n- Investic Analytics Studio: Get access to the full suite of tools for 1 month to practice what you learn in the workshops.\\n- Cryptomind Research: Additional resources and research papers on Crypto Investing and market trends.\\n- PK’s Trading Diary: Follow the journey of a successful trader and learn from their experiences.\\n- New Genesis: Insights and analysis on Elliott Wave and market trends.\\n- M traders: Tips and strategies for trading Gold and other markets.', '55-2556\\n  - โดย คุณแชมป์ เจ้าของเพจ PK’s Trading Diary\\n- **Crypto - หาเหรียญ 10x แบบไม่ต้องพึ่งดวง**\\n  - เรียนรู้พื้นฐาน Crypto Investing ตั้งแต่ภาพรวมตลาด, วัฏจักร Bitcoin (Bitcoin Cycle)\\n  - เชี่ยวชาญการ \"คัดรายตัว\" ค้นหาเหรียญที่มีโอกาสเติบโต 10 เท่า (10X Coins) ด้วยวิธีการที่เป็นระบบ\\n  - วิเคราะห์ Sector และผู้นำเทรนด์ เข้าใจกลุ่มอุตสาหกรรมต่างๆ (Blockchain, DeFi, Infrastructure, Metaverse, RWA ฯลฯ) และรู้วิธีระบุเทรนด์ในอนาคต รวมถึง \"First Mover\" (ผู้นำเทรนด์) ที่จะได้รับประโยชน์\\n  - บริหารพอร์ตอย่างมั่นใจ เรียนรู้กลยุทธ์การบริหารพอร์ตโฟลิโอ (Portfolio Management), วิธีการจัดสรรเงินทุน, และกลยุทธ์บริหารความเสี่ยงสำหรับการเทรดที่คาดหวังผลตอบแทนสูง เช่น \"การจับกระแส Narrative\"\\n  - โดย คุณเหริน Analyst จาก Cryptomind Research\\n- **Elliott Wave 3X จับเวฟท�'], retrieval_context=None, additional_metadata={'evolutions': ['Constrained'], 'synthetic_input_quality': 0.7}, comments=None, tools_called=None, expected_tools=None, source_file='data/raw/workshop.txt', name=None, custom_column_key_values=None),\n",
       " Golden(input=\"What trading insights and strategies can be gained from Investic Studio's free monthly access?\", actual_output=None, expected_output=\"From Investic Studio's free monthly access, you can gain insights and strategies such as identifying trend reversal points, utilizing Bollinger Band Panic Sell for market bottom detection, and implementing techniques for trading in cryptocurrency markets, including selecting potential 10x growth coins. Additionally, you'll learn about Elliott Wave theory for maximizing profit in short-term trades, all facilitated through various online workshops and hands-on practice with Investic Analytics Studio tools.\", context=['ฟรีเครื่องมือ Investic Analytics Studio เต็มๆ 1 เดือน!\\nOnline Workshops\\nออกแบบมาเพื่อให้คุณได้ลงมือทำจริง พร้อมเทคนิคและสิทธิ์ได้เครื่องมือที่ใช้งานตลอด 1 เดือน เพื่อลุยเทรดในตลาดกันจริงๆ\\n\\n**Workshop Details**\\n\\n- **Online Workshops \"จับมือเทรดด้วย Quant Data\"**\\n  - เรียนรู้แบบเจาะลึกกับเหล่า Guru Quant พร้อมใช้ฟรีเครื่องมือ Investic Analytics Studio เต็มๆ 1 เดือน!\\n- **TFEX - Win rate 100% จับ Panic Sell ด้วย Bollinger Band Market Breadth**\\n  - เรียนรู้กลยุทธ์หาจุดกลับตัวของเทรนด์ (Trend Reversal Points) เพิ่มความแม่นยำในการจับจังหวะตลาด\\n  - เข้าใจการใช้เครื่องมือ Bollinger Band Panic Sell ผู้สอนใช้เครื่องมือนี้จับจุดต่ำสุดของตลาด (Catch Bottom) ได้อย่างชัดเจนในปี 2016\\n  - จับสัญญาณซื้อขาย จากตัวอย่างการใช้โมเดลในช่วงเหตุการณ์สำคัญ เช่น วิกฤตน้ำท่วมปี 2554 และช่วงตลาดกระทิงปี 25', 'พจ M traders\\n\\n**ถาม-ตอบเกี่ยวกับเวิร์กช็อป**\\n\\n**ถาม:** Investic Analytics Studio เสนออะไร?\\n   - **ตอบ:** เสนอการเข้าถึงเวิร์กช็อปและข้อมูลเชิงเทคนิคฟรีเป็นเวลาหนึ่งเดือน\\n\\n**ถาม:** จุดเด่นของเวิร์กช็อป TFEX คืออะไร?\\n   - **ตอบ:** เน้นการบรรลุอัตราการชนะ 100% โดยใช้ Bollinger Band Market Breadth\\n\\n**ถาม:** หัวข้อหลักในเวิร์กช็อป Crypto คืออะไร?\\n   - **ตอบ:** ครอบคลุมการลงทุนใน Crypto, วัฏจักรของ Bitcoin และการวิเคราะห์ภาคส่วน\\n\\n**ถาม:** What is the focus of the Elliott Wave 3X workshop?\\nA: The focus is on Wave 3 Extension (3X) to learn how to identify and trade in the most powerful wave for maximum profit in a short time.\\n\\nQ: What will I learn from the Crypto workshop?\\nA: You will learn the basics of Crypto Investing, how to select coins with 10x growth potential, analyze sectors and trends, and manage your portfolio with confidence.\\n\\nQ: How does the TFEX workshop help me?\\nA: The TFEX workshop teaches you how to identify trend reversal points, use Bollinger Band Panic Sell, and catch market bottoms, with a focus on practical examples and real-world applications.\\n\\n**Additional Resources**\\n\\n- Investic Analytics Studio: Get access to the full suite of tools for 1 month to practice what you learn in the workshops.\\n- Cryptomind Research: Additional resources and research papers on Crypto Investing and market trends.\\n- PK’s Trading Diary: Follow the journey of a successful trader and learn from their experiences.\\n- New Genesis: Insights and analysis on Elliott Wave and market trends.\\n- M traders: Tips and strategies for trading Gold and other markets.', '55-2556\\n  - โดย คุณแชมป์ เจ้าของเพจ PK’s Trading Diary\\n- **Crypto - หาเหรียญ 10x แบบไม่ต้องพึ่งดวง**\\n  - เรียนรู้พื้นฐาน Crypto Investing ตั้งแต่ภาพรวมตลาด, วัฏจักร Bitcoin (Bitcoin Cycle)\\n  - เชี่ยวชาญการ \"คัดรายตัว\" ค้นหาเหรียญที่มีโอกาสเติบโต 10 เท่า (10X Coins) ด้วยวิธีการที่เป็นระบบ\\n  - วิเคราะห์ Sector และผู้นำเทรนด์ เข้าใจกลุ่มอุตสาหกรรมต่างๆ (Blockchain, DeFi, Infrastructure, Metaverse, RWA ฯลฯ) และรู้วิธีระบุเทรนด์ในอนาคต รวมถึง \"First Mover\" (ผู้นำเทรนด์) ที่จะได้รับประโยชน์\\n  - บริหารพอร์ตอย่างมั่นใจ เรียนรู้กลยุทธ์การบริหารพอร์ตโฟลิโอ (Portfolio Management), วิธีการจัดสรรเงินทุน, และกลยุทธ์บริหารความเสี่ยงสำหรับการเทรดที่คาดหวังผลตอบแทนสูง เช่น \"การจับกระแส Narrative\"\\n  - โดย คุณเหริน Analyst จาก Cryptomind Research\\n- **Elliott Wave 3X จับเวฟท�'], retrieval_context=None, additional_metadata={'evolutions': ['In-Breadth'], 'synthetic_input_quality': 0.8}, comments=None, tools_called=None, expected_tools=None, source_file='data/raw/workshop.txt', name=None, custom_column_key_values=None),\n",
       " Golden(input='How do the offerings of Investic Analytics Studio complement the TFEX and Crypto workshops?', actual_output=None, expected_output='The offerings of Investic Analytics Studio complement the TFEX and Crypto workshops by providing free access to a full suite of tools for one month. This access enables participants to apply the techniques and strategies learned in the workshops, such as identifying trend reversal points and managing portfolios confidently. These resources support experiential learning through practical examples, enhancing the educational value of the workshops.', context=['พจ M traders\\n\\n**ถาม-ตอบเกี่ยวกับเวิร์กช็อป**\\n\\n**ถาม:** Investic Analytics Studio เสนออะไร?\\n   - **ตอบ:** เสนอการเข้าถึงเวิร์กช็อปและข้อมูลเชิงเทคนิคฟรีเป็นเวลาหนึ่งเดือน\\n\\n**ถาม:** จุดเด่นของเวิร์กช็อป TFEX คืออะไร?\\n   - **ตอบ:** เน้นการบรรลุอัตราการชนะ 100% โดยใช้ Bollinger Band Market Breadth\\n\\n**ถาม:** หัวข้อหลักในเวิร์กช็อป Crypto คืออะไร?\\n   - **ตอบ:** ครอบคลุมการลงทุนใน Crypto, วัฏจักรของ Bitcoin และการวิเคราะห์ภาคส่วน\\n\\n**ถาม:** What is the focus of the Elliott Wave 3X workshop?\\nA: The focus is on Wave 3 Extension (3X) to learn how to identify and trade in the most powerful wave for maximum profit in a short time.\\n\\nQ: What will I learn from the Crypto workshop?\\nA: You will learn the basics of Crypto Investing, how to select coins with 10x growth potential, analyze sectors and trends, and manage your portfolio with confidence.\\n\\nQ: How does the TFEX workshop help me?\\nA: The TFEX workshop teaches you how to identify trend reversal points, use Bollinger Band Panic Sell, and catch market bottoms, with a focus on practical examples and real-world applications.\\n\\n**Additional Resources**\\n\\n- Investic Analytics Studio: Get access to the full suite of tools for 1 month to practice what you learn in the workshops.\\n- Cryptomind Research: Additional resources and research papers on Crypto Investing and market trends.\\n- PK’s Trading Diary: Follow the journey of a successful trader and learn from their experiences.\\n- New Genesis: Insights and analysis on Elliott Wave and market trends.\\n- M traders: Tips and strategies for trading Gold and other markets.', '55-2556\\n  - โดย คุณแชมป์ เจ้าของเพจ PK’s Trading Diary\\n- **Crypto - หาเหรียญ 10x แบบไม่ต้องพึ่งดวง**\\n  - เรียนรู้พื้นฐาน Crypto Investing ตั้งแต่ภาพรวมตลาด, วัฏจักร Bitcoin (Bitcoin Cycle)\\n  - เชี่ยวชาญการ \"คัดรายตัว\" ค้นหาเหรียญที่มีโอกาสเติบโต 10 เท่า (10X Coins) ด้วยวิธีการที่เป็นระบบ\\n  - วิเคราะห์ Sector และผู้นำเทรนด์ เข้าใจกลุ่มอุตสาหกรรมต่างๆ (Blockchain, DeFi, Infrastructure, Metaverse, RWA ฯลฯ) และรู้วิธีระบุเทรนด์ในอนาคต รวมถึง \"First Mover\" (ผู้นำเทรนด์) ที่จะได้รับประโยชน์\\n  - บริหารพอร์ตอย่างมั่นใจ เรียนรู้กลยุทธ์การบริหารพอร์ตโฟลิโอ (Portfolio Management), วิธีการจัดสรรเงินทุน, และกลยุทธ์บริหารความเสี่ยงสำหรับการเทรดที่คาดหวังผลตอบแทนสูง เช่น \"การจับกระแส Narrative\"\\n  - โดย คุณเหริน Analyst จาก Cryptomind Research\\n- **Elliott Wave 3X จับเวฟท�', 'ฟรีเครื่องมือ Investic Analytics Studio เต็มๆ 1 เดือน!\\nOnline Workshops\\nออกแบบมาเพื่อให้คุณได้ลงมือทำจริง พร้อมเทคนิคและสิทธิ์ได้เครื่องมือที่ใช้งานตลอด 1 เดือน เพื่อลุยเทรดในตลาดกันจริงๆ\\n\\n**Workshop Details**\\n\\n- **Online Workshops \"จับมือเทรดด้วย Quant Data\"**\\n  - เรียนรู้แบบเจาะลึกกับเหล่า Guru Quant พร้อมใช้ฟรีเครื่องมือ Investic Analytics Studio เต็มๆ 1 เดือน!\\n- **TFEX - Win rate 100% จับ Panic Sell ด้วย Bollinger Band Market Breadth**\\n  - เรียนรู้กลยุทธ์หาจุดกลับตัวของเทรนด์ (Trend Reversal Points) เพิ่มความแม่นยำในการจับจังหวะตลาด\\n  - เข้าใจการใช้เครื่องมือ Bollinger Band Panic Sell ผู้สอนใช้เครื่องมือนี้จับจุดต่ำสุดของตลาด (Catch Bottom) ได้อย่างชัดเจนในปี 2016\\n  - จับสัญญาณซื้อขาย จากตัวอย่างการใช้โมเดลในช่วงเหตุการณ์สำคัญ เช่น วิกฤตน้ำท่วมปี 2554 และช่วงตลาดกระทิงปี 25'], retrieval_context=None, additional_metadata={'evolutions': ['Comparative'], 'synthetic_input_quality': 0.7}, comments=None, tools_called=None, expected_tools=None, source_file='data/raw/workshop.txt', name=None, custom_column_key_values=None),\n",
       " Golden(input='How does TFEX workshop’s Bollinger Band Market Breadth ensure a 100% win rate in trend reversal identification?', actual_output=None, expected_output='The TFEX workshop emphasizes achieving a 100% win rate in trend reversal identification by utilizing the Bollinger Band Market Breadth. This involves learning how to precisely catch trend reversal points and market bottoms, supported by practical examples and real-world applications, enhancing the accuracy of catching critical trading opportunities.', context=['พจ M traders\\n\\n**ถาม-ตอบเกี่ยวกับเวิร์กช็อป**\\n\\n**ถาม:** Investic Analytics Studio เสนออะไร?\\n   - **ตอบ:** เสนอการเข้าถึงเวิร์กช็อปและข้อมูลเชิงเทคนิคฟรีเป็นเวลาหนึ่งเดือน\\n\\n**ถาม:** จุดเด่นของเวิร์กช็อป TFEX คืออะไร?\\n   - **ตอบ:** เน้นการบรรลุอัตราการชนะ 100% โดยใช้ Bollinger Band Market Breadth\\n\\n**ถาม:** หัวข้อหลักในเวิร์กช็อป Crypto คืออะไร?\\n   - **ตอบ:** ครอบคลุมการลงทุนใน Crypto, วัฏจักรของ Bitcoin และการวิเคราะห์ภาคส่วน\\n\\n**ถาม:** What is the focus of the Elliott Wave 3X workshop?\\nA: The focus is on Wave 3 Extension (3X) to learn how to identify and trade in the most powerful wave for maximum profit in a short time.\\n\\nQ: What will I learn from the Crypto workshop?\\nA: You will learn the basics of Crypto Investing, how to select coins with 10x growth potential, analyze sectors and trends, and manage your portfolio with confidence.\\n\\nQ: How does the TFEX workshop help me?\\nA: The TFEX workshop teaches you how to identify trend reversal points, use Bollinger Band Panic Sell, and catch market bottoms, with a focus on practical examples and real-world applications.\\n\\n**Additional Resources**\\n\\n- Investic Analytics Studio: Get access to the full suite of tools for 1 month to practice what you learn in the workshops.\\n- Cryptomind Research: Additional resources and research papers on Crypto Investing and market trends.\\n- PK’s Trading Diary: Follow the journey of a successful trader and learn from their experiences.\\n- New Genesis: Insights and analysis on Elliott Wave and market trends.\\n- M traders: Tips and strategies for trading Gold and other markets.', '55-2556\\n  - โดย คุณแชมป์ เจ้าของเพจ PK’s Trading Diary\\n- **Crypto - หาเหรียญ 10x แบบไม่ต้องพึ่งดวง**\\n  - เรียนรู้พื้นฐาน Crypto Investing ตั้งแต่ภาพรวมตลาด, วัฏจักร Bitcoin (Bitcoin Cycle)\\n  - เชี่ยวชาญการ \"คัดรายตัว\" ค้นหาเหรียญที่มีโอกาสเติบโต 10 เท่า (10X Coins) ด้วยวิธีการที่เป็นระบบ\\n  - วิเคราะห์ Sector และผู้นำเทรนด์ เข้าใจกลุ่มอุตสาหกรรมต่างๆ (Blockchain, DeFi, Infrastructure, Metaverse, RWA ฯลฯ) และรู้วิธีระบุเทรนด์ในอนาคต รวมถึง \"First Mover\" (ผู้นำเทรนด์) ที่จะได้รับประโยชน์\\n  - บริหารพอร์ตอย่างมั่นใจ เรียนรู้กลยุทธ์การบริหารพอร์ตโฟลิโอ (Portfolio Management), วิธีการจัดสรรเงินทุน, และกลยุทธ์บริหารความเสี่ยงสำหรับการเทรดที่คาดหวังผลตอบแทนสูง เช่น \"การจับกระแส Narrative\"\\n  - โดย คุณเหริน Analyst จาก Cryptomind Research\\n- **Elliott Wave 3X จับเวฟท�', 'ฟรีเครื่องมือ Investic Analytics Studio เต็มๆ 1 เดือน!\\nOnline Workshops\\nออกแบบมาเพื่อให้คุณได้ลงมือทำจริง พร้อมเทคนิคและสิทธิ์ได้เครื่องมือที่ใช้งานตลอด 1 เดือน เพื่อลุยเทรดในตลาดกันจริงๆ\\n\\n**Workshop Details**\\n\\n- **Online Workshops \"จับมือเทรดด้วย Quant Data\"**\\n  - เรียนรู้แบบเจาะลึกกับเหล่า Guru Quant พร้อมใช้ฟรีเครื่องมือ Investic Analytics Studio เต็มๆ 1 เดือน!\\n- **TFEX - Win rate 100% จับ Panic Sell ด้วย Bollinger Band Market Breadth**\\n  - เรียนรู้กลยุทธ์หาจุดกลับตัวของเทรนด์ (Trend Reversal Points) เพิ่มความแม่นยำในการจับจังหวะตลาด\\n  - เข้าใจการใช้เครื่องมือ Bollinger Band Panic Sell ผู้สอนใช้เครื่องมือนี้จับจุดต่ำสุดของตลาด (Catch Bottom) ได้อย่างชัดเจนในปี 2016\\n  - จับสัญญาณซื้อขาย จากตัวอย่างการใช้โมเดลในช่วงเหตุการณ์สำคัญ เช่น วิกฤตน้ำท่วมปี 2554 และช่วงตลาดกระทิงปี 25'], retrieval_context=None, additional_metadata={'evolutions': ['Constrained'], 'synthetic_input_quality': 0.7}, comments=None, tools_called=None, expected_tools=None, source_file='data/raw/workshop.txt', name=None, custom_column_key_values=None),\n",
       " Golden(input='How does one master crypto investing basics and 10x coin selection through sector analysis?', actual_output=None, expected_output='To master crypto investing basics and 10x coin selection, you need to start by understanding the overall market and Bitcoin cycles. Develop expertise in \"coin selection\" by employing a systematic approach to identify coins with potential for 10x growth. Analyze different sectors, such as Blockchain, DeFi, Infrastructure, and Metaverse, to understand industry trends and identify \"First Movers\" that can benefit from these trends. Additionally, learn portfolio management strategies and risk management techniques to navigate investments with high expected returns.', context=['55-2556\\n  - โดย คุณแชมป์ เจ้าของเพจ PK’s Trading Diary\\n- **Crypto - หาเหรียญ 10x แบบไม่ต้องพึ่งดวง**\\n  - เรียนรู้พื้นฐาน Crypto Investing ตั้งแต่ภาพรวมตลาด, วัฏจักร Bitcoin (Bitcoin Cycle)\\n  - เชี่ยวชาญการ \"คัดรายตัว\" ค้นหาเหรียญที่มีโอกาสเติบโต 10 เท่า (10X Coins) ด้วยวิธีการที่เป็นระบบ\\n  - วิเคราะห์ Sector และผู้นำเทรนด์ เข้าใจกลุ่มอุตสาหกรรมต่างๆ (Blockchain, DeFi, Infrastructure, Metaverse, RWA ฯลฯ) และรู้วิธีระบุเทรนด์ในอนาคต รวมถึง \"First Mover\" (ผู้นำเทรนด์) ที่จะได้รับประโยชน์\\n  - บริหารพอร์ตอย่างมั่นใจ เรียนรู้กลยุทธ์การบริหารพอร์ตโฟลิโอ (Portfolio Management), วิธีการจัดสรรเงินทุน, และกลยุทธ์บริหารความเสี่ยงสำหรับการเทรดที่คาดหวังผลตอบแทนสูง เช่น \"การจับกระแส Narrative\"\\n  - โดย คุณเหริน Analyst จาก Cryptomind Research\\n- **Elliott Wave 3X จับเวฟท�', 'พจ M traders\\n\\n**ถาม-ตอบเกี่ยวกับเวิร์กช็อป**\\n\\n**ถาม:** Investic Analytics Studio เสนออะไร?\\n   - **ตอบ:** เสนอการเข้าถึงเวิร์กช็อปและข้อมูลเชิงเทคนิคฟรีเป็นเวลาหนึ่งเดือน\\n\\n**ถาม:** จุดเด่นของเวิร์กช็อป TFEX คืออะไร?\\n   - **ตอบ:** เน้นการบรรลุอัตราการชนะ 100% โดยใช้ Bollinger Band Market Breadth\\n\\n**ถาม:** หัวข้อหลักในเวิร์กช็อป Crypto คืออะไร?\\n   - **ตอบ:** ครอบคลุมการลงทุนใน Crypto, วัฏจักรของ Bitcoin และการวิเคราะห์ภาคส่วน\\n\\n**ถาม:** What is the focus of the Elliott Wave 3X workshop?\\nA: The focus is on Wave 3 Extension (3X) to learn how to identify and trade in the most powerful wave for maximum profit in a short time.\\n\\nQ: What will I learn from the Crypto workshop?\\nA: You will learn the basics of Crypto Investing, how to select coins with 10x growth potential, analyze sectors and trends, and manage your portfolio with confidence.\\n\\nQ: How does the TFEX workshop help me?\\nA: The TFEX workshop teaches you how to identify trend reversal points, use Bollinger Band Panic Sell, and catch market bottoms, with a focus on practical examples and real-world applications.\\n\\n**Additional Resources**\\n\\n- Investic Analytics Studio: Get access to the full suite of tools for 1 month to practice what you learn in the workshops.\\n- Cryptomind Research: Additional resources and research papers on Crypto Investing and market trends.\\n- PK’s Trading Diary: Follow the journey of a successful trader and learn from their experiences.\\n- New Genesis: Insights and analysis on Elliott Wave and market trends.\\n- M traders: Tips and strategies for trading Gold and other markets.', '�่ทรงพลังที่สุด**\\n  - โฟกัสที่ Wave 3 Extension (3X) เรียนรู้การระบุและเทรดใน \"คลื่นที่วิ่งแรงที่สุด\" เพื่อเป้าหมายการทำกำไรสูงสุดในเวลาอันสั้น\\n  - เข้าใจโครงสร้างตลาดสำหรับ Wave 3X รวมถึงการทำความเข้าใจวงจรคลื่นซ้อน (Nested Cycles) ทั้ง Higher Degree Cycle และ Lower Degree Cycle\\n  - ใช้ Fibonacci Retracement อย่างมือโปร เพื่อช่วยหาจุดสิ้นสุดที่เป็นไปได้ของ Wave 2 ซึ่งเป็นจุดเข้าสำคัญสำหรับ Wave 3\\n  - กลยุทธ์เข้าเทรดและ Stop Loss ที่ใช้ได้จริง พร้อมตัวอย่างอัตราส่วน Risk/Reward ที่หลากหลาย (เช่น 1:3 ถึง 1:14) จากโครงสร้างคลื่นและระดับ Fibonacci\\n  - เข้าใจ Trade-offs ของ Stop Loss:** ระหว่างการตั้ง Stop Loss แคบ (โอกาส Reward สูง แต่ Win Rate อาจต่ำกว่า) และกว้าง (โอกาส Reward ต่ำกว่า แต่ Win Rate อาจสูงกว่า)\\n  - โดย คุณคิด เจ้าของเพจ New Genesis\\n- **Gold - รู้'], retrieval_context=None, additional_metadata={'evolutions': ['Reasoning'], 'synthetic_input_quality': 0.9}, comments=None, tools_called=None, expected_tools=None, source_file='data/raw/workshop.txt', name=None, custom_column_key_values=None),\n",
       " Golden(input='How do Crypto workshops compare with Elliott Wave 3X workshops in strategies and techniques taught?', actual_output=None, expected_output='Crypto workshops focus on teaching the fundamentals of crypto investing, selecting coins with 10x growth potential, sector analysis, trend identification, and confident portfolio management. In contrast, Elliott Wave 3X workshops concentrate on advanced techniques for identifying and trading Wave 3 Extensions, utilizing Fibonacci Retracement for strategic entry points, and managing trade-offs between Stop Loss settings with strategies targeting significant profit in a short time. Each workshop offers distinct strategies aligned with their respective focus areas, providing traders with specialized tools for different market environments.', context=['55-2556\\n  - โดย คุณแชมป์ เจ้าของเพจ PK’s Trading Diary\\n- **Crypto - หาเหรียญ 10x แบบไม่ต้องพึ่งดวง**\\n  - เรียนรู้พื้นฐาน Crypto Investing ตั้งแต่ภาพรวมตลาด, วัฏจักร Bitcoin (Bitcoin Cycle)\\n  - เชี่ยวชาญการ \"คัดรายตัว\" ค้นหาเหรียญที่มีโอกาสเติบโต 10 เท่า (10X Coins) ด้วยวิธีการที่เป็นระบบ\\n  - วิเคราะห์ Sector และผู้นำเทรนด์ เข้าใจกลุ่มอุตสาหกรรมต่างๆ (Blockchain, DeFi, Infrastructure, Metaverse, RWA ฯลฯ) และรู้วิธีระบุเทรนด์ในอนาคต รวมถึง \"First Mover\" (ผู้นำเทรนด์) ที่จะได้รับประโยชน์\\n  - บริหารพอร์ตอย่างมั่นใจ เรียนรู้กลยุทธ์การบริหารพอร์ตโฟลิโอ (Portfolio Management), วิธีการจัดสรรเงินทุน, และกลยุทธ์บริหารความเสี่ยงสำหรับการเทรดที่คาดหวังผลตอบแทนสูง เช่น \"การจับกระแส Narrative\"\\n  - โดย คุณเหริน Analyst จาก Cryptomind Research\\n- **Elliott Wave 3X จับเวฟท�', 'พจ M traders\\n\\n**ถาม-ตอบเกี่ยวกับเวิร์กช็อป**\\n\\n**ถาม:** Investic Analytics Studio เสนออะไร?\\n   - **ตอบ:** เสนอการเข้าถึงเวิร์กช็อปและข้อมูลเชิงเทคนิคฟรีเป็นเวลาหนึ่งเดือน\\n\\n**ถาม:** จุดเด่นของเวิร์กช็อป TFEX คืออะไร?\\n   - **ตอบ:** เน้นการบรรลุอัตราการชนะ 100% โดยใช้ Bollinger Band Market Breadth\\n\\n**ถาม:** หัวข้อหลักในเวิร์กช็อป Crypto คืออะไร?\\n   - **ตอบ:** ครอบคลุมการลงทุนใน Crypto, วัฏจักรของ Bitcoin และการวิเคราะห์ภาคส่วน\\n\\n**ถาม:** What is the focus of the Elliott Wave 3X workshop?\\nA: The focus is on Wave 3 Extension (3X) to learn how to identify and trade in the most powerful wave for maximum profit in a short time.\\n\\nQ: What will I learn from the Crypto workshop?\\nA: You will learn the basics of Crypto Investing, how to select coins with 10x growth potential, analyze sectors and trends, and manage your portfolio with confidence.\\n\\nQ: How does the TFEX workshop help me?\\nA: The TFEX workshop teaches you how to identify trend reversal points, use Bollinger Band Panic Sell, and catch market bottoms, with a focus on practical examples and real-world applications.\\n\\n**Additional Resources**\\n\\n- Investic Analytics Studio: Get access to the full suite of tools for 1 month to practice what you learn in the workshops.\\n- Cryptomind Research: Additional resources and research papers on Crypto Investing and market trends.\\n- PK’s Trading Diary: Follow the journey of a successful trader and learn from their experiences.\\n- New Genesis: Insights and analysis on Elliott Wave and market trends.\\n- M traders: Tips and strategies for trading Gold and other markets.', '�่ทรงพลังที่สุด**\\n  - โฟกัสที่ Wave 3 Extension (3X) เรียนรู้การระบุและเทรดใน \"คลื่นที่วิ่งแรงที่สุด\" เพื่อเป้าหมายการทำกำไรสูงสุดในเวลาอันสั้น\\n  - เข้าใจโครงสร้างตลาดสำหรับ Wave 3X รวมถึงการทำความเข้าใจวงจรคลื่นซ้อน (Nested Cycles) ทั้ง Higher Degree Cycle และ Lower Degree Cycle\\n  - ใช้ Fibonacci Retracement อย่างมือโปร เพื่อช่วยหาจุดสิ้นสุดที่เป็นไปได้ของ Wave 2 ซึ่งเป็นจุดเข้าสำคัญสำหรับ Wave 3\\n  - กลยุทธ์เข้าเทรดและ Stop Loss ที่ใช้ได้จริง พร้อมตัวอย่างอัตราส่วน Risk/Reward ที่หลากหลาย (เช่น 1:3 ถึง 1:14) จากโครงสร้างคลื่นและระดับ Fibonacci\\n  - เข้าใจ Trade-offs ของ Stop Loss:** ระหว่างการตั้ง Stop Loss แคบ (โอกาส Reward สูง แต่ Win Rate อาจต่ำกว่า) และกว้าง (โอกาส Reward ต่ำกว่า แต่ Win Rate อาจสูงกว่า)\\n  - โดย คุณคิด เจ้าของเพจ New Genesis\\n- **Gold - รู้'], retrieval_context=None, additional_metadata={'evolutions': ['Comparative'], 'synthetic_input_quality': 0.7}, comments=None, tools_called=None, expected_tools=None, source_file='data/raw/workshop.txt', name=None, custom_column_key_values=None),\n",
       " Golden(input='Analyze the evolving influence of large financial entities on altcoin market segmentation.', actual_output=None, expected_output='Large financial entities, such as governments and major financial institutions, are playing a more pronounced role in the current crypto cycle compared to previous cycles that were more retail-driven. This shift in influence impacts altcoin market segmentation as these entities can drive attention and resources towards specific sectors or projects. The evolving role of these institutions means that certain altcoin sectors might experience growth due to institutional interest and investment, whereas others may not gain as much traction. Thus, the influence of large financial entities can result in more segmented growth within the altcoin market, with certain areas experiencing heightened activity while others remain less active.', context=['iment Data เพื่อระบุเหรียญที่มี Sentiment Bullish/Bearish\\n- วิเคราะห์ตลาดตามสถานะกำไร/ขาดทุนของผู้ลงทุน\\n- บทบาทของสถาบันการเงิน (รัฐบาล, สถาบันใหญ่) ใน Cycle ปัจจุบัน ซึ่งต่างจาก Cycle ก่อนๆ ที่เป็น Retail\\n- Altcoin อาจวิ่งแค่บาง Sector ใน Cycle นี้\\n- โอกาสในโลก Crypto นอกเหนือจากการเทรด (Mining, การพัฒนา Project และ Airdrop Hunting)\\n- Mindset สำหรับนักลงทุน Crypto มือใหม่\\n- มูลค่าเหรียญ Crypto ที่อาจ driven ด้วย Attention มากกว่าปัจจัยพื้นฐานแบบดั้งเดิม\\n- ดู Onchain Data เพื่อวิเคราะห์ ต้นทุนเฉลี่ย (Realized Price) ของนักลงทุน\\n- โซนการสะสม (Accumulation) ที่มีการซื้อหนาแน่น\\n- แนะนำคนที่ไม่ได้จบตรงสายที่กำลังสนใจต้องการทำงานในสาย Quant\\n- Use case การใช้ AI และ Generative AI ในกระบวนการขายและการให้บริการลูกค้า เช่น การพัฒนา Chatbot หรือนำข้อมูลลูก', '์ใช้เครื่องมือดู Quant Tool ของ Investic Analytics Studio เป็นระยะเวลา 1 เดือน\\n\\n**Rerun Quant Offside 3x มีเนื้อหาอะไรบ้าง**\\n\\n- การใช้ Market Breadth ในการ Filter ตลาด\\n- ตรวจดูพฤติกรรมหุ้นที่แข็งกว่าตลาด\\n- สถิติตลาดหุ้นในอดีตมีลักษณะรูปแบบไหน\\n- Use case การพัฒนาระบบเทรดในตลาดไทย\\n- การประเมินมูลค่าหุ้นด้วย Fundamental Analysis\\n- การนำ AI มาช่วยทำให้ Fundamental Analysis ให้ง่ายขึ้น\\n- รายใหญ่ และ Open Interest (OI) เกี่ยวข้องกันยังไง\\n- ดู COT Data (Commitment of Traders) เพื่อติดตามพฤติกรรมของ รายใหญ่ในตลาด Future และ Option\\n- สังเกตว่าสัญญา Option OI จะโดดเมื่อรายใหญ่เข้าซื้อ\\n- ประเภทของรายใหญ่มีใครบ้าง (Commercials, Hedge Funds, Dealers)\\n- Option OI/IV เพื่อบอกจังหวะและระดับราคาในตลาด\\n- ใช้ Correlation ในการหาโอกาสการลงทุน\\n- ความสำคัญของ Data ในโลก Crypto\\n- ข้อมูลที่หลากหลายใน Crypto เช่น Onchain, Derivative, Market Data\\n- Sent', 'ค้าวิเคราะห์เพื่อเสนอผลิตภัณฑ์ลงทุน\\n- เรียนรู้แนวคิดและประเภทของ Multi Portfolio Strategy สำหรับการบริหารพอร์ต Quant\\n- การสร้างและจำลองโมเดล\\n- การออกแบบระบบ Back Testing\\n- เจาะลึก Order Flow Analysis\\n- ดูการกระจายคำสั่งซื้อ/ขายแบบ Real Time วิเคราะห์ Order Distribution และ Order Book Imbalance\\n- คาดการณ์ทิศทางตลาด (ขึ้นหรือลง) โดยไม่ต้องดูกราฟราคา และการใช้ประโยชน์จากข้อมูลนี้ในตลาด Crypto\\n- แนวคิดการจัดพอร์ต All Weather Portfolio ที่เน้น Asset Correlation เพื่อผ่านทุกสภาวะตลาด/เศรษฐกิจ การปรับพอร์ตตามการเปลี่ยนแปลง Correlation\\n- การใช้ AI/Machine Learning ในการวิเคราะห์และสร้างโมเดลพอร์ต\\n- ทำไมต้อง Rebalancing\\n- การลดความเสี่ยงของพอร์ต\\n- ประเภทของการ Rebalancing มีอะไรบ้าง\\n- Market Neutral Strategy ที่ไม่เน้นการทำกำไรจากทิศทางตลาด\\n- แนวคิดและการคำนว'], retrieval_context=None, additional_metadata={'evolutions': ['In-Breadth'], 'synthetic_input_quality': 0.7}, comments=None, tools_called=None, expected_tools=None, source_file='data/raw/overall.txt', name=None, custom_column_key_values=None),\n",
       " Golden(input='Examine how speculative fervor can influence crypto valuation surpassing fundamental drivers.', actual_output=None, expected_output='Speculative fervor in the crypto market can lead to valuations that exceed traditional fundamental drivers by significantly impacting investor behavior and market dynamics. Enthusiasm and hype can drive demand and price increases, often fueled by media coverage, social media trends, and psychological factors. This heightened attention can attract more investors, leading to rapid price gains, sometimes disconnected from the asset’s underlying value. Consequently, crypto valuations are often driven more by market sentiment and speculative behavior rather than fundamentals, making them highly volatile.', context=['iment Data เพื่อระบุเหรียญที่มี Sentiment Bullish/Bearish\\n- วิเคราะห์ตลาดตามสถานะกำไร/ขาดทุนของผู้ลงทุน\\n- บทบาทของสถาบันการเงิน (รัฐบาล, สถาบันใหญ่) ใน Cycle ปัจจุบัน ซึ่งต่างจาก Cycle ก่อนๆ ที่เป็น Retail\\n- Altcoin อาจวิ่งแค่บาง Sector ใน Cycle นี้\\n- โอกาสในโลก Crypto นอกเหนือจากการเทรด (Mining, การพัฒนา Project และ Airdrop Hunting)\\n- Mindset สำหรับนักลงทุน Crypto มือใหม่\\n- มูลค่าเหรียญ Crypto ที่อาจ driven ด้วย Attention มากกว่าปัจจัยพื้นฐานแบบดั้งเดิม\\n- ดู Onchain Data เพื่อวิเคราะห์ ต้นทุนเฉลี่ย (Realized Price) ของนักลงทุน\\n- โซนการสะสม (Accumulation) ที่มีการซื้อหนาแน่น\\n- แนะนำคนที่ไม่ได้จบตรงสายที่กำลังสนใจต้องการทำงานในสาย Quant\\n- Use case การใช้ AI และ Generative AI ในกระบวนการขายและการให้บริการลูกค้า เช่น การพัฒนา Chatbot หรือนำข้อมูลลูก', '์ใช้เครื่องมือดู Quant Tool ของ Investic Analytics Studio เป็นระยะเวลา 1 เดือน\\n\\n**Rerun Quant Offside 3x มีเนื้อหาอะไรบ้าง**\\n\\n- การใช้ Market Breadth ในการ Filter ตลาด\\n- ตรวจดูพฤติกรรมหุ้นที่แข็งกว่าตลาด\\n- สถิติตลาดหุ้นในอดีตมีลักษณะรูปแบบไหน\\n- Use case การพัฒนาระบบเทรดในตลาดไทย\\n- การประเมินมูลค่าหุ้นด้วย Fundamental Analysis\\n- การนำ AI มาช่วยทำให้ Fundamental Analysis ให้ง่ายขึ้น\\n- รายใหญ่ และ Open Interest (OI) เกี่ยวข้องกันยังไง\\n- ดู COT Data (Commitment of Traders) เพื่อติดตามพฤติกรรมของ รายใหญ่ในตลาด Future และ Option\\n- สังเกตว่าสัญญา Option OI จะโดดเมื่อรายใหญ่เข้าซื้อ\\n- ประเภทของรายใหญ่มีใครบ้าง (Commercials, Hedge Funds, Dealers)\\n- Option OI/IV เพื่อบอกจังหวะและระดับราคาในตลาด\\n- ใช้ Correlation ในการหาโอกาสการลงทุน\\n- ความสำคัญของ Data ในโลก Crypto\\n- ข้อมูลที่หลากหลายใน Crypto เช่น Onchain, Derivative, Market Data\\n- Sent', 'ค้าวิเคราะห์เพื่อเสนอผลิตภัณฑ์ลงทุน\\n- เรียนรู้แนวคิดและประเภทของ Multi Portfolio Strategy สำหรับการบริหารพอร์ต Quant\\n- การสร้างและจำลองโมเดล\\n- การออกแบบระบบ Back Testing\\n- เจาะลึก Order Flow Analysis\\n- ดูการกระจายคำสั่งซื้อ/ขายแบบ Real Time วิเคราะห์ Order Distribution และ Order Book Imbalance\\n- คาดการณ์ทิศทางตลาด (ขึ้นหรือลง) โดยไม่ต้องดูกราฟราคา และการใช้ประโยชน์จากข้อมูลนี้ในตลาด Crypto\\n- แนวคิดการจัดพอร์ต All Weather Portfolio ที่เน้น Asset Correlation เพื่อผ่านทุกสภาวะตลาด/เศรษฐกิจ การปรับพอร์ตตามการเปลี่ยนแปลง Correlation\\n- การใช้ AI/Machine Learning ในการวิเคราะห์และสร้างโมเดลพอร์ต\\n- ทำไมต้อง Rebalancing\\n- การลดความเสี่ยงของพอร์ต\\n- ประเภทของการ Rebalancing มีอะไรบ้าง\\n- Market Neutral Strategy ที่ไม่เน้นการทำกำไรจากทิศทางตลาด\\n- แนวคิดและการคำนว'], retrieval_context=None, additional_metadata={'evolutions': ['In-Breadth'], 'synthetic_input_quality': 0.6}, comments=None, tools_called=None, expected_tools=None, source_file='data/raw/overall.txt', name=None, custom_column_key_values=None),\n",
       " Golden(input=\"Explain the strategic significance of Quant Offside 3X's emphasis on AI-led data-driven trading.\", actual_output=None, expected_output=\"The strategic significance of Quant Offside 3X's emphasis on AI-led data-driven trading lies in its ability to enhance investment decision-making processes. By focusing on data-driven strategies and utilizing AI, traders can identify patterns and insights more efficiently, leading to more informed trading decisions. This approach allows investors to adapt to market changes quickly and leverage advanced analytics for gaining competitive advantages in trading and investment. Ultimately, it supports a more structured and strategic approach to trading that prioritizes data analysis and AI capabilities.\", context=['�ุณเห็นภาพมากขึ้น และเอาไปประยุกต์ใช้กับระบบ Trade หรือ Robot Trade ของคุณ\\n- อยากทำงานด้าน Quant Trade การลงทุน\\n- แต่ผมไม่ได้เรียนมาสายตรงทำได้ไหม?\\n- บอกเลยครับว่าทำได้ เพราะ speaker แต่ละท่านนี่แทบจะไม่ได้เรียนมาโดยตรงด้านนี้เลยครับ แต่ได้มาทำในส่วนของ กลยุทธ การบริหารกองทุน งาน Quant สายธนาคาร แต่หลายๆ ท่านมีจุดเชื่อมโยงอยู่คือ เริ่มจากการลงทุน หรือ Trade แล้วก็ค่อยๆ ต่อยอดมางานสายนี้ และจะเริ่มต้น เตรียมตัวทำงานสายนี้อย่างไร เรียนเชิญในคอร์สเลยครับ\\n\\n**ถาม:** จุดเด่นหลักของ Quant Offside 3X คืออะไร?\\n   - **ตอบ:** มุ่งเน้นการเทรดที่ขับเคลื่อนด้วยข้อมูลและการลงทุนด้วย AI\\n\\n**ถาม:** ทำไมการ rerun ของ Quant Offside 3X ถึงสำคั', '**Introduction to Quant Offside 3X**\\n\\nสัมมนา Quant Trading ที่ใหญ่ที่สุดของปี พร้อมพลิกโลกการลงทุนของคุณให้เหนือชั้นกว่าเดิมด้วย Data-Driven Trading และ AI Investing!\\n\\n**Quant Offside 3X rerun เหมาะกับใคร?**\\n\\n- ผมยังไม่รู้จะไปทางไหน?\\n- คอร์สนี้จะทำให้คุณเห็นภาพกว้างมากขึ้น\\n- คุณจะได้เห็นว่าเหล่า Trader ที่ทำกำไร หรือ CEO , CFO ที่เค้าทำงานด้านการลงทุน Hedge Fund เค้ามีมุมมอง มีจุดเริ่มต้นอย่างไร จนมาถึงวันที่เค้าทำกำไรได้ และเริ่มอยู่ตัวในโลก Quant เพื่อการลงทุน\\n- อยากทำระบบเทรด Robot Trade แต่ไม่มี Idea\\n- คุณจะได้ Idea มากมายที่ Speaker แต่ละท่านใช้\\n- และ speaker แต่ละคนไม่ว่าจะเป็นสายเทรดมือ ทำระบบ Trade เป็น ผู้จัดการกองทุน เหล่า CEO, CFO บอกเลยว่าไม่ธรรมดาครับ และพวกเราคุยกันด้วย Data , Quant, Math แน่นอนจะทำให้�', '์ใช้เครื่องมือดู Quant Tool ของ Investic Analytics Studio เป็นระยะเวลา 1 เดือน\\n\\n**Rerun Quant Offside 3x มีเนื้อหาอะไรบ้าง**\\n\\n- การใช้ Market Breadth ในการ Filter ตลาด\\n- ตรวจดูพฤติกรรมหุ้นที่แข็งกว่าตลาด\\n- สถิติตลาดหุ้นในอดีตมีลักษณะรูปแบบไหน\\n- Use case การพัฒนาระบบเทรดในตลาดไทย\\n- การประเมินมูลค่าหุ้นด้วย Fundamental Analysis\\n- การนำ AI มาช่วยทำให้ Fundamental Analysis ให้ง่ายขึ้น\\n- รายใหญ่ และ Open Interest (OI) เกี่ยวข้องกันยังไง\\n- ดู COT Data (Commitment of Traders) เพื่อติดตามพฤติกรรมของ รายใหญ่ในตลาด Future และ Option\\n- สังเกตว่าสัญญา Option OI จะโดดเมื่อรายใหญ่เข้าซื้อ\\n- ประเภทของรายใหญ่มีใครบ้าง (Commercials, Hedge Funds, Dealers)\\n- Option OI/IV เพื่อบอกจังหวะและระดับราคาในตลาด\\n- ใช้ Correlation ในการหาโอกาสการลงทุน\\n- ความสำคัญของ Data ในโลก Crypto\\n- ข้อมูลที่หลากหลายใน Crypto เช่น Onchain, Derivative, Market Data\\n- Sent'], retrieval_context=None, additional_metadata={'evolutions': ['Reasoning'], 'synthetic_input_quality': 0.7}, comments=None, tools_called=None, expected_tools=None, source_file='data/raw/overall.txt', name=None, custom_column_key_values=None),\n",
       " Golden(input='How does Quant Offside 3X utilize Data and AI to enhance trading and investment strategies?', actual_output=None, expected_output='Quant Offside 3X utilizes data and AI to enhance trading and investment strategies by focusing on data-driven trading and AI investing. The program covers topics such as using Market Breadth to filter markets, analyzing stock behavior, and applying AI to simplify Fundamental Analysis. Moreover, it includes the study of large players in markets, using COT Data, and examining Option Open Interest to identify market movements and opportunities. This comprehensive approach is designed to provide participants with a robust understanding of how to leverage data and AI in the world of trading and investments.', context=['�ุณเห็นภาพมากขึ้น และเอาไปประยุกต์ใช้กับระบบ Trade หรือ Robot Trade ของคุณ\\n- อยากทำงานด้าน Quant Trade การลงทุน\\n- แต่ผมไม่ได้เรียนมาสายตรงทำได้ไหม?\\n- บอกเลยครับว่าทำได้ เพราะ speaker แต่ละท่านนี่แทบจะไม่ได้เรียนมาโดยตรงด้านนี้เลยครับ แต่ได้มาทำในส่วนของ กลยุทธ การบริหารกองทุน งาน Quant สายธนาคาร แต่หลายๆ ท่านมีจุดเชื่อมโยงอยู่คือ เริ่มจากการลงทุน หรือ Trade แล้วก็ค่อยๆ ต่อยอดมางานสายนี้ และจะเริ่มต้น เตรียมตัวทำงานสายนี้อย่างไร เรียนเชิญในคอร์สเลยครับ\\n\\n**ถาม:** จุดเด่นหลักของ Quant Offside 3X คืออะไร?\\n   - **ตอบ:** มุ่งเน้นการเทรดที่ขับเคลื่อนด้วยข้อมูลและการลงทุนด้วย AI\\n\\n**ถาม:** ทำไมการ rerun ของ Quant Offside 3X ถึงสำคั', '**Introduction to Quant Offside 3X**\\n\\nสัมมนา Quant Trading ที่ใหญ่ที่สุดของปี พร้อมพลิกโลกการลงทุนของคุณให้เหนือชั้นกว่าเดิมด้วย Data-Driven Trading และ AI Investing!\\n\\n**Quant Offside 3X rerun เหมาะกับใคร?**\\n\\n- ผมยังไม่รู้จะไปทางไหน?\\n- คอร์สนี้จะทำให้คุณเห็นภาพกว้างมากขึ้น\\n- คุณจะได้เห็นว่าเหล่า Trader ที่ทำกำไร หรือ CEO , CFO ที่เค้าทำงานด้านการลงทุน Hedge Fund เค้ามีมุมมอง มีจุดเริ่มต้นอย่างไร จนมาถึงวันที่เค้าทำกำไรได้ และเริ่มอยู่ตัวในโลก Quant เพื่อการลงทุน\\n- อยากทำระบบเทรด Robot Trade แต่ไม่มี Idea\\n- คุณจะได้ Idea มากมายที่ Speaker แต่ละท่านใช้\\n- และ speaker แต่ละคนไม่ว่าจะเป็นสายเทรดมือ ทำระบบ Trade เป็น ผู้จัดการกองทุน เหล่า CEO, CFO บอกเลยว่าไม่ธรรมดาครับ และพวกเราคุยกันด้วย Data , Quant, Math แน่นอนจะทำให้�', '์ใช้เครื่องมือดู Quant Tool ของ Investic Analytics Studio เป็นระยะเวลา 1 เดือน\\n\\n**Rerun Quant Offside 3x มีเนื้อหาอะไรบ้าง**\\n\\n- การใช้ Market Breadth ในการ Filter ตลาด\\n- ตรวจดูพฤติกรรมหุ้นที่แข็งกว่าตลาด\\n- สถิติตลาดหุ้นในอดีตมีลักษณะรูปแบบไหน\\n- Use case การพัฒนาระบบเทรดในตลาดไทย\\n- การประเมินมูลค่าหุ้นด้วย Fundamental Analysis\\n- การนำ AI มาช่วยทำให้ Fundamental Analysis ให้ง่ายขึ้น\\n- รายใหญ่ และ Open Interest (OI) เกี่ยวข้องกันยังไง\\n- ดู COT Data (Commitment of Traders) เพื่อติดตามพฤติกรรมของ รายใหญ่ในตลาด Future และ Option\\n- สังเกตว่าสัญญา Option OI จะโดดเมื่อรายใหญ่เข้าซื้อ\\n- ประเภทของรายใหญ่มีใครบ้าง (Commercials, Hedge Funds, Dealers)\\n- Option OI/IV เพื่อบอกจังหวะและระดับราคาในตลาด\\n- ใช้ Correlation ในการหาโอกาสการลงทุน\\n- ความสำคัญของ Data ในโลก Crypto\\n- ข้อมูลที่หลากหลายใน Crypto เช่น Onchain, Derivative, Market Data\\n- Sent'], retrieval_context=None, additional_metadata={'evolutions': ['Multi-context'], 'synthetic_input_quality': 0.7}, comments=None, tools_called=None, expected_tools=None, source_file='data/raw/overall.txt', name=None, custom_column_key_values=None),\n",
       " Golden(input='What strategic insights do Quant Offside 3X provide for data-driven AI trading advancements?', actual_output=None, expected_output='Quant Offside 3X provides strategic insights into data-driven AI trading advancements by offering a comprehensive understanding of Quant and AI investing, showcasing successful approaches from traders and leading figures like CEOs and CFOs in Hedge Funds. The event emphasizes leveraging data, Quant methodologies, and mathematical strategies, equipping attendees with innovative ideas for both trading systems and Robo Trading.', context=['**Introduction to Quant Offside 3X**\\n\\nสัมมนา Quant Trading ที่ใหญ่ที่สุดของปี พร้อมพลิกโลกการลงทุนของคุณให้เหนือชั้นกว่าเดิมด้วย Data-Driven Trading และ AI Investing!\\n\\n**Quant Offside 3X rerun เหมาะกับใคร?**\\n\\n- ผมยังไม่รู้จะไปทางไหน?\\n- คอร์สนี้จะทำให้คุณเห็นภาพกว้างมากขึ้น\\n- คุณจะได้เห็นว่าเหล่า Trader ที่ทำกำไร หรือ CEO , CFO ที่เค้าทำงานด้านการลงทุน Hedge Fund เค้ามีมุมมอง มีจุดเริ่มต้นอย่างไร จนมาถึงวันที่เค้าทำกำไรได้ และเริ่มอยู่ตัวในโลก Quant เพื่อการลงทุน\\n- อยากทำระบบเทรด Robot Trade แต่ไม่มี Idea\\n- คุณจะได้ Idea มากมายที่ Speaker แต่ละท่านใช้\\n- และ speaker แต่ละคนไม่ว่าจะเป็นสายเทรดมือ ทำระบบ Trade เป็น ผู้จัดการกองทุน เหล่า CEO, CFO บอกเลยว่าไม่ธรรมดาครับ และพวกเราคุยกันด้วย Data , Quant, Math แน่นอนจะทำให้�', '�ุณเห็นภาพมากขึ้น และเอาไปประยุกต์ใช้กับระบบ Trade หรือ Robot Trade ของคุณ\\n- อยากทำงานด้าน Quant Trade การลงทุน\\n- แต่ผมไม่ได้เรียนมาสายตรงทำได้ไหม?\\n- บอกเลยครับว่าทำได้ เพราะ speaker แต่ละท่านนี่แทบจะไม่ได้เรียนมาโดยตรงด้านนี้เลยครับ แต่ได้มาทำในส่วนของ กลยุทธ การบริหารกองทุน งาน Quant สายธนาคาร แต่หลายๆ ท่านมีจุดเชื่อมโยงอยู่คือ เริ่มจากการลงทุน หรือ Trade แล้วก็ค่อยๆ ต่อยอดมางานสายนี้ และจะเริ่มต้น เตรียมตัวทำงานสายนี้อย่างไร เรียนเชิญในคอร์สเลยครับ\\n\\n**ถาม:** จุดเด่นหลักของ Quant Offside 3X คืออะไร?\\n   - **ตอบ:** มุ่งเน้นการเทรดที่ขับเคลื่อนด้วยข้อมูลและการลงทุนด้วย AI\\n\\n**ถาม:** ทำไมการ rerun ของ Quant Offside 3X ถึงสำคั', 'ญ?\\n   - **ตอบ:** ช่วยให้เทรดเดอร์อย่าง CEO และ CFO เข้าใจพลวัตของ Hedge Funds และ Quant Trading\\n\\n**ถาม:** วัตถุประสงค์ของเวิร์กช็อปที่กล่าวถึงคืออะไร?\\n   - **ตอบ:** เพื่อให้ข้อมูลเชิงลึกเกี่ยวกับข้อมูล Quant และกลยุทธ์การเทรด\\n\\n**Q&A Section**\\n\\nQ: ผมยังไม่รู้จะไปทางไหน?\\nA: คอร์สนี้จะทำให้คุณเห็นภาพกว้างมากขึ้น\\n\\nQ: อยากทำระบบเทรด Robot Trade แต่ไม่มี Idea\\nA: คุณจะได้ Idea มากมายที่ Speaker แต่ละท่านใช้\\n\\nQ: อยากทำงานด้าน Quant Trade การลงทุน\\nA: บอกเลยครับว่าทำได้ เพราะ speaker แต่ละท่านนี่แทบจะไม่ได้เรียนมาโดยตรงด้านนี้เลยครับ\\n\\n**Workshops Overview**\\n\\n- Online Workshops \"จับมือเทรดด้วย Quant Data\"\\n- สิ่งที่คุณจะได้รับเพียงซื้อ 1 Workshop ขึ้นไป ในราคา 3,599 บาท\\n  - RERUN ทุก Session ทั้ง Stage 1 & 2 (รวม 11 ชั่วโมง)\\n  - RERUN Crypto Quant Trading (รวม 7 ชั่วโมง)\\n  - สิทธิ'], retrieval_context=None, additional_metadata={'evolutions': ['Multi-context'], 'synthetic_input_quality': 0.8}, comments=None, tools_called=None, expected_tools=None, source_file='data/raw/overall.txt', name=None, custom_column_key_values=None),\n",
       " Golden(input='Compare the features, benefits, and speaker insights of Quant Offside 3X and its rerun.', actual_output=None, expected_output=\"Quant Offside 3X and its rerun center around data-driven trading and AI investing, guided by experienced speakers. The course is designed for individuals at different stages in their trading journey, from those uncertain about their direction to those aspiring to develop Robot Trade systems but lacking ideas. Key features include:\\n\\n1. **Features:**\\n   - Comprehensive overview of Quant Trading and AI Investing.\\n   - Expertise provided by speakers, including traders, fund managers, CEOs, and CFOs.\\n   - Discussions are data, quant, and math-focused to enhance understanding and application in trading systems.\\n\\n2. **Benefits:**\\n   - Expands participants' understanding of trading dynamics, especially for roles like CEO and CFO in hedge funds and Quant Trading.\\n   - Provides insights into how successful traders started and successfully navigated the Quant investment world.\\n   - Offers a broad range of ideas and strategies applicable to creating and improving trading systems.\\n\\n3. **Speaker Insights:**\\n   - Speakers include seasoned professionals not formally trained in the Quant field but have successfully developed careers through self-learning and strategic growth in trading and investing.\\n   - They share unique perspectives and strategies that have proven successful in their careers, providing valuable insights to course participants.\\n\\nThe rerun ensures continued access to these insights and benefits through repeated sessions, allowing participants to reinforce their learning and tailor it to their needs.\", context=['**Introduction to Quant Offside 3X**\\n\\nสัมมนา Quant Trading ที่ใหญ่ที่สุดของปี พร้อมพลิกโลกการลงทุนของคุณให้เหนือชั้นกว่าเดิมด้วย Data-Driven Trading และ AI Investing!\\n\\n**Quant Offside 3X rerun เหมาะกับใคร?**\\n\\n- ผมยังไม่รู้จะไปทางไหน?\\n- คอร์สนี้จะทำให้คุณเห็นภาพกว้างมากขึ้น\\n- คุณจะได้เห็นว่าเหล่า Trader ที่ทำกำไร หรือ CEO , CFO ที่เค้าทำงานด้านการลงทุน Hedge Fund เค้ามีมุมมอง มีจุดเริ่มต้นอย่างไร จนมาถึงวันที่เค้าทำกำไรได้ และเริ่มอยู่ตัวในโลก Quant เพื่อการลงทุน\\n- อยากทำระบบเทรด Robot Trade แต่ไม่มี Idea\\n- คุณจะได้ Idea มากมายที่ Speaker แต่ละท่านใช้\\n- และ speaker แต่ละคนไม่ว่าจะเป็นสายเทรดมือ ทำระบบ Trade เป็น ผู้จัดการกองทุน เหล่า CEO, CFO บอกเลยว่าไม่ธรรมดาครับ และพวกเราคุยกันด้วย Data , Quant, Math แน่นอนจะทำให้�', '�ุณเห็นภาพมากขึ้น และเอาไปประยุกต์ใช้กับระบบ Trade หรือ Robot Trade ของคุณ\\n- อยากทำงานด้าน Quant Trade การลงทุน\\n- แต่ผมไม่ได้เรียนมาสายตรงทำได้ไหม?\\n- บอกเลยครับว่าทำได้ เพราะ speaker แต่ละท่านนี่แทบจะไม่ได้เรียนมาโดยตรงด้านนี้เลยครับ แต่ได้มาทำในส่วนของ กลยุทธ การบริหารกองทุน งาน Quant สายธนาคาร แต่หลายๆ ท่านมีจุดเชื่อมโยงอยู่คือ เริ่มจากการลงทุน หรือ Trade แล้วก็ค่อยๆ ต่อยอดมางานสายนี้ และจะเริ่มต้น เตรียมตัวทำงานสายนี้อย่างไร เรียนเชิญในคอร์สเลยครับ\\n\\n**ถาม:** จุดเด่นหลักของ Quant Offside 3X คืออะไร?\\n   - **ตอบ:** มุ่งเน้นการเทรดที่ขับเคลื่อนด้วยข้อมูลและการลงทุนด้วย AI\\n\\n**ถาม:** ทำไมการ rerun ของ Quant Offside 3X ถึงสำคั', 'ญ?\\n   - **ตอบ:** ช่วยให้เทรดเดอร์อย่าง CEO และ CFO เข้าใจพลวัตของ Hedge Funds และ Quant Trading\\n\\n**ถาม:** วัตถุประสงค์ของเวิร์กช็อปที่กล่าวถึงคืออะไร?\\n   - **ตอบ:** เพื่อให้ข้อมูลเชิงลึกเกี่ยวกับข้อมูล Quant และกลยุทธ์การเทรด\\n\\n**Q&A Section**\\n\\nQ: ผมยังไม่รู้จะไปทางไหน?\\nA: คอร์สนี้จะทำให้คุณเห็นภาพกว้างมากขึ้น\\n\\nQ: อยากทำระบบเทรด Robot Trade แต่ไม่มี Idea\\nA: คุณจะได้ Idea มากมายที่ Speaker แต่ละท่านใช้\\n\\nQ: อยากทำงานด้าน Quant Trade การลงทุน\\nA: บอกเลยครับว่าทำได้ เพราะ speaker แต่ละท่านนี่แทบจะไม่ได้เรียนมาโดยตรงด้านนี้เลยครับ\\n\\n**Workshops Overview**\\n\\n- Online Workshops \"จับมือเทรดด้วย Quant Data\"\\n- สิ่งที่คุณจะได้รับเพียงซื้อ 1 Workshop ขึ้นไป ในราคา 3,599 บาท\\n  - RERUN ทุก Session ทั้ง Stage 1 & 2 (รวม 11 ชั่วโมง)\\n  - RERUN Crypto Quant Trading (รวม 7 ชั่วโมง)\\n  - สิทธิ'], retrieval_context=None, additional_metadata={'evolutions': ['Comparative'], 'synthetic_input_quality': 0.6}, comments=None, tools_called=None, expected_tools=None, source_file='data/raw/overall.txt', name=None, custom_column_key_values=None)]"
      ]
     },
     "execution_count": 13,
     "metadata": {},
     "output_type": "execute_result"
    }
   ],
   "source": [
    "dataset.goldens"
   ]
  },
  {
   "cell_type": "code",
   "execution_count": 6,
   "id": "2bbcf94f",
   "metadata": {},
   "outputs": [
    {
     "name": "stdout",
     "output_type": "stream",
     "text": [
      "ขั้นตอนที่ 1: กำลังสร้างชุดข้อมูลเป็นภาษาอังกฤษจากหลายไฟล์...\n"
     ]
    },
    {
     "data": {
      "text/html": [
       "<pre style=\"white-space:pre;overflow-x:auto;line-height:normal;font-family:Menlo,'DejaVu Sans Mono',consolas,'Courier New',monospace\"><span style=\"color: #7f7f7f; text-decoration-color: #7f7f7f\">[Confident AI Synthesizer Log]</span> WARNING: <span style=\"color: #808000; text-decoration-color: #808000\">Filtering not applied</span>: Not enough chunks in smallest document\n",
       "</pre>\n"
      ],
      "text/plain": [
       "\u001b[2m[Confident AI Synthesizer Log]\u001b[0m WARNING: \u001b[33mFiltering not applied\u001b[0m: Not enough chunks in smallest document\n"
      ]
     },
     "metadata": {},
     "output_type": "display_data"
    },
    {
     "data": {
      "text/html": [
       "<pre style=\"white-space:pre;overflow-x:auto;line-height:normal;font-family:Menlo,'DejaVu Sans Mono',consolas,'Courier New',monospace\"><span style=\"color: #7f7f7f; text-decoration-color: #7f7f7f\">[Confident AI Synthesizer Log]</span> SUCCESS: <span style=\"color: #008000; text-decoration-color: #008000\">Successfully deleted</span>: .vector_db\n",
       "</pre>\n"
      ],
      "text/plain": [
       "\u001b[2m[Confident AI Synthesizer Log]\u001b[0m SUCCESS: \u001b[32mSuccessfully deleted\u001b[0m: .vector_db\n"
      ]
     },
     "metadata": {},
     "output_type": "display_data"
    },
    {
     "data": {
      "text/html": [
       "<pre style=\"white-space:pre;overflow-x:auto;line-height:normal;font-family:Menlo,'DejaVu Sans Mono',consolas,'Courier New',monospace\"><span style=\"color: #7f7f7f; text-decoration-color: #7f7f7f\">[Confident AI Synthesizer Log]</span> SUCCESS: <span style=\"color: #008000; text-decoration-color: #008000\">Context Construction</span>: Utilizing 15 out of 22 chunks.\n",
       "</pre>\n"
      ],
      "text/plain": [
       "\u001b[2m[Confident AI Synthesizer Log]\u001b[0m SUCCESS: \u001b[32mContext Construction\u001b[0m: Utilizing 15 out of 22 chunks.\n"
      ]
     },
     "metadata": {},
     "output_type": "display_data"
    },
    {
     "data": {
      "text/html": [
       "<pre style=\"white-space:pre;overflow-x:auto;line-height:normal;font-family:Menlo,'DejaVu Sans Mono',consolas,'Courier New',monospace\"></pre>\n"
      ],
      "text/plain": []
     },
     "metadata": {},
     "output_type": "display_data"
    },
    {
     "name": "stdout",
     "output_type": "stream",
     "text": [
      "สร้างชุดข้อมูลภาษาอังกฤษเสร็จสิ้น จำนวน 36 เคส\n",
      "\n",
      "ขั้นตอนที่ 2: กำลังแปลชุดข้อมูลเป็นภาษาไทย...\n",
      "  -> กำลังแปลเคสที่ 1/36...\n",
      "  -> กำลังแปลเคสที่ 2/36...\n",
      "  -> กำลังแปลเคสที่ 3/36...\n",
      "  -> กำลังแปลเคสที่ 4/36...\n",
      "  -> กำลังแปลเคสที่ 5/36...\n",
      "  -> กำลังแปลเคสที่ 6/36...\n",
      "  -> กำลังแปลเคสที่ 7/36...\n",
      "  -> กำลังแปลเคสที่ 8/36...\n",
      "  -> กำลังแปลเคสที่ 9/36...\n",
      "  -> กำลังแปลเคสที่ 10/36...\n",
      "  -> กำลังแปลเคสที่ 11/36...\n",
      "  -> กำลังแปลเคสที่ 12/36...\n",
      "  -> กำลังแปลเคสที่ 13/36...\n",
      "  -> กำลังแปลเคสที่ 14/36...\n",
      "  -> กำลังแปลเคสที่ 15/36...\n",
      "  -> กำลังแปลเคสที่ 16/36...\n",
      "  -> กำลังแปลเคสที่ 17/36...\n",
      "  -> กำลังแปลเคสที่ 18/36...\n",
      "  -> กำลังแปลเคสที่ 19/36...\n",
      "  -> กำลังแปลเคสที่ 20/36...\n",
      "  -> กำลังแปลเคสที่ 21/36...\n",
      "  -> กำลังแปลเคสที่ 22/36...\n",
      "  -> กำลังแปลเคสที่ 23/36...\n",
      "  -> กำลังแปลเคสที่ 24/36...\n",
      "  -> กำลังแปลเคสที่ 25/36...\n",
      "  -> กำลังแปลเคสที่ 26/36...\n",
      "  -> กำลังแปลเคสที่ 27/36...\n",
      "  -> กำลังแปลเคสที่ 28/36...\n",
      "  -> กำลังแปลเคสที่ 29/36...\n",
      "  -> กำลังแปลเคสที่ 30/36...\n",
      "  -> กำลังแปลเคสที่ 31/36...\n",
      "  -> กำลังแปลเคสที่ 32/36...\n",
      "  -> กำลังแปลเคสที่ 33/36...\n",
      "  -> กำลังแปลเคสที่ 34/36...\n",
      "  -> กำลังแปลเคสที่ 35/36...\n",
      "  -> กำลังแปลเคสที่ 36/36...\n",
      "แปลชุดข้อมูลภาษาไทยเสร็จสิ้น จำนวน 36 เคส\n"
     ]
    }
   ],
   "source": [
    "import os\n",
    "import json\n",
    "from deepeval.dataset import EvaluationDataset\n",
    "from deepeval.synthesizer import Synthesizer\n",
    "from src.utils.app_config import AppConfig\n",
    "from openai import OpenAI\n",
    "\n",
    "# --- Setup ---\n",
    "cfg = AppConfig.from_files(\"configs/model_config.yaml\", \"config.yaml\")\n",
    "os.environ.setdefault(\"OPENAI_API_KEY\", cfg.openai_token)\n",
    "client = OpenAI(api_key=os.environ[\"OPENAI_API_KEY\"])\n",
    "\n",
    "# ===================================================================\n",
    "# ขั้นตอนที่ 1: สร้างชุดข้อมูลเป็นภาษาอังกฤษจากหลายไฟล์\n",
    "# ===================================================================\n",
    "print(\"ขั้นตอนที่ 1: กำลังสร้างชุดข้อมูลเป็นภาษาอังกฤษจากหลายไฟล์...\")\n",
    "english_synthesizer = Synthesizer(model=\"gpt-4o\")\n",
    "dataset_en = EvaluationDataset()\n",
    "\n",
    "# ระบุ path ของไฟล์ทั้งหมดที่ต้องการให้ Synthesizer ใช้\n",
    "document_paths_for_synthesis = [\n",
    "    \"data/raw/overall.txt\",\n",
    "    \"data/raw/rerun.txt\",\n",
    "    \"data/raw/workshop.txt\"\n",
    "]\n",
    "\n",
    "dataset_en.generate_goldens_from_docs(\n",
    "    document_paths=document_paths_for_synthesis, # <<< ตรงนี้แหละครับ\n",
    "    synthesizer=english_synthesizer\n",
    ")\n",
    "print(f\"สร้างชุดข้อมูลภาษาอังกฤษเสร็จสิ้น จำนวน {len(dataset_en.goldens)} เคส\")\n",
    "\n",
    "\n",
    "# ===================================================================\n",
    "# ขั้นตอนที่ 2: แปลแต่ละ Test Case เป็นภาษาไทย\n",
    "# (โค้ดส่วนนี้เหมือนเดิมจากตัวอย่างก่อนหน้า)\n",
    "# ===================================================================\n",
    "print(\"\\nขั้นตอนที่ 2: กำลังแปลชุดข้อมูลเป็นภาษาไทย...\")\n",
    "translated_goldens = []\n",
    "for i, golden in enumerate(dataset_en.goldens):\n",
    "    print(f\"  -> กำลังแปลเคสที่ {i+1}/{len(dataset_en.goldens)}...\")\n",
    "    try:\n",
    "        prompt_to_translate = f\"\"\"\n",
    "        Translate the following question and answer into Thai.\n",
    "        Provide the output as a JSON object with two keys: \"translated_question\" and \"translated_answer\".\n",
    "\n",
    "        Question: \"{golden.input}\"\n",
    "        Answer: \"{golden.expected_output}\"\n",
    "        \"\"\"\n",
    "\n",
    "        response = client.chat.completions.create(\n",
    "            model=\"gpt-4o\",\n",
    "            messages=[{\"role\": \"user\", \"content\": prompt_to_translate}],\n",
    "            response_format={\"type\": \"json_object\"},\n",
    "            temperature=0.0\n",
    "        )\n",
    "\n",
    "        translated_json = json.loads(response.choices[0].message.content)\n",
    "\n",
    "        golden.input = translated_json.get(\"translated_question\", golden.input)\n",
    "        golden.expected_output = translated_json.get(\"translated_answer\", golden.expected_output)\n",
    "\n",
    "        translated_data = {\n",
    "            \"input\": golden.input,\n",
    "            \"expected_output\": golden.expected_output,\n",
    "            \"retrieval_context\": golden.retrieval_context\n",
    "        }\n",
    "        translated_goldens.append(translated_data)\n",
    "\n",
    "    except Exception as e:\n",
    "        print(f\"เกิดข้อผิดพลาดในการแปลเคสที่ {i+1}: {e}\")\n",
    "        original_data = {\n",
    "            \"input\": golden.input,\n",
    "            \"expected_output\": golden.expected_output,\n",
    "            \"retrieval_context\": golden.retrieval_context\n",
    "        }\n",
    "        translated_goldens.append(original_data)\n",
    "\n",
    "print(f\"แปลชุดข้อมูลภาษาไทยเสร็จสิ้น จำนวน {len(translated_goldens)} เคส\")\n",
    "\n"
   ]
  },
  {
   "cell_type": "code",
   "execution_count": 7,
   "id": "64ce389d",
   "metadata": {},
   "outputs": [
    {
     "data": {
      "text/plain": [
       "[{'input': 'เวิร์กช็อป TFEX มีเป้าหมายอะไรในการใช้เทคนิค Bollinger Band Market Breadth?',\n",
       "  'expected_output': 'เวิร์กช็อป TFEX มีเป้าหมายที่จะบรรลุอัตราการชนะ 100% โดยใช้เทคนิค Bollinger Band Market Breadth เพื่อระบุจุดกลับตัวของแนวโน้มและจับจุดต่ำสุดของตลาดอย่างมีประสิทธิภาพ',\n",
       "  'retrieval_context': None},\n",
       " {'input': 'เวิร์กช็อปของ Investic สอนอะไรโดยใช้ Analytics Studio และทรัพยากรเพิ่มเติม?',\n",
       "  'expected_output': 'เวิร์กช็อปของ Investic สอนทักษะการปฏิบัติสำหรับการซื้อขายและการลงทุนในตลาดต่าง ๆ โดยใช้ Investic Analytics Studio และทรัพยากรเพิ่มเติม ผู้เข้าร่วมจะได้เรียนรู้เทคนิคขั้นสูง เช่น การระบุจุดกลับตัวของแนวโน้มด้วยกลยุทธ์ Bollinger Band Panic Sell การลงทุนในสกุลเงินดิจิทัลโดยเน้นการเลือกเหรียญที่มีศักยภาพสูง และการเชี่ยวชาญทฤษฎี Elliott Wave เพื่อใช้ประโยชน์จากคลื่นที่ทรงพลังที่สุดเพื่อผลกำไรสูงสุด เวิร์กช็อปนี้ออกแบบมาเพื่อให้การเรียนรู้เชิงลึกและประสบการณ์จริงกับเครื่องมือเหล่านี้ ช่วยให้ผู้เข้าร่วมจัดการพอร์ตโฟลิโอด้วยความมั่นใจและเข้าถึงตลาดอย่างมีกลยุทธ์ เช่น TFEX, Crypto และอื่น ๆ',\n",
       "  'retrieval_context': None},\n",
       " {'input': 'เปรียบเทียบผลกระทบของการเข้าใจการซื้อขายแบบบล็อกและวัฏจักรของบิตคอยน์ต่อกลยุทธ์การซื้อขาย',\n",
       "  'expected_output': \"การเข้าใจการซื้อขายแบบบล็อกในทองคำและวัฏจักรของบิตคอยน์ให้ข้อมูลเชิงลึกที่ไม่เหมือนใครซึ่งสามารถเสริมสร้างกลยุทธ์การซื้อขายได้ การซื้อขายแบบบล็อกในทองคำเกี่ยวข้องกับการรับรู้ว่าราคามักจะเคลื่อนไหวใน 'บล็อก' หรือ 'โซนราคา' ที่ชัดเจน เช่น $5, $25, $50 หรือ $100 ความเข้าใจนี้สามารถช่วยให้ผู้ค้าคาดการณ์การกระโดดของราคาระหว่างโซนเหล่านี้ ทำให้สามารถวางตำแหน่งการซื้อขายได้อย่างมีกลยุทธ์มากขึ้นและปรับการหยุดขาดทุนตามความผันผวนของตลาด ในทางกลับกัน การเข้าใจวัฏจักรของบิตคอยน์เกี่ยวข้องกับการเข้าใจรูปแบบตลาดและวัฏจักรที่กว้างขึ้นที่บิตคอยน์มักจะปฏิบัติตาม ซึ่งสามารถช่วยให้ผู้ค้ากำหนดจุดเข้าและออกได้อย่างมีประสิทธิภาพมากขึ้นในตลาดสกุลเงินดิจิทัลโดยการทำนายการเปลี่ยนแปลงในแนวโน้มและความรู้สึกของตลาด ทั้งสองวิธีช่วยในการปรับปรุงการจับเวลาการซื้อขายและการจัดการความเสี่ยง โดยการซื้อขายแบบบล็อกเน้นที่พฤติกรรมราคาระดับจุลภาคและวัฏจักรของบิตคอยน์เน้นที่การเคลื่อนไหวของตลาดระดับมหภาค\",\n",
       "  'retrieval_context': None},\n",
       " {'input': 'วิเคราะห์อิทธิพลของการ Halving ของ Bitcoin ต่อวัฏจักรตลาดและการประยุกต์ใช้เชิงกลยุทธ์ในพอร์ตโฟลิโอคริปโต',\n",
       "  'expected_output': 'การ Halving ของ Bitcoin มีผลกระทบอย่างมากต่อวัฏจักรตลาดโดยการลดรางวัลสำหรับการขุดบล็อกใหม่ลงครึ่งหนึ่ง เหตุการณ์นี้เกิดขึ้นประมาณทุกสี่ปี ทำให้การจัดหาบิตคอยน์ใหม่เข้าสู่ตลาดลดลง ในอดีต การ Halving ของ Bitcoin มักจะเกี่ยวข้องกับการเพิ่มขึ้นของราคาที่สำคัญในเดือนหลังจากเหตุการณ์เนื่องจากผลกระทบของความขาดแคลน ซึ่งมีอิทธิพลต่อความเชื่อมั่นของนักลงทุนและแนวโน้มตลาด ในแง่ของการประยุกต์ใช้เชิงกลยุทธ์ในพอร์ตโฟลิโอคริปโต การเข้าใจวัฏจักรของ Bitcoin ช่วยให้นักลงทุนสามารถกำหนดเวลาการซื้อและขายได้อย่างมีประสิทธิภาพมากขึ้น โดยการวิเคราะห์วัฏจักรที่ผ่านมา นักลงทุนสามารถทำนายการเคลื่อนไหวของราคาหลังการ Halving ซึ่งอาจเพิ่มโอกาสในการได้รับผลตอบแทนที่สูงขึ้น การรวมการ Halving ของ Bitcoin เข้ากับการจัดการพอร์ตโฟลิโอคริปโตเกี่ยวข้องกับการปรับกลยุทธ์การลงทุนให้สอดคล้องกับแนวโน้มตลาดที่คาดการณ์ไว้และการเปลี่ยนแปลงในความผันผวนที่ได้รับอิทธิพลจากเหตุการณ์สำคัญนี้',\n",
       "  'retrieval_context': None},\n",
       " {'input': 'บทบาทของการขยายตัวของคลื่นลูกที่ 3 ในการเพิ่มผลกำไรสูงสุดโดยใช้ Fibonacci Retracement คืออะไร?',\n",
       "  'expected_output': \"การขยายตัวของคลื่นลูกที่ 3 โดยเฉพาะในบริบทของการวิเคราะห์คลื่นเอลเลียต มีความสำคัญอย่างยิ่งในการเพิ่มผลกำไรสูงสุด เนื่องจากถูกระบุว่าเป็น 'คลื่นที่แข็งแกร่งที่สุด' โดยการใช้ Fibonacci Retracement อย่างมืออาชีพ นักเทรดสามารถกำหนดจุดสิ้นสุดที่เป็นไปได้ของคลื่นลูกที่ 2 ซึ่งเป็นจุดเข้าที่สำคัญสำหรับคลื่นลูกที่ 3 กลยุทธ์การเข้าตลาดนี้ช่วยให้นักเทรดสามารถใช้ประโยชน์จากการเคลื่อนไหวของราคาที่มีนัยสำคัญซึ่งเป็นลักษณะของคลื่นลูกที่ 3 ดังนั้นจึงมุ่งหวังที่จะบรรลุผลกำไรสูงสุดในระยะเวลาอันสั้น\",\n",
       "  'retrieval_context': None},\n",
       " {'input': 'อะไรทำให้ Wave 3X ซึ่งเน้นที่ Elliott Wave และ Fibonacci มีความสำคัญสำหรับนักเทรด?',\n",
       "  'expected_output': 'Wave 3X มีความสำคัญสำหรับนักเทรดเพราะมันเป็นช่วงที่มีพลังมากที่สุดและเคลื่อนไหวเร็วที่สุดในวัฏจักรตลาด ซึ่งให้โอกาสในการทำกำไรสูงสุดในระยะเวลาสั้นๆ การเข้าใจ Elliott Wave ช่วยให้นักเทรดสามารถระบุวัฏจักรที่สูงขึ้นและต่ำลงได้ ให้มุมมองที่ครอบคลุมของโครงสร้างตลาด การใช้ Fibonacci Retracement อย่างมืออาชีพช่วยในการกำหนดจุดสิ้นสุดที่เป็นไปได้ของ Wave 2 ซึ่งเป็นจุดเริ่มต้นที่สำคัญสำหรับ Wave 3 เพิ่มความแม่นยำในการเทรดและการจัดการความเสี่ยง',\n",
       "  'retrieval_context': None},\n",
       " {'input': 'อธิบายบทบาทที่หลากหลายของ Wave 3 Extension ในกลยุทธ์การซื้อขายที่มุ่งเน้นการเพิ่มผลกำไรสูงสุด',\n",
       "  'expected_output': 'Wave 3 Extension มีบทบาทสำคัญในกลยุทธ์การซื้อขายที่มุ่งเน้นการเพิ่มผลกำไรสูงสุด มันเป็นคลื่นที่ทรงพลังและระเบิดที่สุดในทฤษฎี Elliott Wave นักเทรดมุ่งเน้นไปที่การระบุและซื้อขายคลื่นนี้เนื่องจากมีศักยภาพในการทำกำไรอย่างมากในระยะเวลาสั้น ๆ การทำความเข้าใจโครงสร้างตลาดสำหรับ Wave 3X เกี่ยวข้องกับการรับรู้วงจรที่ซ้อนกันทั้งในระดับสูงและต่ำ ซึ่งช่วยในการระบุจุดเข้า การใช้ Fibonacci Retracement ช่วยกำหนดจุดสิ้นสุดของ Wave 2 ซึ่งมีความสำคัญต่อการเข้าสู่ Wave 3 นอกจากนี้ การเข้าอย่างมีกลยุทธ์และเทคนิค Stop Loss ที่ปรับเทียบอย่างเหมาะสมสามารถเพิ่มอัตราส่วนความเสี่ยง/ผลตอบแทนในสถานการณ์ต่าง ๆ เพิ่มศักยภาพในการทำกำไรในขณะที่จัดการความเสี่ยงอย่างมีประสิทธิภาพ',\n",
       "  'retrieval_context': None},\n",
       " {'input': 'หาก Wave 3X ทำให้เกิดการพุ่งขึ้นของตลาดอย่างฉับพลัน นักเทรดตีความองค์ประกอบสำคัญของมันอย่างไร?',\n",
       "  'expected_output': \"นักเทรดตีความการพุ่งขึ้นของตลาดอย่างฉับพลันที่เกิดจาก Wave 3X ว่าเป็นสัญญาณให้มุ่งเน้นไปที่การระบุ 'คลื่นที่ทรงพลังที่สุด' เพื่อให้ได้กำไรระยะสั้นที่ดีที่สุด พวกเขาวิเคราะห์โครงสร้างตลาดของ Wave 3X โดยพิจารณาวงจรที่ทับซ้อนกันและใช้ Fibonacci Retracement เพื่อระบุจุดสิ้นสุดที่เป็นไปได้ของ Wave 2 ซึ่งช่วยระบุจุดเข้าที่สำคัญสำหรับ Wave 3 นอกจากนี้ นักเทรดยังจะใช้กลยุทธ์การเทรดที่เป็นประโยชน์และ Stop Loss โดยปรับสมดุลอัตราส่วนความเสี่ยง/ผลตอบแทนและปรับการตั้งค่า Stop Loss ตามความผันผวนของตลาดเพื่อเพิ่มโอกาสในการประสบความสำเร็จสูงสุด\",\n",
       "  'retrieval_context': None},\n",
       " {'input': 'กลยุทธ์ใดที่เวิร์กช็อป TFEX ใช้เพื่อให้ได้อัตราชนะ 100% โดยใช้ Bollinger Band?',\n",
       "  'expected_output': 'เวิร์กช็อป TFEX มุ่งเน้นการใช้กลยุทธ์ Bollinger Band Market Breadth เพื่อให้ได้อัตราชนะ 100% ซึ่งรวมถึงการระบุจุดกลับตัวของแนวโน้ม การใช้ตัวบ่งชี้ Bollinger Band Panic Sell เพื่อจับจุดต่ำสุดของตลาดอย่างมีประสิทธิภาพ และการประยุกต์ใช้วิธีนี้ในเหตุการณ์สำคัญต่างๆ ของตลาด เช่น การตกต่ำของตลาดในปี 2016 และวิกฤตอื่นๆ ในอดีต',\n",
       "  'retrieval_context': None},\n",
       " {'input': 'สำรวจผลกระทบของ Investic Analytics Studio ต่อกลยุทธ์การซื้อขายขั้นสูงในช่วงระยะเวลาการเข้าถึงฟรีหนึ่งเดือน',\n",
       "  'expected_output': 'Investic Analytics Studio ช่วยเสริมกลยุทธ์การซื้อขายขั้นสูงโดยการให้ชุดเครื่องมือที่ครอบคลุมฟรีเป็นเวลาหนึ่งเดือน ในช่วงเวลานี้ ผู้เข้าร่วมสามารถฝึกฝนเทคนิคที่เรียนรู้จากเวิร์กช็อป เช่น การระบุการกลับตัวของแนวโน้มด้วย Bollinger Band Market Breadth หรือการสำรวจวงจรของ Bitcoin และการลงทุนใน Crypto ที่เพิ่มขึ้น 10 เท่า ประสบการณ์การปฏิบัตินี้ช่วยเสริมการเรียนรู้และทำให้ผู้ค้าสามารถประยุกต์ใช้กลยุทธ์ได้อย่างมีประสิทธิภาพในสภาพตลาดจริง',\n",
       "  'retrieval_context': None},\n",
       " {'input': 'กลยุทธ์เพิ่มเติมใดที่สอนในเวิร์กช็อปคริปโตของ PK สำหรับการเลือกเหรียญที่มีโอกาสเติบโต 10 เท่า?',\n",
       "  'expected_output': 'ในเวิร์กช็อปคริปโตของ PK กลยุทธ์เพิ่มเติมสำหรับการเลือกเหรียญที่มีโอกาสเติบโต 10 เท่ารวมถึงการฝึกฝนวิธีการที่เป็นระบบในการระบุเหรียญแต่ละเหรียญที่มีศักยภาพการเติบโตสูง การวิเคราะห์ภาคตลาดและแนวโน้ม และการระบุผู้นำแนวโน้มที่อาจได้รับประโยชน์จากการพัฒนาในอนาคต นอกจากนี้ เวิร์กช็อปยังครอบคลุมการจัดการพอร์ตโฟลิโอและกลยุทธ์การจัดการความเสี่ยงสำหรับการซื้อขายที่มีผลตอบแทนสูง',\n",
       "  'retrieval_context': None},\n",
       " {'input': 'อธิบายว่าเวิร์กช็อป Elliott Wave 3X ใช้เครื่องมือ Fibonacci อย่างไรเพื่อเพิ่มผลกำไรในระยะสั้นให้สูงสุด',\n",
       "  'expected_output': 'เวิร์กช็อป Elliott Wave 3X ใช้ Fibonacci Retracement อย่างเชี่ยวชาญในการระบุจุดสิ้นสุดที่เป็นไปได้ของ Wave 2 ซึ่งเป็นจุดเริ่มต้นที่สำคัญสำหรับ Wave 3 ที่ได้รับการยอมรับว่าเป็นคลื่นที่ทรงพลังที่สุดในการเพิ่มผลกำไรในระยะสั้น ด้วยการเข้าใจโครงสร้างนี้ ผู้เข้าร่วมสามารถดำเนินการซื้อขายได้อย่างมีประสิทธิภาพและใช้กลยุทธ์ Stop Loss ที่เหมาะสมเพื่อเพิ่มอัตราส่วนความเสี่ยง/ผลตอบแทนและเพิ่มศักยภาพในการทำกำไร',\n",
       "  'retrieval_context': None},\n",
       " {'input': 'If the frequency of Wave 3 Extension unexpectedly doubles, how can traders enhance their profit strategies?',\n",
       "  'expected_output': \"If the frequency of Wave 3 Extension unexpectedly doubles, traders can enhance their profit strategies by focusing on quickly identifying and trading these accelerated 'power waves.' By mastering the use of Fibonacci Retracement to accurately pinpoint the end of Wave 2, traders can improve their entry points for more frequent Wave 3 extensions. Additionally, employing risk/reward strategies that adjust stop-loss placements according to market volatility can help capitalize on increased opportunities while effectively managing risk.\",\n",
       "  'retrieval_context': None},\n",
       " {'input': 'How should traders use Fibonacci and nested cycles to maximize profits from trading Wave 3X?',\n",
       "  'expected_output': 'Traders should use Fibonacci retracement to identify the potential end of Wave 2, which is a crucial entry point for trading Wave 3X. By doing so, traders can strategically enter the market to capitalize on the strongest wave for maximum profit. Additionally, understanding nested cycles, including both higher and lower-level cycles, helps traders better analyze market structure and improve wave identification for more accurate trading decisions.',\n",
       "  'retrieval_context': None},\n",
       " {'input': 'If the price of gold moves only within blocks, how can insights from block trading guide trading strategies?',\n",
       "  'expected_output': \"If the price of gold moves only within blocks, insights from block trading can guide trading strategies by highlighting that prices tend to remain within specific 'zones' and jump between these zones, such as increments of $5, $25, $50, or $100. Understanding these blocks can help traders better determine entry and exit points, manage risk by adjusting Stop Loss levels according to market volatility, and potentially increase trading survival rates by predicting price movements within these predefined zones.\",\n",
       "  'retrieval_context': None},\n",
       " {'input': 'Explore the impact of understanding Bitcoin cycles on success in crypto investing and investor advantages.',\n",
       "  'expected_output': \"Understanding Bitcoin cycles plays a crucial role in achieving success in crypto investing. It provides insights into market patterns, enabling investors to make informed decisions and capitalize on potential growth opportunities. By understanding these cycles, investors can systematically identify '10X coins', analyze trends in sectors like DeFi and Metaverse, and execute strategic portfolio management. This understanding offers significant advantages to investors by helping them anticipate market movements and manage risks effectively.\",\n",
       "  'retrieval_context': None},\n",
       " {'input': 'How do the Crypto and Elliott Wave 3X workshops differ in terms of focus and investment strategies?',\n",
       "  'expected_output': 'The Crypto workshop focuses on investing in cryptocurrencies, understanding Bitcoin cycles, selecting coins with 10x growth potential, sector and trend analysis, and confidently managing a portfolio. In contrast, the Elliott Wave 3X workshop focuses on identifying and trading Wave 3 Extensions, which are the most powerful waves for maximum profit in a short period, using Fibonacci Retracement and employing various risk/reward strategies.',\n",
       "  'retrieval_context': None},\n",
       " {'input': 'Imagine a scenario where a TFEX workshop strategy guarantees consistent profits using only the Bollinger Band technique; what is the key method for identifying market reversals?',\n",
       "  'expected_output': \"The key method for identifying market reversals in the TFEX workshop strategy is using the Bollinger Band Panic Sell to capture the market's bottom, along with analyzing trend reversal points to obtain a practical method in real situations.\",\n",
       "  'retrieval_context': None},\n",
       " {'input': 'หากแพลตฟอร์ม DeFi เผชิญกับการเปลี่ยนแปลงกฎระเบียบอย่างกะทันหัน กลยุทธ์การสร้างผลตอบแทนเช่น yield farming และ arbitrage จะปรับตัวอย่างไรเพื่อให้ยังคงให้ผลตอบแทนได้',\n",
       "  'expected_output': 'ในกรณีที่มีการเปลี่ยนแปลงกฎระเบียบอย่างกะทันหันที่ส่งผลกระทบต่อแพลตฟอร์ม DeFi กลยุทธ์การสร้างผลตอบแทนเช่น yield farming และ arbitrage จำเป็นต้องปรับตัวในหลายๆ ด้านเพื่อให้ยังคงให้ผลตอบแทนได้ Yield farming อาจต้องมีการตรวจสอบความสอดคล้องของแพลตฟอร์มกับกฎระเบียบใหม่มากขึ้น อาจเปลี่ยนไปใช้แพลตฟอร์มที่มีกรอบกฎหมายที่แข็งแกร่ง Arbitrage อาจมุ่งเน้นไปที่ความแตกต่างทางกฎหมายในแต่ละภูมิภาคมากขึ้น โดยใช้ประโยชน์จากความแตกต่างที่กฎระเบียบในแต่ละภูมิภาคอนุญาต นอกจากนี้ นักลงทุนอาจกระจายการลงทุนไปยังการซื้อขายความถี่สูงที่สอดคล้องกับกฎระเบียบหรือยานพาหนะการลงทุนอื่นๆ ที่ได้รับการควบคุมเพื่อลดความเสี่ยงในขณะที่ยังคงมุ่งหวังผลลัพธ์ที่มีกำไร',\n",
       "  'retrieval_context': None},\n",
       " {'input': 'การทำ Yield Farming เปรียบเทียบกับการทำ Arbitrage ในการพัฒนาทักษะการเทรดคริปโตอย่างไร?',\n",
       "  'expected_output': 'การทำ Yield Farming และ Arbitrage มีวัตถุประสงค์ที่แตกต่างกันในการพัฒนาทักษะการเทรดคริปโต การทำ Yield Farming เกี่ยวข้องกับการได้รับผลตอบแทนผ่านดอกเบี้ยและค่าธรรมเนียมโดยการเข้าร่วมในแพลตฟอร์ม DeFi เช่น Curve, Aave และ Compound ซึ่งสามารถช่วยให้เทรดเดอร์เข้าใจการเงินแบบกระจายศูนย์และการสร้างดอกเบี้ย ในทางกลับกัน การทำ Arbitrage มุ่งเน้นไปที่กลยุทธ์ที่มีความเสี่ยงต่ำเพื่อทำกำไรจากความแตกต่างของราคาในตลาดสปอตและฟิวเจอร์ส หรือผ่านอัตราการระดมทุนในตลาดฟิวเจอร์ส ซึ่งต้องการให้เทรดเดอร์มีความสามารถในการระบุและดำเนินการเทรดที่มีกำไรอย่างรวดเร็ว ในขณะที่การทำ Yield Farming พัฒนาทักษะในการจัดการสินทรัพย์ DeFi การทำ Arbitrage จะฝึกฝนความสามารถในการใช้ประโยชน์จากความไม่มีประสิทธิภาพของตลาด',\n",
       "  'retrieval_context': None},\n",
       " {'input': 'ตัวชี้วัดและเครื่องมือใดบ้าง เช่น MVRV และ Fear-Greed Index ที่สำคัญสำหรับความชำนาญในการซื้อขายคริปโต?',\n",
       "  'expected_output': 'ตัวชี้วัดและเครื่องมือที่สำคัญสำหรับความชำนาญในการซื้อขายคริปโต ได้แก่ MVRV สำหรับประเมินว่าราคาถูกขายเกินหรือซื้อเกิน, Fear & Greed Index สำหรับวัดความรู้สึกของตลาดเพื่อระบุจุดซื้อและขายที่เหมาะสม, และการติดตามการปลดล็อกโทเค็นเพื่อคาดการณ์แรงกดดันในการขาย นอกจากนี้ การติดตามอัตราการระดมทุนสามารถให้ข้อมูลเชิงลึกเกี่ยวกับทิศทางของตลาด ในขณะที่ข้อมูลการชำระบัญชีสามารถชี้ให้เห็นจุดที่อาจมีการทดสอบราคา เครื่องมือเหล่านี้ช่วยให้ผู้ค้าทำความเข้าใจแนวโน้มของตลาดและตัดสินใจซื้อขายอย่างมีข้อมูล',\n",
       "  'retrieval_context': None},\n",
       " {'input': 'ลองจินตนาการถึงตลาดที่เครื่องมือของนักลงทุนพัฒนาอย่างรวดเร็ว กลยุทธ์การวิเคราะห์ขั้นสูงอาจจะนิยามขอบเขตการซื้อขายใหม่ได้อย่างไร?',\n",
       "  'expected_output': 'ในตลาดที่เครื่องมือของนักลงทุนพัฒนา กลยุทธ์การวิเคราะห์ขั้นสูงอาจจะนิยามขอบเขตการซื้อขายใหม่ได้โดยการให้ข้อมูลเชิงลึกที่ดีขึ้นเกี่ยวกับแนวโน้มตลาดและพฤติกรรมนักลงทุน ตัวอย่างเช่น การใช้เครื่องมืออย่าง MVRV เพื่อประเมินว่าราคาปัจจุบันมีการประเมินค่าสูงเกินไปหรือต่ำเกินไปสามารถช่วยระบุจุดกลับตัวที่เป็นไปได้ การติดตามการปลดล็อกโทเค็นสามารถเตือนนักเทรดถึงการขายที่อาจเกิดขึ้น นอกจากนี้ การใช้ข้อมูลความรู้สึก เช่น ดัชนีความกลัวและความโลภ ช่วยให้นักเทรดสามารถตัดสินใจลงทุนในทางตรงกันข้ามในช่วงที่ตลาดมีความสุดโต่ง โดยการรวมเทคนิคขั้นสูงเหล่านี้ นักเทรดสามารถคาดการณ์การเคลื่อนไหวของตลาดได้ดีขึ้นและเพิ่มประสิทธิภาพกลยุทธ์การซื้อขายของพวกเขา',\n",
       "  'retrieval_context': None},\n",
       " {'input': 'การวิเคราะห์การไหลของคำสั่งซื้อแตกต่างจากกลยุทธ์การลงทุนแบบตลาดเป็นกลางอย่างไร?',\n",
       "  'expected_output': 'การวิเคราะห์การไหลของคำสั่งซื้อเน้นการตรวจสอบการกระจายคำสั่งซื้อแบบเรียลไทม์ ความไม่สมดุลของสมุดคำสั่งซื้อ และการคาดการณ์ตลาดโดยไม่พึ่งพาแผนภูมิราคา มันมุ่งเน้นที่จะเข้าใจการเคลื่อนไหวของตลาดโดยการวิเคราะห์การไหลของคำสั่งซื้อและขาย ในทางตรงกันข้าม กลยุทธ์ตลาดเป็นกลางถูกออกแบบมาเพื่อทำกำไรโดยไม่คำนึงถึงทิศทางของตลาดโดยการปรับสมดุลตำแหน่งยาวและสั้นเพื่อลดความเสี่ยงของตลาด มันเน้นการรักษาการเปิดรับตลาดที่เป็นกลางแทนที่จะคาดการณ์การเคลื่อนไหวของตลาด',\n",
       "  'retrieval_context': None},\n",
       " {'input': 'AI และ ML ช่วยเพิ่มการทำนายตลาดแบบเรียลไทม์และการสร้างแบบจำลองพอร์ตโฟลิโอในการซื้อขายคริปโตอย่างไร?',\n",
       "  'expected_output': 'AI และ ML ช่วยเพิ่มการทำนายตลาดแบบเรียลไทม์และการสร้างแบบจำลองพอร์ตโฟลิโอในการซื้อขายคริปโตโดยการวิเคราะห์ข้อมูลจำนวนมากและหลากหลาย เช่น ข้อมูล Onchain, Derivative และ Market Data เพื่อระบุรูปแบบและแนวโน้มที่ไม่สามารถมองเห็นได้ทันทีผ่านวิธีการแบบดั้งเดิม พวกเขาช่วยในการทำนายทิศทางตลาดโดยไม่ต้องพึ่งพากราฟราคาและอำนวยความสะดวกในการสร้างแบบจำลองพอร์ตโฟลิโอที่ซับซ้อนโดยใช้ข้อมูลเชิงลึกที่ขับเคลื่อนด้วยข้อมูล นอกจากนี้ อัลกอริธึมการเรียนรู้ของเครื่องยังสามารถใช้เทคนิคเช่นการวิเคราะห์ความรู้สึกจาก Alternative Data เพื่อปรับปรุงกลยุทธ์การซื้อขายและการตัดสินใจ',\n",
       "  'retrieval_context': None},\n",
       " {'input': 'เครื่องมือวิเคราะห์และตัวชี้วัดใดที่ช่วยในการประเมินการตัดสินใจเชิงกลยุทธ์ของผู้ค้า crypto ในตลาด?',\n",
       "  'expected_output': 'ในการประเมินการตัดสินใจเชิงกลยุทธ์ของผู้ค้า crypto มีการใช้เครื่องมือวิเคราะห์และตัวชี้วัดหลายอย่าง:\\n\\n1. **TradingView**: ใช้สำหรับการวิเคราะห์กราฟทางเทคนิคและตัวชี้วัดพื้นฐาน\\n2. **CoinGlass และ Exo Chart**: ให้ข้อมูลเชิงลึกเช่น Open Interest, แรงซื้อ-ขาย (CVD) และแผนที่ความร้อนการชำระบัญชีเพื่อระบุระดับการสนับสนุนและความต้านทานที่สำคัญ\\n3. **ข้อมูล On-Chain**: ติดตามกิจกรรมของนักลงทุนรายใหญ่ (whales) เพื่อกำหนดการกระทำการซื้อหรือขายของพวกเขา\\n4. **Open Interest (OI)**: แสดงการไหลของเงินใหม่เข้าออกจากตลาด ช่วยระบุแนวโน้มหรือการกลับตัวใหม่\\n5. **Funding Rate**: แสดงการครอบงำทิศทางของตลาด ซึ่งช่วยระบุโอกาสในตลาดที่ร้อนแรงหรือการบีบสั้น\\n6. **ข้อมูลการชำระบัญชี**: ใช้แผนที่ความร้อนเพื่อระบุพื้นที่ทดสอบราคาที่เป็นไปได้\\n7. **ข้อมูลความรู้สึก (Fear & Greed Index)**: ประเมินอารมณ์ตลาดเพื่อหาจุดเข้าเมื่อผู้อื่นกลัวมากเกินไปหรือจุดออกเมื่อพวกเขาโลภมากเกินไป\\n8. **MVRV**: ประเมินว่าราคาปัจจุบันถูกประเมินค่าต่ำหรือสูงเกินไปและระบุจุดกลับตัวที่เป็นไปได้\\n9. **การติดตามการปลดล็อกโทเค็น**: เฝ้าระวังแรงกดดันการขายที่อาจเกิดขึ้น\\n\\nเครื่องมือเหล่านี้ช่วยให้ผู้ค้าสามารถกำหนดโอกาสในการซื้อขายที่ได้เปรียบได้อย่างรวมกัน',\n",
       "  'retrieval_context': None},\n",
       " {'input': 'การวิเคราะห์ข้อมูลบนบล็อกเชนสามารถเปิดเผยแนวโน้มในกิจกรรมของวาฬในตลาดสกุลเงินดิจิทัลและพฤติกรรมนักลงทุนได้อย่างไร?',\n",
       "  'expected_output': 'การวิเคราะห์ข้อมูลบนบล็อกเชนช่วยให้นักลงทุนสามารถติดตามและตรวจสอบธุรกรรมได้โดยตรงบนบล็อกเชน ซึ่งให้ความโปร่งใสเนื่องจากกิจกรรมทั้งหมดถูกบันทึกและตรวจสอบได้ ข้อมูลนี้ช่วยระบุแนวโน้มในกิจกรรมของวาฬ เช่น การซื้อหรือขายในปริมาณมาก โดยการวิเคราะห์ปริมาณและการเคลื่อนไหวของธุรกรรม มันให้ข้อมูลเชิงลึกเกี่ยวกับพฤติกรรมนักลงทุน โดยเปิดเผยว่าวาฬกำลังสะสมสินทรัพย์หรือขายสินทรัพย์ ซึ่งสามารถบ่งบอกถึงแนวโน้มและการเปลี่ยนแปลงของตลาดที่อาจเกิดขึ้นได้ โดยการเข้าใจถึงกิจกรรมเหล่านี้ ผู้ค้าสามารถคาดการณ์การเคลื่อนไหวของตลาดและตัดสินใจซื้อขายอย่างมีข้อมูล',\n",
       "  'retrieval_context': None},\n",
       " {'input': 'กลยุทธ์ของเวิร์กช็อป TFEX ที่ใช้ Bollinger Band ทำอย่างไรถึงได้อัตราชนะ 100% และการกลับตัวของแนวโน้ม?',\n",
       "  'expected_output': 'กลยุทธ์ของเวิร์กช็อป TFEX ได้อัตราชนะ 100% โดยการสอนผู้เข้าร่วมวิธีการใช้เครื่องมือ Bollinger Band Market Breadth เพื่อระบุจุดกลับตัวของแนวโน้ม วิธีการนี้ช่วยเพิ่มความแม่นยำในการกำหนดเวลาเข้าตลาดและออกจากตลาด เครื่องมือนี้ถูกใช้สำเร็จในการจับจุดต่ำสุดของตลาด โดยมีประสิทธิภาพในอดีตที่แสดงให้เห็นในเหตุการณ์สำคัญเช่นการตกต่ำของตลาดในปี 2016 ซึ่งให้การประยุกต์ใช้แนวคิดในทางปฏิบัติและในโลกจริง',\n",
       "  'retrieval_context': None},\n",
       " {'input': 'การเข้าถึง Investic Analytics Studio ฟรีหนึ่งเดือนช่วยเพิ่มประสบการณ์การซื้อขายและการเรียนรู้อย่างไร?',\n",
       "  'expected_output': 'การเข้าถึง Investic Analytics Studio ฟรีหนึ่งเดือนช่วยเพิ่มประสบการณ์การซื้อขายและการเรียนรู้โดยให้ผู้เข้าร่วมสามารถนำเทคนิคที่เรียนรู้จากเวิร์กช็อปไปใช้ในสถานการณ์ตลาดจริง เช่น การใช้ Bollinger Band Panic Sell และการระบุจุดกลับตัวของแนวโน้ม นอกจากนี้ยังมีเครื่องมือสำหรับสำรวจกลยุทธ์ต่างๆ เช่น การลงทุนในคริปโตและการวิเคราะห์ Elliott Wave ซึ่งมอบโอกาสในการพัฒนาทักษะการซื้อขายด้วยข้อมูลและตัวอย่างจากโลกจริง',\n",
       "  'retrieval_context': None},\n",
       " {'input': 'หัวข้อเฉพาะใดบ้างที่ครอบคลุมในสัมมนา Quant Offside 3X เกี่ยวกับการเทรดที่ขับเคลื่อนด้วยข้อมูลและ AI?',\n",
       "  'expected_output': 'สัมมนา Quant Offside 3X ครอบคลุมหัวข้อต่าง ๆ เกี่ยวกับการเทรดที่ขับเคลื่อนด้วยข้อมูลและ AI รวมถึงการใช้ความกว้างของตลาดในการกรองตลาด การวิเคราะห์หุ้นที่มีผลการดำเนินงานดีกว่าตลาด การเข้าใจรูปแบบตลาดหุ้นในอดีต การพัฒนาระบบการเทรดสำหรับตลาดไทย การประเมินหุ้นโดยใช้การวิเคราะห์ปัจจัยพื้นฐาน การเสริมการวิเคราะห์ปัจจัยพื้นฐานด้วย AI ความสัมพันธ์ระหว่างผู้เล่นรายใหญ่และ Open Interest (OI) ข้อมูลเชิงลึกจาก COT Data เพื่อติดตามผู้เล่นรายใหญ่ในตลาดฟิวเจอร์สและออปชั่น การระบุเมื่อ OI ของออปชั่นพุ่งสูงขึ้นเนื่องจากการซื้อของผู้เล่นรายใหญ่ ประเภทของผู้เข้าร่วมตลาดหลัก การใช้ความสัมพันธ์เพื่อค้นหาโอกาสในการลงทุน ความสำคัญของข้อมูลในโลกคริปโต และการสำรวจข้อมูลคริปโตที่หลากหลาย เช่น ข้อมูลออนเชน อนุพันธ์ และข้อมูลตลาด',\n",
       "  'retrieval_context': None},\n",
       " {'input': 'Quant Offside 3X ช่วยเพิ่มประสิทธิภาพการซื้อขายด้วย Market Breadth, AI และการวิเคราะห์ปัจจัยพื้นฐานอย่างไร?',\n",
       "  'expected_output': 'Quant Offside 3X ช่วยเพิ่มประสิทธิภาพการซื้อขายโดยใช้ Market Breadth เพื่อกรองตลาด, ผสาน AI เพื่อทำให้กระบวนการวิเคราะห์ปัจจัยพื้นฐานง่ายขึ้น, และให้ข้อมูลเชิงลึกเกี่ยวกับรูปแบบตลาดหุ้นในอดีต เครื่องมือและเทคนิคเหล่านี้ช่วยให้ผู้ค้าตัดสินใจโดยอิงจากข้อมูลและพัฒนาระบบการซื้อขายที่มีประสิทธิภาพ',\n",
       "  'retrieval_context': None},\n",
       " {'input': 'อธิบายว่าแนวทางของ TFEX Wkshop ที่ใช้ Bollinger Bands มีเป้าหมายเพื่อให้ได้อัตราการชนะ 100% อย่างไร',\n",
       "  'expected_output': 'เวิร์กช็อป TFEX มีเป้าหมายเพื่อให้ได้อัตราการชนะ 100% โดยการสอนผู้เข้าร่วมให้ใช้กลยุทธ์ Bollinger Band Panic Sell อย่างมีประสิทธิภาพ ซึ่งรวมถึงการระบุจุดกลับตัวของแนวโน้มและการจับจุดต่ำสุดของตลาดอย่างแม่นยำ ตามที่แสดงในสถานการณ์จริงและตัวอย่างที่ปฏิบัติได้',\n",
       "  'retrieval_context': None},\n",
       " {'input': 'สำรวจกลยุทธ์ในการระบุภาคส่วนบล็อกเชนที่มีแนวโน้มขยายตัวในตลาดอย่างรวดเร็ว',\n",
       "  'expected_output': \"เพื่อระบุภาคส่วนบล็อกเชนที่มีแนวโน้มขยายตัวในตลาดอย่างรวดเร็ว ควรมุ่งเน้นการวิเคราะห์ภาคส่วนต่างๆ เช่น บล็อกเชน, DeFi, โครงสร้างพื้นฐาน, เมตาเวิร์ส และ RWA ทำความเข้าใจแนวโน้มและผู้เล่นหลักในอุตสาหกรรมเหล่านี้ ระบุ 'ผู้เคลื่อนไหวแรก' ที่อาจนำแนวโน้มใหม่ และประเมินเหรียญที่มีศักยภาพในการเติบโตอย่างมาก เช่น เหรียญที่มีศักยภาพเติบโต 10 เท่า ใช้วิธีการที่เป็นระบบในการเลือกสินทรัพย์และจัดการพอร์ตโฟลิโอที่หลากหลายเพื่อเพิ่มผลตอบแทนสูงสุด ตามที่สอนในเวิร์กช็อปคริปโตโดยนักวิเคราะห์เช่นจาก Cryptomind Research\",\n",
       "  'retrieval_context': None},\n",
       " {'input': 'วิเคราะห์กลยุทธ์ใน Quant Offside 3X สำหรับการสร้างนวัตกรรมในการจัดการกองทุนเฮดจ์ฟันด์ที่ขับเคลื่อนด้วย AI อย่างไร',\n",
       "  'expected_output': 'Quant Offside 3X สำรวจกลยุทธ์ขั้นสูงที่สามารถสร้างแรงบันดาลใจในการสร้างนวัตกรรมในการจัดการกองทุนเฮดจ์ฟันด์ที่ขับเคลื่อนด้วย AI หลักสูตรนี้เน้นการซื้อขายที่ขับเคลื่อนด้วยข้อมูลและการลงทุนด้วย AI โดยให้ข้อมูลเชิงลึกเกี่ยวกับเทคนิคต่างๆ เช่น Market Breadth สำหรับการกรองตลาด การวิเคราะห์พฤติกรรมหุ้นที่แข็งแกร่งกว่าตลาด และการใช้ AI เพื่อทำให้การวิเคราะห์พื้นฐานง่ายขึ้น นอกจากนี้ยังครอบคลุมถึงความสำคัญของข้อมูล Commitment of Traders (COT), Option Open Interest และความสัมพันธ์ในการระบุโอกาสในการลงทุน กลยุทธ์เหล่านี้นำเสนอเครื่องมือที่ครอบคลุมสำหรับนวัตกรรมการจัดการกองทุนเฮดจ์ฟันด์ผ่านการบูรณาการ AI',\n",
       "  'retrieval_context': None},\n",
       " {'input': 'ข้อมูลเชิงลึกเกี่ยวกับการลงทุนใน AI และข้อมูลตลาดคริปโตที่เกิดขึ้นจากสัมมนา Quant Offside 3X คืออะไร?',\n",
       "  'expected_output': 'สัมมนา Quant Offside 3X เน้นการบูรณาการ AI ในการทำให้การวิเคราะห์พื้นฐานสำหรับการลงทุนง่ายขึ้น และเน้นความสำคัญของประเภทข้อมูลที่หลากหลายในตลาดคริปโต ซึ่งรวมถึงข้อมูล Onchain, Derivative และ Market Data ที่มีความสำคัญในการได้รับข้อมูลเชิงลึกและระบุโอกาสในการลงทุนในภูมิทัศน์คริปโตที่เปลี่ยนแปลงอย่างรวดเร็ว',\n",
       "  'retrieval_context': None},\n",
       " {'input': 'ในเวิร์กช็อปคริปโตโดย PK’s Trading Diary และ Cryptomind Research มีจุดเน้นในการเรียนรู้พื้นฐานของการลงทุนในคริปโต การเลือกเหรียญที่มีโอกาสเติบโต 10 เท่า การวิเคราะห์ภาคส่วน และการจัดการพอร์ตโฟลิโออย่างมั่นใจอย่างไรบ้าง?',\n",
       "  'expected_output': 'ในเวิร์กช็อปคริปโตโดย PK’s Trading Diary และ Cryptomind Research จุดเน้นรวมถึงการเรียนรู้พื้นฐานของการลงทุนในคริปโต การเข้าใจวงจรของบิทคอยน์ การเชี่ยวชาญวิธีการเลือกเหรียญที่มีศักยภาพเติบโต 10 เท่า การวิเคราะห์ภาคส่วนและแนวโน้มอุตสาหกรรมต่าง ๆ เช่น บล็อกเชน, DeFi, โครงสร้างพื้นฐาน และเมตาเวิร์ส และการจัดการพอร์ตโฟลิโออย่างมั่นใจด้วยกลยุทธ์การจัดสรรเงินทุนและการจัดการความเสี่ยง',\n",
       "  'retrieval_context': None},\n",
       " {'input': 'ลองจินตนาการถึงสถานการณ์การซื้อขายที่ Bollinger Band Market Breadth สามารถทำนายการกลับตัวของแนวโน้ม TFEX ได้อย่างแม่นยำ กลยุทธ์เหล่านี้มีประสิทธิภาพเพียงใดในการสร้างชัยชนะอย่างต่อเนื่อง?',\n",
       "  'expected_output': 'กลยุทธ์การใช้ Bollinger Band Market Breadth ในการประชุมเชิงปฏิบัติการ TFEX มีประสิทธิภาพสูงในการสร้างชัยชนะอย่างต่อเนื่อง เนื่องจากเน้นการบรรลุอัตราการชนะ 100% วิธีการนี้ช่วยให้เทรดเดอร์สามารถระบุจุดกลับตัวของแนวโน้มและจับจุดต่ำสุดของตลาดได้ ซึ่งจะเพิ่มโอกาสในการประสบความสำเร็จอย่างต่อเนื่องในการซื้อขาย',\n",
       "  'retrieval_context': None}]"
      ]
     },
     "execution_count": 7,
     "metadata": {},
     "output_type": "execute_result"
    }
   ],
   "source": [
    "translated_goldens"
   ]
  },
  {
   "cell_type": "code",
   "execution_count": 9,
   "id": "01fc9f8c",
   "metadata": {},
   "outputs": [
    {
     "name": "stdout",
     "output_type": "stream",
     "text": [
      "\n",
      "ขั้นตอนที่ 3: กำลังบันทึกชุดข้อมูลภาษาไทย...\n",
      "บันทึกชุดข้อมูลภาษาไทยเสร็จสิ้นที่: data/evaluation/golder_dataset_v2.json\n"
     ]
    }
   ],
   "source": [
    "# ===================================================================\n",
    "# ขั้นตอนที่ 3: บันทึกชุดข้อมูลภาษาไทยเป็นไฟล์ JSON\n",
    "# ===================================================================\n",
    "print(\"\\nขั้นตอนที่ 3: กำลังบันทึกชุดข้อมูลภาษาไทย...\")\n",
    "output_file_path = \"data/evaluation/golder_dataset_v2.json\"\n",
    "\n",
    "os.makedirs(os.path.dirname(output_file_path), exist_ok=True)\n",
    "\n",
    "with open(output_file_path, \"w\", encoding=\"utf-8\") as f:\n",
    "    json.dump(translated_goldens, f, ensure_ascii=False, indent=4)\n",
    "\n",
    "print(f\"บันทึกชุดข้อมูลภาษาไทยเสร็จสิ้นที่: {output_file_path}\")"
   ]
  },
  {
   "cell_type": "code",
   "execution_count": null,
   "id": "4e1b85bd",
   "metadata": {},
   "outputs": [],
   "source": []
  }
 ],
 "metadata": {
  "kernelspec": {
   "display_name": ".venv",
   "language": "python",
   "name": "python3"
  },
  "language_info": {
   "codemirror_mode": {
    "name": "ipython",
    "version": 3
   },
   "file_extension": ".py",
   "mimetype": "text/x-python",
   "name": "python",
   "nbconvert_exporter": "python",
   "pygments_lexer": "ipython3",
   "version": "3.12.8"
  }
 },
 "nbformat": 4,
 "nbformat_minor": 5
}
