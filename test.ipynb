{
 "cells": [
  {
   "cell_type": "code",
   "execution_count": 11,
   "id": "dd4a0bcf",
   "metadata": {},
   "outputs": [
    {
     "name": "stdout",
     "output_type": "stream",
     "text": [
      "🧠 Thinking...\n",
      "🤖 สวัสดีครับ คอรส \"จับมือเทรดด้วย Quant Data\" มีราคาเพียง 3,599 บาทครับ โดยคอรสนี้จะทำให้คุณเห็นภาพกว้างมากขึ้นในการเทรดด้วยข้อมูล Quant และกลยุทธ์การเทรดครับ หากมีข้อสงสัยเพิ่มเติมหรือต้องการข้อมูลเพิ่มเติม กรุณาแจ้งให้ทราบครับ ขอบคุณครับ.\n"
     ]
    }
   ],
   "source": [
    "from src.components.ragchain_runner import RAGChainRunner\n",
    "from src.utils.app_config import AppConfig\n",
    "from src.utils.mlflow_tracker import MLflowTracker \n",
    " \n",
    "def main() -> None:\n",
    "    cfg = AppConfig.from_files(\"configs/model_config.yaml\", \"config.yaml\")\n",
    "    with MLflowTracker(run_name=\"rag_run\") as tracker:\n",
    "        rag = RAGChainRunner(cfg, mlflow_tracker=tracker)\n",
    "        question = input(\"💬 Question: \")\n",
    "        print(\"🧠 Thinking...\")\n",
    "        answer = rag.answer(question)\n",
    "        print(\"🤖\", answer)\n",
    "\n",
    "\n",
    "if __name__ == \"__main__\":  # pragma: no cover\n",
    "    main()\n",
    "\n",
    "\n",
    "  "
   ]
  }
 ],
 "metadata": {
  "kernelspec": {
   "display_name": ".venv",
   "language": "python",
   "name": "python3"
  },
  "language_info": {
   "codemirror_mode": {
    "name": "ipython",
    "version": 3
   },
   "file_extension": ".py",
   "mimetype": "text/x-python",
   "name": "python",
   "nbconvert_exporter": "python",
   "pygments_lexer": "ipython3",
   "version": "3.12.8"
  }
 },
 "nbformat": 4,
 "nbformat_minor": 5
}
